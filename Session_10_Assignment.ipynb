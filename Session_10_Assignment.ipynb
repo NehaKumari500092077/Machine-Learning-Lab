{
  "nbformat": 4,
  "nbformat_minor": 0,
  "metadata": {
    "colab": {
      "provenance": [],
      "authorship_tag": "ABX9TyPz61CzG+EaP/9xrLyHeDx1",
      "include_colab_link": true
    },
    "kernelspec": {
      "name": "python3",
      "display_name": "Python 3"
    },
    "language_info": {
      "name": "python"
    }
  },
  "cells": [
    {
      "cell_type": "markdown",
      "metadata": {
        "id": "view-in-github",
        "colab_type": "text"
      },
      "source": [
        "<a href=\"https://colab.research.google.com/github/NehaKumari500092077/Machine-Learning-Lab/blob/main/Session_10_Assignment.ipynb\" target=\"_parent\"><img src=\"https://colab.research.google.com/assets/colab-badge.svg\" alt=\"Open In Colab\"/></a>"
      ]
    },
    {
      "cell_type": "markdown",
      "source": [
        "## **LAB Assignment 9**"
      ],
      "metadata": {
        "id": "gkGPheniLJfk"
      }
    },
    {
      "cell_type": "markdown",
      "source": [
        "### <font color='blue'> Task - 1 [Marks 0] </font>:\n",
        "Load and preprocess the UCI [Vehicle silhouettes](https://archive.ics.uci.edu/dataset/149/statlog+vehicle+silhouettes) - there are 18 features in this dataset"
      ],
      "metadata": {
        "id": "A0RufCqELcJ-"
      }
    },
    {
      "cell_type": "code",
      "source": [
        "pip install ucimlrepo"
      ],
      "metadata": {
        "colab": {
          "base_uri": "https://localhost:8080/"
        },
        "id": "pwPkN6HEMCO2",
        "outputId": "bc30865e-e136-4323-9e1c-063aa241c044"
      },
      "execution_count": 1,
      "outputs": [
        {
          "output_type": "stream",
          "name": "stdout",
          "text": [
            "Collecting ucimlrepo\n",
            "  Downloading ucimlrepo-0.0.7-py3-none-any.whl.metadata (5.5 kB)\n",
            "Requirement already satisfied: pandas>=1.0.0 in /usr/local/lib/python3.10/dist-packages (from ucimlrepo) (2.2.2)\n",
            "Requirement already satisfied: certifi>=2020.12.5 in /usr/local/lib/python3.10/dist-packages (from ucimlrepo) (2024.8.30)\n",
            "Requirement already satisfied: numpy>=1.22.4 in /usr/local/lib/python3.10/dist-packages (from pandas>=1.0.0->ucimlrepo) (1.26.4)\n",
            "Requirement already satisfied: python-dateutil>=2.8.2 in /usr/local/lib/python3.10/dist-packages (from pandas>=1.0.0->ucimlrepo) (2.8.2)\n",
            "Requirement already satisfied: pytz>=2020.1 in /usr/local/lib/python3.10/dist-packages (from pandas>=1.0.0->ucimlrepo) (2024.2)\n",
            "Requirement already satisfied: tzdata>=2022.7 in /usr/local/lib/python3.10/dist-packages (from pandas>=1.0.0->ucimlrepo) (2024.2)\n",
            "Requirement already satisfied: six>=1.5 in /usr/local/lib/python3.10/dist-packages (from python-dateutil>=2.8.2->pandas>=1.0.0->ucimlrepo) (1.16.0)\n",
            "Downloading ucimlrepo-0.0.7-py3-none-any.whl (8.0 kB)\n",
            "Installing collected packages: ucimlrepo\n",
            "Successfully installed ucimlrepo-0.0.7\n"
          ]
        }
      ]
    },
    {
      "cell_type": "code",
      "source": [
        "from ucimlrepo import fetch_ucirepo\n",
        "\n",
        "# fetch dataset\n",
        "statlog_vehicle_silhouettes = fetch_ucirepo(id=149)\n",
        "\n",
        "# data (as pandas dataframes)\n",
        "X = statlog_vehicle_silhouettes.data.features\n",
        "y = statlog_vehicle_silhouettes.data.targets\n",
        "\n",
        "# metadata\n",
        "print(statlog_vehicle_silhouettes.metadata)\n",
        "\n",
        "# variable information\n",
        "print(statlog_vehicle_silhouettes.variables)\n"
      ],
      "metadata": {
        "colab": {
          "base_uri": "https://localhost:8080/"
        },
        "id": "ZWaQ-gp_MZ-u",
        "outputId": "09887d1b-7225-4628-8054-81cbd89fb690"
      },
      "execution_count": 2,
      "outputs": [
        {
          "output_type": "stream",
          "name": "stdout",
          "text": [
            "{'uci_id': 149, 'name': 'Statlog (Vehicle Silhouettes)', 'repository_url': 'https://archive.ics.uci.edu/dataset/149/statlog+vehicle+silhouettes', 'data_url': 'https://archive.ics.uci.edu/static/public/149/data.csv', 'abstract': '3D objects within a 2D image by application of an ensemble of shape feature extractors to the 2D silhouettes of the objects.', 'area': 'Other', 'tasks': ['Classification'], 'characteristics': ['Multivariate'], 'num_instances': 946, 'num_features': 18, 'feature_types': ['Integer'], 'demographics': [], 'target_col': ['class'], 'index_col': None, 'has_missing_values': 'no', 'missing_values_symbol': None, 'year_of_dataset_creation': None, 'last_updated': 'Fri Feb 16 2024', 'dataset_doi': '10.24432/C5HG6N', 'creators': ['Pete Mowforth', 'Barry Shepherd'], 'intro_paper': {'ID': 393, 'type': 'NATIVE', 'title': 'Vehicle Recognition Using Rule Based Methods', 'authors': 'J. Siebert', 'venue': 'Turing Institute', 'year': 1987, 'journal': None, 'DOI': None, 'URL': 'https://www.semanticscholar.org/paper/Vehicle-Recognition-Using-Rule-Based-Methods-Siebert/79f058f5890760223f2298a6c512af63a2bc251b', 'sha': None, 'corpus': None, 'arxiv': None, 'mag': None, 'acl': None, 'pmid': None, 'pmcid': None}, 'additional_info': {'summary': 'The purpose is to classify a given silhouette as one of four types of vehicle, using  a set of features extracted from the silhouette. The vehicle may be viewed from one of many different angles.  \\r\\n\\r\\nHISTORY:\\r\\n\\r\\nThis data was originally gathered at the TI in 1986-87 by JP Siebert. It was partially financed by Barr and Stroud Ltd. The original purpose was to find a method of distinguishing 3D objects within a 2D image by application of an ensemble of shape feature extractors to the 2D silhouettes of the objects. Measures of shape features extracted from example silhouettes of objects to be discriminated were used to generate a classification rule tree by means of computer induction.\\r\\n\\r\\nThis object recognition strategy was successfully used to discriminate between silhouettes of model cars, vans and buses viewed from constrained elevation but all angles of rotation.\\r\\n\\r\\nThe rule tree classification performance compared favourably to MDC (Minimum Distance Classifier) and k-NN (k-Nearest Neighbour) statistical classifiers in terms of both error rate and computational efficiency. An investigation of these rule trees generated by example indicated that the tree structure was heavily influenced by the orientation of the objects, and grouped similar object views into single decisions.\\r\\n\\r\\n\\r\\nDESCRIPTION:\\r\\n\\r\\nThe features were extracted from the silhouettes by the HIPS (Hierarchical Image Processing System) extension BINATTS, which extracts a combination of scale independent features utilising both classical moments based measures such as scaled variance, skewness and kurtosis about the major/minor axes and heuristic measures such as hollows, circularity, rectangularity and compactness.\\r\\n\\r\\nFour \"Corgie\" model vehicles were used for the experiment: a double decker bus, Cheverolet van, Saab 9000 and an Opel Manta 400. This particular combination of vehicles was chosen with the expectation that the bus, van and either one of the cars would be readily distinguishable, but it would be more difficult to distinguish between the cars.\\r\\n\\r\\nThe images were acquired by a camera looking downwards at the model vehicle from a fixed angle of elevation (34.2 degrees to the horizontal). The vehicles were placed on a diffuse backlit surface (lightbox). The vehicles were painted matte black to minimise highlights. The images were captured using a CRS4000 framestore connected to a vax 750. All images were captured with a spatial resolution of 128x128 pixels quantised to 64 greylevels. These images were thresholded to produce binary vehicle silhouettes, negated (to comply with the processing requirements of BINATTS) and thereafter subjected to shrink-expand-expand-shrink HIPS modules to remove \"salt and pepper\" image noise.\\r\\n\\r\\nThe vehicles were rotated and their angle of orientation was measured using a radial graticule beneath the vehicle. 0 and 180 degrees corresponded to \"head on\" and \"rear\" views respectively while 90 and 270 corresponded to profiles in opposite directions. Two sets of 60 images, each set covering a full 360 degree rotation, were captured for each vehicle. The vehicle was rotated by a fixed angle between images. These datasets are known as e2 and e3 respectively.\\r\\n\\r\\n A further two sets of images, e4 and e5, were captured with the camera at elevations of 37.5 degs and 30.8 degs respectively. These sets also contain 60 images per vehicle apart from e4.van which contains only 46 owing to the difficulty of containing the van in the image at some orientations.\\r\\n', 'purpose': None, 'funded_by': None, 'instances_represent': None, 'recommended_data_splits': None, 'sensitive_data': None, 'preprocessing_description': None, 'variable_info': 'ATTRIBUTES\\r\\n\\t\\r\\n\\tCOMPACTNESS\\t(average perim)**2/area\\r\\n\\t\\r\\n\\tCIRCULARITY\\t(average radius)**2/area\\r\\n\\t\\r\\n\\tDISTANCE CIRCULARITY\\tarea/(av.distance from border)**2\\r\\n\\t\\r\\n\\tRADIUS RATIO\\t(max.rad-min.rad)/av.radius\\r\\n\\t\\r\\n\\tPR.AXIS ASPECT RATIO\\t(minor axis)/(major axis)\\r\\n\\t\\r\\n\\tMAX.LENGTH ASPECT RATIO\\t(length perp. max length)/(max length)\\r\\n\\t\\r\\n\\tSCATTER RATIO\\t(inertia about minor axis)/(inertia about major axis)\\r\\n\\t\\r\\n\\tELONGATEDNESS\\t\\tarea/(shrink width)**2\\r\\n\\t\\r\\n\\tPR.AXIS RECTANGULARITY\\tarea/(pr.axis length*pr.axis width)\\r\\n\\t\\r\\n\\tMAX.LENGTH RECTANGULARITY area/(max.length*length perp. to this)\\r\\n\\t\\r\\n\\tSCALED VARIANCE \\t(2nd order moment about minor axis)/area\\r\\n\\tALONG MAJOR AXIS\\r\\n\\t\\r\\n\\tSCALED VARIANCE \\t(2nd order moment about major axis)/area\\r\\n\\tALONG MINOR AXIS \\r\\n\\t\\r\\n\\tSCALED RADIUS OF GYRATION\\t(mavar+mivar)/area\\r\\n\\t\\r\\n\\tSKEWNESS ABOUT \\t(3rd order moment about major axis)/sigma_min**3\\r\\n\\tMAJOR AXIS\\r\\n\\t\\r\\n\\tSKEWNESS ABOUT \\t(3rd order moment about minor axis)/sigma_maj**3\\r\\n\\tMINOR AXIS\\r\\n\\t  \\t\\r\\n\\tKURTOSIS ABOUT \\t(4th order moment about major axis)/sigma_min**4\\r\\n\\tMINOR AXIS  \\r\\n\\t  \\t\\r\\n\\tKURTOSIS ABOUT \\t(4th order moment about minor axis)/sigma_maj**4\\r\\n\\tMAJOR AXIS\\r\\n\\t\\r\\n\\tHOLLOWS RATIO\\t(area of hollows)/(area of bounding polygon)\\r\\n\\t\\r\\n\\t Where sigma_maj**2 is the variance along the major axis and sigma_min**2 is the variance along the minor axis, and\\r\\n\\t\\r\\n\\tarea of hollows= area of bounding poly-area of object \\r\\n\\t\\r\\n\\t The area of the bounding polygon is found as a side result of the computation to find the maximum length. Each individual length computation yields a pair of calipers to the object orientated at every 5 degrees. The object is propagated into an image containing the union of these calipers to obtain an image of the bounding polygon. \\r\\n\\t\\r\\nNUMBER OF CLASSES\\r\\n\\r\\n\\t4\\tOPEL, SAAB, BUS, VAN\\r\\n', 'citation': None}}\n",
            "                                name     role         type demographic  \\\n",
            "0                        COMPACTNESS  Feature      Integer        None   \n",
            "1                        CIRCULARITY  Feature      Integer        None   \n",
            "2               DISTANCE CIRCULARITY  Feature      Integer        None   \n",
            "3                       RADIUS RATIO  Feature      Integer        None   \n",
            "4               PR.AXIS ASPECT RATIO  Feature      Integer        None   \n",
            "5            MAX.LENGTH ASPECT RATIO  Feature      Integer        None   \n",
            "6                      SCATTER RATIO  Feature      Integer        None   \n",
            "7                      ELONGATEDNESS  Feature      Integer        None   \n",
            "8             PR.AXIS RECTANGULARITY  Feature      Integer        None   \n",
            "9          MAX.LENGTH RECTANGULARITY  Feature      Integer        None   \n",
            "10  SCALED VARIANCE ALONG MAJOR AXIS  Feature      Integer        None   \n",
            "11  SCALED VARIANCE ALONG MINOR AXIS  Feature      Integer        None   \n",
            "12         SCALED RADIUS OF GYRATION  Feature      Integer        None   \n",
            "13         SKEWNESS ABOUT MAJOR AXIS  Feature      Integer        None   \n",
            "14         SKEWNESS ABOUT MINOR AXIS  Feature      Integer        None   \n",
            "15         KURTOSIS ABOUT MINOR AXIS  Feature      Integer        None   \n",
            "16         KURTOSIS ABOUT MAJOR AXIS  Feature      Integer        None   \n",
            "17                     HOLLOWS RATIO  Feature      Integer        None   \n",
            "18                             class   Target  Categorical        None   \n",
            "\n",
            "   description units missing_values  \n",
            "0         None  None             no  \n",
            "1         None  None             no  \n",
            "2         None  None             no  \n",
            "3         None  None             no  \n",
            "4         None  None             no  \n",
            "5         None  None             no  \n",
            "6         None  None             no  \n",
            "7         None  None             no  \n",
            "8         None  None             no  \n",
            "9         None  None             no  \n",
            "10        None  None             no  \n",
            "11        None  None             no  \n",
            "12        None  None             no  \n",
            "13        None  None             no  \n",
            "14        None  None             no  \n",
            "15        None  None             no  \n",
            "16        None  None             no  \n",
            "17        None  None             no  \n",
            "18        None  None             no  \n"
          ]
        }
      ]
    },
    {
      "cell_type": "code",
      "source": [
        "import pandas as pd\n",
        "import numpy as np\n",
        "import matplotlib.pyplot as plt\n",
        "from sklearn.model_selection import train_test_split"
      ],
      "metadata": {
        "id": "9h50nJemMf8t"
      },
      "execution_count": 17,
      "outputs": []
    },
    {
      "cell_type": "code",
      "source": [
        "dataset = pd.read_csv('https://archive.ics.uci.edu/static/public/149/data.csv')"
      ],
      "metadata": {
        "id": "3uWebCbtMjVv"
      },
      "execution_count": 5,
      "outputs": []
    },
    {
      "cell_type": "code",
      "source": [
        "dataset.info()"
      ],
      "metadata": {
        "colab": {
          "base_uri": "https://localhost:8080/"
        },
        "id": "kk2vbCpcNQ5t",
        "outputId": "abf43391-8484-4c46-ab81-24725b317e02"
      },
      "execution_count": 8,
      "outputs": [
        {
          "output_type": "stream",
          "name": "stdout",
          "text": [
            "<class 'pandas.core.frame.DataFrame'>\n",
            "RangeIndex: 846 entries, 0 to 845\n",
            "Data columns (total 19 columns):\n",
            " #   Column                            Non-Null Count  Dtype  \n",
            "---  ------                            --------------  -----  \n",
            " 0   COMPACTNESS                       845 non-null    float64\n",
            " 1   CIRCULARITY                       846 non-null    int64  \n",
            " 2   DISTANCE CIRCULARITY              846 non-null    int64  \n",
            " 3   RADIUS RATIO                      846 non-null    int64  \n",
            " 4   PR.AXIS ASPECT RATIO              846 non-null    int64  \n",
            " 5   MAX.LENGTH ASPECT RATIO           846 non-null    int64  \n",
            " 6   SCATTER RATIO                     846 non-null    int64  \n",
            " 7   ELONGATEDNESS                     846 non-null    int64  \n",
            " 8   PR.AXIS RECTANGULARITY            846 non-null    int64  \n",
            " 9   MAX.LENGTH RECTANGULARITY         846 non-null    int64  \n",
            " 10  SCALED VARIANCE ALONG MAJOR AXIS  846 non-null    int64  \n",
            " 11  SCALED VARIANCE ALONG MINOR AXIS  846 non-null    int64  \n",
            " 12  SCALED RADIUS OF GYRATION         846 non-null    int64  \n",
            " 13  SKEWNESS ABOUT MAJOR AXIS         846 non-null    int64  \n",
            " 14  SKEWNESS ABOUT MINOR AXIS         846 non-null    int64  \n",
            " 15  KURTOSIS ABOUT MINOR AXIS         846 non-null    int64  \n",
            " 16  KURTOSIS ABOUT MAJOR AXIS         846 non-null    int64  \n",
            " 17  HOLLOWS RATIO                     846 non-null    int64  \n",
            " 18  class                             846 non-null    object \n",
            "dtypes: float64(1), int64(17), object(1)\n",
            "memory usage: 125.7+ KB\n"
          ]
        }
      ]
    },
    {
      "cell_type": "code",
      "source": [
        "dataset.head()"
      ],
      "metadata": {
        "colab": {
          "base_uri": "https://localhost:8080/",
          "height": 296
        },
        "id": "_dQdV2mBMyY_",
        "outputId": "5b98a0af-da02-44e0-8824-26beb86608ac"
      },
      "execution_count": 7,
      "outputs": [
        {
          "output_type": "execute_result",
          "data": {
            "text/plain": [
              "   COMPACTNESS  CIRCULARITY  DISTANCE CIRCULARITY  RADIUS RATIO  \\\n",
              "0         95.0           48                    83           178   \n",
              "1         91.0           41                    84           141   \n",
              "2        104.0           50                   106           209   \n",
              "3         93.0           41                    82           159   \n",
              "4         85.0           44                    70           205   \n",
              "\n",
              "   PR.AXIS ASPECT RATIO  MAX.LENGTH ASPECT RATIO  SCATTER RATIO  \\\n",
              "0                    72                       10            162   \n",
              "1                    57                        9            149   \n",
              "2                    66                       10            207   \n",
              "3                    63                        9            144   \n",
              "4                   103                       52            149   \n",
              "\n",
              "   ELONGATEDNESS  PR.AXIS RECTANGULARITY  MAX.LENGTH RECTANGULARITY  \\\n",
              "0             42                      20                        159   \n",
              "1             45                      19                        143   \n",
              "2             32                      23                        158   \n",
              "3             46                      19                        143   \n",
              "4             45                      19                        144   \n",
              "\n",
              "   SCALED VARIANCE ALONG MAJOR AXIS  SCALED VARIANCE ALONG MINOR AXIS  \\\n",
              "0                               176                               379   \n",
              "1                               170                               330   \n",
              "2                               223                               635   \n",
              "3                               160                               309   \n",
              "4                               241                               325   \n",
              "\n",
              "   SCALED RADIUS OF GYRATION  SKEWNESS ABOUT MAJOR AXIS  \\\n",
              "0                        184                         70   \n",
              "1                        158                         72   \n",
              "2                        220                         73   \n",
              "3                        127                         63   \n",
              "4                        188                        127   \n",
              "\n",
              "   SKEWNESS ABOUT MINOR AXIS  KURTOSIS ABOUT MINOR AXIS  \\\n",
              "0                          6                         16   \n",
              "1                          9                         14   \n",
              "2                         14                          9   \n",
              "3                          6                         10   \n",
              "4                          9                         11   \n",
              "\n",
              "   KURTOSIS ABOUT MAJOR AXIS  HOLLOWS RATIO class  \n",
              "0                        187            197   van  \n",
              "1                        189            199   van  \n",
              "2                        188            196  saab  \n",
              "3                        199            207   van  \n",
              "4                        180            183   bus  "
            ],
            "text/html": [
              "\n",
              "  <div id=\"df-1bd01585-c72d-4ca4-acdf-2264eafa6737\" class=\"colab-df-container\">\n",
              "    <div>\n",
              "<style scoped>\n",
              "    .dataframe tbody tr th:only-of-type {\n",
              "        vertical-align: middle;\n",
              "    }\n",
              "\n",
              "    .dataframe tbody tr th {\n",
              "        vertical-align: top;\n",
              "    }\n",
              "\n",
              "    .dataframe thead th {\n",
              "        text-align: right;\n",
              "    }\n",
              "</style>\n",
              "<table border=\"1\" class=\"dataframe\">\n",
              "  <thead>\n",
              "    <tr style=\"text-align: right;\">\n",
              "      <th></th>\n",
              "      <th>COMPACTNESS</th>\n",
              "      <th>CIRCULARITY</th>\n",
              "      <th>DISTANCE CIRCULARITY</th>\n",
              "      <th>RADIUS RATIO</th>\n",
              "      <th>PR.AXIS ASPECT RATIO</th>\n",
              "      <th>MAX.LENGTH ASPECT RATIO</th>\n",
              "      <th>SCATTER RATIO</th>\n",
              "      <th>ELONGATEDNESS</th>\n",
              "      <th>PR.AXIS RECTANGULARITY</th>\n",
              "      <th>MAX.LENGTH RECTANGULARITY</th>\n",
              "      <th>SCALED VARIANCE ALONG MAJOR AXIS</th>\n",
              "      <th>SCALED VARIANCE ALONG MINOR AXIS</th>\n",
              "      <th>SCALED RADIUS OF GYRATION</th>\n",
              "      <th>SKEWNESS ABOUT MAJOR AXIS</th>\n",
              "      <th>SKEWNESS ABOUT MINOR AXIS</th>\n",
              "      <th>KURTOSIS ABOUT MINOR AXIS</th>\n",
              "      <th>KURTOSIS ABOUT MAJOR AXIS</th>\n",
              "      <th>HOLLOWS RATIO</th>\n",
              "      <th>class</th>\n",
              "    </tr>\n",
              "  </thead>\n",
              "  <tbody>\n",
              "    <tr>\n",
              "      <th>0</th>\n",
              "      <td>95.0</td>\n",
              "      <td>48</td>\n",
              "      <td>83</td>\n",
              "      <td>178</td>\n",
              "      <td>72</td>\n",
              "      <td>10</td>\n",
              "      <td>162</td>\n",
              "      <td>42</td>\n",
              "      <td>20</td>\n",
              "      <td>159</td>\n",
              "      <td>176</td>\n",
              "      <td>379</td>\n",
              "      <td>184</td>\n",
              "      <td>70</td>\n",
              "      <td>6</td>\n",
              "      <td>16</td>\n",
              "      <td>187</td>\n",
              "      <td>197</td>\n",
              "      <td>van</td>\n",
              "    </tr>\n",
              "    <tr>\n",
              "      <th>1</th>\n",
              "      <td>91.0</td>\n",
              "      <td>41</td>\n",
              "      <td>84</td>\n",
              "      <td>141</td>\n",
              "      <td>57</td>\n",
              "      <td>9</td>\n",
              "      <td>149</td>\n",
              "      <td>45</td>\n",
              "      <td>19</td>\n",
              "      <td>143</td>\n",
              "      <td>170</td>\n",
              "      <td>330</td>\n",
              "      <td>158</td>\n",
              "      <td>72</td>\n",
              "      <td>9</td>\n",
              "      <td>14</td>\n",
              "      <td>189</td>\n",
              "      <td>199</td>\n",
              "      <td>van</td>\n",
              "    </tr>\n",
              "    <tr>\n",
              "      <th>2</th>\n",
              "      <td>104.0</td>\n",
              "      <td>50</td>\n",
              "      <td>106</td>\n",
              "      <td>209</td>\n",
              "      <td>66</td>\n",
              "      <td>10</td>\n",
              "      <td>207</td>\n",
              "      <td>32</td>\n",
              "      <td>23</td>\n",
              "      <td>158</td>\n",
              "      <td>223</td>\n",
              "      <td>635</td>\n",
              "      <td>220</td>\n",
              "      <td>73</td>\n",
              "      <td>14</td>\n",
              "      <td>9</td>\n",
              "      <td>188</td>\n",
              "      <td>196</td>\n",
              "      <td>saab</td>\n",
              "    </tr>\n",
              "    <tr>\n",
              "      <th>3</th>\n",
              "      <td>93.0</td>\n",
              "      <td>41</td>\n",
              "      <td>82</td>\n",
              "      <td>159</td>\n",
              "      <td>63</td>\n",
              "      <td>9</td>\n",
              "      <td>144</td>\n",
              "      <td>46</td>\n",
              "      <td>19</td>\n",
              "      <td>143</td>\n",
              "      <td>160</td>\n",
              "      <td>309</td>\n",
              "      <td>127</td>\n",
              "      <td>63</td>\n",
              "      <td>6</td>\n",
              "      <td>10</td>\n",
              "      <td>199</td>\n",
              "      <td>207</td>\n",
              "      <td>van</td>\n",
              "    </tr>\n",
              "    <tr>\n",
              "      <th>4</th>\n",
              "      <td>85.0</td>\n",
              "      <td>44</td>\n",
              "      <td>70</td>\n",
              "      <td>205</td>\n",
              "      <td>103</td>\n",
              "      <td>52</td>\n",
              "      <td>149</td>\n",
              "      <td>45</td>\n",
              "      <td>19</td>\n",
              "      <td>144</td>\n",
              "      <td>241</td>\n",
              "      <td>325</td>\n",
              "      <td>188</td>\n",
              "      <td>127</td>\n",
              "      <td>9</td>\n",
              "      <td>11</td>\n",
              "      <td>180</td>\n",
              "      <td>183</td>\n",
              "      <td>bus</td>\n",
              "    </tr>\n",
              "  </tbody>\n",
              "</table>\n",
              "</div>\n",
              "    <div class=\"colab-df-buttons\">\n",
              "\n",
              "  <div class=\"colab-df-container\">\n",
              "    <button class=\"colab-df-convert\" onclick=\"convertToInteractive('df-1bd01585-c72d-4ca4-acdf-2264eafa6737')\"\n",
              "            title=\"Convert this dataframe to an interactive table.\"\n",
              "            style=\"display:none;\">\n",
              "\n",
              "  <svg xmlns=\"http://www.w3.org/2000/svg\" height=\"24px\" viewBox=\"0 -960 960 960\">\n",
              "    <path d=\"M120-120v-720h720v720H120Zm60-500h600v-160H180v160Zm220 220h160v-160H400v160Zm0 220h160v-160H400v160ZM180-400h160v-160H180v160Zm440 0h160v-160H620v160ZM180-180h160v-160H180v160Zm440 0h160v-160H620v160Z\"/>\n",
              "  </svg>\n",
              "    </button>\n",
              "\n",
              "  <style>\n",
              "    .colab-df-container {\n",
              "      display:flex;\n",
              "      gap: 12px;\n",
              "    }\n",
              "\n",
              "    .colab-df-convert {\n",
              "      background-color: #E8F0FE;\n",
              "      border: none;\n",
              "      border-radius: 50%;\n",
              "      cursor: pointer;\n",
              "      display: none;\n",
              "      fill: #1967D2;\n",
              "      height: 32px;\n",
              "      padding: 0 0 0 0;\n",
              "      width: 32px;\n",
              "    }\n",
              "\n",
              "    .colab-df-convert:hover {\n",
              "      background-color: #E2EBFA;\n",
              "      box-shadow: 0px 1px 2px rgba(60, 64, 67, 0.3), 0px 1px 3px 1px rgba(60, 64, 67, 0.15);\n",
              "      fill: #174EA6;\n",
              "    }\n",
              "\n",
              "    .colab-df-buttons div {\n",
              "      margin-bottom: 4px;\n",
              "    }\n",
              "\n",
              "    [theme=dark] .colab-df-convert {\n",
              "      background-color: #3B4455;\n",
              "      fill: #D2E3FC;\n",
              "    }\n",
              "\n",
              "    [theme=dark] .colab-df-convert:hover {\n",
              "      background-color: #434B5C;\n",
              "      box-shadow: 0px 1px 3px 1px rgba(0, 0, 0, 0.15);\n",
              "      filter: drop-shadow(0px 1px 2px rgba(0, 0, 0, 0.3));\n",
              "      fill: #FFFFFF;\n",
              "    }\n",
              "  </style>\n",
              "\n",
              "    <script>\n",
              "      const buttonEl =\n",
              "        document.querySelector('#df-1bd01585-c72d-4ca4-acdf-2264eafa6737 button.colab-df-convert');\n",
              "      buttonEl.style.display =\n",
              "        google.colab.kernel.accessAllowed ? 'block' : 'none';\n",
              "\n",
              "      async function convertToInteractive(key) {\n",
              "        const element = document.querySelector('#df-1bd01585-c72d-4ca4-acdf-2264eafa6737');\n",
              "        const dataTable =\n",
              "          await google.colab.kernel.invokeFunction('convertToInteractive',\n",
              "                                                    [key], {});\n",
              "        if (!dataTable) return;\n",
              "\n",
              "        const docLinkHtml = 'Like what you see? Visit the ' +\n",
              "          '<a target=\"_blank\" href=https://colab.research.google.com/notebooks/data_table.ipynb>data table notebook</a>'\n",
              "          + ' to learn more about interactive tables.';\n",
              "        element.innerHTML = '';\n",
              "        dataTable['output_type'] = 'display_data';\n",
              "        await google.colab.output.renderOutput(dataTable, element);\n",
              "        const docLink = document.createElement('div');\n",
              "        docLink.innerHTML = docLinkHtml;\n",
              "        element.appendChild(docLink);\n",
              "      }\n",
              "    </script>\n",
              "  </div>\n",
              "\n",
              "\n",
              "<div id=\"df-ef5e5cdf-f3e2-4890-8035-7f5e33f84c9a\">\n",
              "  <button class=\"colab-df-quickchart\" onclick=\"quickchart('df-ef5e5cdf-f3e2-4890-8035-7f5e33f84c9a')\"\n",
              "            title=\"Suggest charts\"\n",
              "            style=\"display:none;\">\n",
              "\n",
              "<svg xmlns=\"http://www.w3.org/2000/svg\" height=\"24px\"viewBox=\"0 0 24 24\"\n",
              "     width=\"24px\">\n",
              "    <g>\n",
              "        <path d=\"M19 3H5c-1.1 0-2 .9-2 2v14c0 1.1.9 2 2 2h14c1.1 0 2-.9 2-2V5c0-1.1-.9-2-2-2zM9 17H7v-7h2v7zm4 0h-2V7h2v10zm4 0h-2v-4h2v4z\"/>\n",
              "    </g>\n",
              "</svg>\n",
              "  </button>\n",
              "\n",
              "<style>\n",
              "  .colab-df-quickchart {\n",
              "      --bg-color: #E8F0FE;\n",
              "      --fill-color: #1967D2;\n",
              "      --hover-bg-color: #E2EBFA;\n",
              "      --hover-fill-color: #174EA6;\n",
              "      --disabled-fill-color: #AAA;\n",
              "      --disabled-bg-color: #DDD;\n",
              "  }\n",
              "\n",
              "  [theme=dark] .colab-df-quickchart {\n",
              "      --bg-color: #3B4455;\n",
              "      --fill-color: #D2E3FC;\n",
              "      --hover-bg-color: #434B5C;\n",
              "      --hover-fill-color: #FFFFFF;\n",
              "      --disabled-bg-color: #3B4455;\n",
              "      --disabled-fill-color: #666;\n",
              "  }\n",
              "\n",
              "  .colab-df-quickchart {\n",
              "    background-color: var(--bg-color);\n",
              "    border: none;\n",
              "    border-radius: 50%;\n",
              "    cursor: pointer;\n",
              "    display: none;\n",
              "    fill: var(--fill-color);\n",
              "    height: 32px;\n",
              "    padding: 0;\n",
              "    width: 32px;\n",
              "  }\n",
              "\n",
              "  .colab-df-quickchart:hover {\n",
              "    background-color: var(--hover-bg-color);\n",
              "    box-shadow: 0 1px 2px rgba(60, 64, 67, 0.3), 0 1px 3px 1px rgba(60, 64, 67, 0.15);\n",
              "    fill: var(--button-hover-fill-color);\n",
              "  }\n",
              "\n",
              "  .colab-df-quickchart-complete:disabled,\n",
              "  .colab-df-quickchart-complete:disabled:hover {\n",
              "    background-color: var(--disabled-bg-color);\n",
              "    fill: var(--disabled-fill-color);\n",
              "    box-shadow: none;\n",
              "  }\n",
              "\n",
              "  .colab-df-spinner {\n",
              "    border: 2px solid var(--fill-color);\n",
              "    border-color: transparent;\n",
              "    border-bottom-color: var(--fill-color);\n",
              "    animation:\n",
              "      spin 1s steps(1) infinite;\n",
              "  }\n",
              "\n",
              "  @keyframes spin {\n",
              "    0% {\n",
              "      border-color: transparent;\n",
              "      border-bottom-color: var(--fill-color);\n",
              "      border-left-color: var(--fill-color);\n",
              "    }\n",
              "    20% {\n",
              "      border-color: transparent;\n",
              "      border-left-color: var(--fill-color);\n",
              "      border-top-color: var(--fill-color);\n",
              "    }\n",
              "    30% {\n",
              "      border-color: transparent;\n",
              "      border-left-color: var(--fill-color);\n",
              "      border-top-color: var(--fill-color);\n",
              "      border-right-color: var(--fill-color);\n",
              "    }\n",
              "    40% {\n",
              "      border-color: transparent;\n",
              "      border-right-color: var(--fill-color);\n",
              "      border-top-color: var(--fill-color);\n",
              "    }\n",
              "    60% {\n",
              "      border-color: transparent;\n",
              "      border-right-color: var(--fill-color);\n",
              "    }\n",
              "    80% {\n",
              "      border-color: transparent;\n",
              "      border-right-color: var(--fill-color);\n",
              "      border-bottom-color: var(--fill-color);\n",
              "    }\n",
              "    90% {\n",
              "      border-color: transparent;\n",
              "      border-bottom-color: var(--fill-color);\n",
              "    }\n",
              "  }\n",
              "</style>\n",
              "\n",
              "  <script>\n",
              "    async function quickchart(key) {\n",
              "      const quickchartButtonEl =\n",
              "        document.querySelector('#' + key + ' button');\n",
              "      quickchartButtonEl.disabled = true;  // To prevent multiple clicks.\n",
              "      quickchartButtonEl.classList.add('colab-df-spinner');\n",
              "      try {\n",
              "        const charts = await google.colab.kernel.invokeFunction(\n",
              "            'suggestCharts', [key], {});\n",
              "      } catch (error) {\n",
              "        console.error('Error during call to suggestCharts:', error);\n",
              "      }\n",
              "      quickchartButtonEl.classList.remove('colab-df-spinner');\n",
              "      quickchartButtonEl.classList.add('colab-df-quickchart-complete');\n",
              "    }\n",
              "    (() => {\n",
              "      let quickchartButtonEl =\n",
              "        document.querySelector('#df-ef5e5cdf-f3e2-4890-8035-7f5e33f84c9a button');\n",
              "      quickchartButtonEl.style.display =\n",
              "        google.colab.kernel.accessAllowed ? 'block' : 'none';\n",
              "    })();\n",
              "  </script>\n",
              "</div>\n",
              "\n",
              "    </div>\n",
              "  </div>\n"
            ],
            "application/vnd.google.colaboratory.intrinsic+json": {
              "type": "dataframe",
              "variable_name": "dataset",
              "summary": "{\n  \"name\": \"dataset\",\n  \"rows\": 846,\n  \"fields\": [\n    {\n      \"column\": \"COMPACTNESS\",\n      \"properties\": {\n        \"dtype\": \"number\",\n        \"std\": 8.2364738783667,\n        \"min\": 73.0,\n        \"max\": 119.0,\n        \"num_unique_values\": 44,\n        \"samples\": [\n          112.0,\n          119.0,\n          78.0\n        ],\n        \"semantic_type\": \"\",\n        \"description\": \"\"\n      }\n    },\n    {\n      \"column\": \"CIRCULARITY\",\n      \"properties\": {\n        \"dtype\": \"number\",\n        \"std\": 6,\n        \"min\": 33,\n        \"max\": 100,\n        \"num_unique_values\": 28,\n        \"samples\": [\n          42,\n          58,\n          46\n        ],\n        \"semantic_type\": \"\",\n        \"description\": \"\"\n      }\n    },\n    {\n      \"column\": \"DISTANCE CIRCULARITY\",\n      \"properties\": {\n        \"dtype\": \"number\",\n        \"std\": 15,\n        \"min\": 36,\n        \"max\": 112,\n        \"num_unique_values\": 64,\n        \"samples\": [\n          59,\n          42,\n          83\n        ],\n        \"semantic_type\": \"\",\n        \"description\": \"\"\n      }\n    },\n    {\n      \"column\": \"RADIUS RATIO\",\n      \"properties\": {\n        \"dtype\": \"number\",\n        \"std\": 33,\n        \"min\": 73,\n        \"max\": 333,\n        \"num_unique_values\": 135,\n        \"samples\": [\n          168,\n          116,\n          132\n        ],\n        \"semantic_type\": \"\",\n        \"description\": \"\"\n      }\n    },\n    {\n      \"column\": \"PR.AXIS ASPECT RATIO\",\n      \"properties\": {\n        \"dtype\": \"number\",\n        \"std\": 9,\n        \"min\": 47,\n        \"max\": 199,\n        \"num_unique_values\": 38,\n        \"samples\": [\n          138,\n          105,\n          103\n        ],\n        \"semantic_type\": \"\",\n        \"description\": \"\"\n      }\n    },\n    {\n      \"column\": \"MAX.LENGTH ASPECT RATIO\",\n      \"properties\": {\n        \"dtype\": \"number\",\n        \"std\": 5,\n        \"min\": 2,\n        \"max\": 73,\n        \"num_unique_values\": 22,\n        \"samples\": [\n          10,\n          13,\n          49\n        ],\n        \"semantic_type\": \"\",\n        \"description\": \"\"\n      }\n    },\n    {\n      \"column\": \"SCATTER RATIO\",\n      \"properties\": {\n        \"dtype\": \"number\",\n        \"std\": 33,\n        \"min\": 6,\n        \"max\": 265,\n        \"num_unique_values\": 132,\n        \"samples\": [\n          261,\n          247,\n          150\n        ],\n        \"semantic_type\": \"\",\n        \"description\": \"\"\n      }\n    },\n    {\n      \"column\": \"ELONGATEDNESS\",\n      \"properties\": {\n        \"dtype\": \"number\",\n        \"std\": 8,\n        \"min\": 26,\n        \"max\": 162,\n        \"num_unique_values\": 36,\n        \"samples\": [\n          162,\n          31,\n          39\n        ],\n        \"semantic_type\": \"\",\n        \"description\": \"\"\n      }\n    },\n    {\n      \"column\": \"PR.AXIS RECTANGULARITY\",\n      \"properties\": {\n        \"dtype\": \"number\",\n        \"std\": 2,\n        \"min\": 17,\n        \"max\": 40,\n        \"num_unique_values\": 14,\n        \"samples\": [\n          25,\n          26,\n          20\n        ],\n        \"semantic_type\": \"\",\n        \"description\": \"\"\n      }\n    },\n    {\n      \"column\": \"MAX.LENGTH RECTANGULARITY\",\n      \"properties\": {\n        \"dtype\": \"number\",\n        \"std\": 15,\n        \"min\": 20,\n        \"max\": 188,\n        \"num_unique_values\": 67,\n        \"samples\": [\n          137,\n          125,\n          169\n        ],\n        \"semantic_type\": \"\",\n        \"description\": \"\"\n      }\n    },\n    {\n      \"column\": \"SCALED VARIANCE ALONG MAJOR AXIS\",\n      \"properties\": {\n        \"dtype\": \"number\",\n        \"std\": 31,\n        \"min\": 127,\n        \"max\": 320,\n        \"num_unique_values\": 129,\n        \"samples\": [\n          218,\n          154,\n          164\n        ],\n        \"semantic_type\": \"\",\n        \"description\": \"\"\n      }\n    },\n    {\n      \"column\": \"SCALED VARIANCE ALONG MINOR AXIS\",\n      \"properties\": {\n        \"dtype\": \"number\",\n        \"std\": 176,\n        \"min\": 184,\n        \"max\": 1018,\n        \"num_unique_values\": 424,\n        \"samples\": [\n          674,\n          517,\n          274\n        ],\n        \"semantic_type\": \"\",\n        \"description\": \"\"\n      }\n    },\n    {\n      \"column\": \"SCALED RADIUS OF GYRATION\",\n      \"properties\": {\n        \"dtype\": \"number\",\n        \"std\": 33,\n        \"min\": 109,\n        \"max\": 401,\n        \"num_unique_values\": 144,\n        \"samples\": [\n          261,\n          177,\n          115\n        ],\n        \"semantic_type\": \"\",\n        \"description\": \"\"\n      }\n    },\n    {\n      \"column\": \"SKEWNESS ABOUT MAJOR AXIS\",\n      \"properties\": {\n        \"dtype\": \"number\",\n        \"std\": 7,\n        \"min\": 59,\n        \"max\": 135,\n        \"num_unique_values\": 40,\n        \"samples\": [\n          118,\n          69,\n          68\n        ],\n        \"semantic_type\": \"\",\n        \"description\": \"\"\n      }\n    },\n    {\n      \"column\": \"SKEWNESS ABOUT MINOR AXIS\",\n      \"properties\": {\n        \"dtype\": \"number\",\n        \"std\": 5,\n        \"min\": 0,\n        \"max\": 72,\n        \"num_unique_values\": 24,\n        \"samples\": [\n          8,\n          11,\n          6\n        ],\n        \"semantic_type\": \"\",\n        \"description\": \"\"\n      }\n    },\n    {\n      \"column\": \"KURTOSIS ABOUT MINOR AXIS\",\n      \"properties\": {\n        \"dtype\": \"number\",\n        \"std\": 8,\n        \"min\": 0,\n        \"max\": 41,\n        \"num_unique_values\": 41,\n        \"samples\": [\n          23,\n          28,\n          13\n        ],\n        \"semantic_type\": \"\",\n        \"description\": \"\"\n      }\n    },\n    {\n      \"column\": \"KURTOSIS ABOUT MAJOR AXIS\",\n      \"properties\": {\n        \"dtype\": \"number\",\n        \"std\": 8,\n        \"min\": 19,\n        \"max\": 206,\n        \"num_unique_values\": 31,\n        \"samples\": [\n          177,\n          179,\n          182\n        ],\n        \"semantic_type\": \"\",\n        \"description\": \"\"\n      }\n    },\n    {\n      \"column\": \"HOLLOWS RATIO\",\n      \"properties\": {\n        \"dtype\": \"number\",\n        \"std\": 7,\n        \"min\": 181,\n        \"max\": 211,\n        \"num_unique_values\": 31,\n        \"samples\": [\n          186,\n          205,\n          198\n        ],\n        \"semantic_type\": \"\",\n        \"description\": \"\"\n      }\n    },\n    {\n      \"column\": \"class\",\n      \"properties\": {\n        \"dtype\": \"category\",\n        \"num_unique_values\": 5,\n        \"samples\": [\n          \"saab\",\n          \"204\",\n          \"bus\"\n        ],\n        \"semantic_type\": \"\",\n        \"description\": \"\"\n      }\n    }\n  ]\n}"
            }
          },
          "metadata": {},
          "execution_count": 7
        }
      ]
    },
    {
      "cell_type": "markdown",
      "source": [
        "### <font color='blue'> Task - 2 [Marks 1] </font>:\n",
        "\n",
        "1. Check for duplicate and missing features and handle such cases as necessary.  \n",
        "\n",
        "2. Partition the data into training, and test sets (80%-20%).  "
      ],
      "metadata": {
        "id": "AmAos2OKLfyV"
      }
    },
    {
      "cell_type": "code",
      "source": [
        "# check for duplicates\n",
        "no_of_duplicates = dataset.duplicated().sum()\n",
        "print(f'Number of duplicates: {no_of_duplicates}')\n",
        "# as there are zero duplicates so no need to handle it"
      ],
      "metadata": {
        "colab": {
          "base_uri": "https://localhost:8080/"
        },
        "id": "cgL3H_iCMC89",
        "outputId": "d78b02ba-649a-4d7b-d12f-f090e272c2d5"
      },
      "execution_count": 9,
      "outputs": [
        {
          "output_type": "stream",
          "name": "stdout",
          "text": [
            "Number of duplicates: 0\n"
          ]
        }
      ]
    },
    {
      "cell_type": "code",
      "source": [
        "#check for missing value\n",
        "missing_values = dataset.isnull().sum()\n",
        "print(f'Number of missing values: {missing_values.sum()}')\n"
      ],
      "metadata": {
        "colab": {
          "base_uri": "https://localhost:8080/"
        },
        "id": "HgKj8EM_N0j5",
        "outputId": "8137cc9f-52c5-46ad-d367-52a53ed9b740"
      },
      "execution_count": 15,
      "outputs": [
        {
          "output_type": "stream",
          "name": "stdout",
          "text": [
            "Number of missing values: 0\n"
          ]
        }
      ]
    },
    {
      "cell_type": "code",
      "source": [
        "# as there are 1 missing values so there is need to handle it\n",
        "dataset = dataset.dropna()"
      ],
      "metadata": {
        "id": "uo8bnrQnOEeV"
      },
      "execution_count": 16,
      "outputs": []
    },
    {
      "cell_type": "code",
      "source": [
        "X = dataset.drop('class', axis=1)\n",
        "Y = dataset['class']\n",
        "\n",
        "# Partition the data into training and test sets (80%-20%)\n",
        "X_train, X_test, Y_train, Y_test = train_test_split(X, Y, test_size=0.2, random_state=42)"
      ],
      "metadata": {
        "id": "Tn9aPOpTQWLN"
      },
      "execution_count": 19,
      "outputs": []
    },
    {
      "cell_type": "markdown",
      "source": [
        "### <font color='blue'> Task - 3 [Marks 5] </font>:\n",
        "\n",
        "1. Perform HAC from scratch using Euclidean distance and average linkage on the training set.  \n",
        "\n",
        "2. Derive 4 clusters from the from your implementation of HAC and assign all points to their closest clusters.  "
      ],
      "metadata": {
        "id": "CbQzEpd7LjgB"
      }
    },
    {
      "cell_type": "code",
      "source": [
        "# Calculate Euclidean distance\n",
        "def cal_euclidean_dist(x1, x2):\n",
        "    return np.sqrt(np.sum((x1 - x2) ** 2))\n",
        "\n",
        "\n",
        "# Calculate Average Linkage\n",
        "def cal_avg_linkage(cluster1, cluster2, data):\n",
        "  dist = []\n",
        "  for i in cluster1:\n",
        "    for j in cluster2:\n",
        "      dist.append(cal_euclidean_dist(data[i], data[j]))\n",
        "  return np.mean(dist)\n",
        "\n",
        "\n",
        "# Perform HAC from scratch using Euclidean distance and average linkage\n",
        "def hierarchical_agglomerative_clustering(data, no_of_clusters):\n",
        "  no_of_samples = data.shape[0]\n",
        "  clusters = []\n",
        "  linkage_matrix =[]\n",
        "\n",
        "  for i in range(no_of_samples):\n",
        "    clusters.append([i])\n",
        "\n",
        "  while len(clusters) > no_of_clusters:\n",
        "    minimum_dist = float('inf')\n",
        "    first_closest_cluster_index, second_closest_cluster_index = -1, -1\n",
        "\n",
        "    #search for two closest cluster\n",
        "    for idx in range(len(clusters)):\n",
        "      for jdx in range(idx+1, len(clusters)):\n",
        "        dist = cal_avg_linkage(clusters[idx], clusters[jdx], data)\n",
        "        if dist < minimum_dist:\n",
        "          minimum_dist = dist\n",
        "          first_closest_cluster_index = idx\n",
        "          second_closest_cluster_index = jdx\n",
        "\n",
        "    # merge the two closest cluster\n",
        "    clusters[first_closest_cluster_index].extend(clusters[second_closest_cluster_index])\n",
        "    linkage_matrix.append([first_closest_cluster_index, second_closest_cluster_index, minimum_dist, len(clusters[first_closest_cluster_index])])\n",
        "    del clusters[second_closest_cluster_index]\n",
        "\n",
        "    # Assign cluster labels to each\n",
        "    cluster_labels = np.zeros(no_of_samples, dtype=int)\n",
        "    for clstr_idx, clstr in enumerate(clusters):\n",
        "      for data_idx in clstr:\n",
        "        cluster_labels[data_idx] = clstr_idx\n",
        "\n",
        "  return cluster_labels, np.array(linkage_matrix)\n",
        "\n",
        "\n",
        "\n",
        "# Run HAC on the training data\n",
        "scratch_labels, scratch_linkage_matrix = hierarchical_agglomerative_clustering(X_train.values, no_of_clusters=4)"
      ],
      "metadata": {
        "id": "7OLGtGHuMDuT"
      },
      "execution_count": null,
      "outputs": []
    },
    {
      "cell_type": "markdown",
      "source": [
        "### <font color='blue'> Task - 4 [Marks 4] </font>:\n",
        "\n",
        "Perform clustering using sklearn’s implementation with the same hyperparameters."
      ],
      "metadata": {
        "id": "uzJ8SAS5Lm9y"
      }
    },
    {
      "cell_type": "code",
      "source": [
        "from sklearn.cluster import AgglomerativeClustering\n",
        "from scipy.cluster.hierarchy import dendrogram, linkage\n",
        "\n",
        "sklearn_model = AgglomerativeClustering(n_clusters=4, linkage='average')\n",
        "\n",
        "sklearn_labels = sklearn_model.fit_predict(X_train)\n",
        "\n",
        "# Calculate linkage matrices\n",
        "sklearn_linkage_matrix = linkage(X_train, method='average', metric='euclidean')"
      ],
      "metadata": {
        "id": "Fu83XPJrMEiP"
      },
      "execution_count": 20,
      "outputs": []
    },
    {
      "cell_type": "markdown",
      "source": [
        "### <font color='blue'> Task - 5 [Marks 2] </font>:\n",
        "\n",
        "Show the corresponding dendogram.  "
      ],
      "metadata": {
        "id": "5QVoISnALuNq"
      }
    },
    {
      "cell_type": "code",
      "source": [
        "# Create subplots for side-by-side comparison\n",
        "fig, (ax1, ax2) = plt.subplots(1, 2, figsize=(25, 8))\n",
        "\n",
        "# show dendrogram for from-scratch implementation\n",
        "dendrogram(scratch_linkage_matrix, ax=ax1)\n",
        "ax1.set_title('Dendrogram (From-Scratch)')\n",
        "ax1.set_xlabel('Data Points')\n",
        "ax1.set_ylabel('Distance')\n",
        "\n",
        "# show dendrogram for scikit-learn implementation\n",
        "dendrogram(sklearn_linkage_matrix, ax=ax2)\n",
        "ax2.set_title('Dendrogram (Scikit-learn)')\n",
        "ax2.set_xlabel('Data Points')\n",
        "ax2.set_ylabel('Distance')\n",
        "\n",
        "plt.tight_layout()\n",
        "plt.show()\n"
      ],
      "metadata": {
        "id": "-g8ztUTTMFYY"
      },
      "execution_count": null,
      "outputs": []
    },
    {
      "cell_type": "markdown",
      "source": [
        "### <font color='blue'> Task - 6 [Marks 4] </font>:\n",
        "\n",
        "For both the from scratch and sklearn implementation, rename the labels consistently such that the label for the clusters having the smallest to largest centroids are assigned labels ‘0’ to ‘3’ (this is because label names in from scratch implementation and scikit-learn implementation may not be consistent).  "
      ],
      "metadata": {
        "id": "M51c_VH9LyCa"
      }
    },
    {
      "cell_type": "code",
      "source": [
        "def cal_centroids(data, cluster_labels, no_of_clusters):\n",
        "  centroids = [np.mean(data[cluster_labels == i], axis=0) for i in range(no_of_clusters)]\n",
        "  return centroids\n",
        "\n",
        "\n",
        "\n",
        "def rename_cluster_labels(data, cluster_labels, no_of_clusters):\n",
        "  centroids = cal_centroids(data, cluster_labels, no_of_clusters)\n",
        "  # Calculate the sum of each centroid\n",
        "  centroid_sums = [np.sum(centroid) for centroid in centroids]\n",
        "\n",
        "  # Get the indices that would sort the sums in ascending order\n",
        "  sorted_idx = np.argsort(centroid_sums)\n",
        "\n",
        "  # Initialize an empty dictionary to hold the label mappings\n",
        "  label_map = {}\n",
        "\n",
        "  # Iterate over the sorted indices to populate the mapping\n",
        "  for new_label, original_label in enumerate(sorted_idx):\n",
        "    label_map[original_label] = new_label\n",
        "\n",
        "  return np.vectorize(label_map.get)(cluster_labels)\n",
        "\n",
        "\n",
        "\n",
        "# Rename cluster labels\n",
        "scratch_labels_renamed = rename_cluster_labels(X_train.values, scratch_labels, no_of_clusters=4)\n",
        "sklearn_labels_renamed = rename_cluster_labels(X_train.values, sklearn_labels, no_of_clusters=4)\n",
        "\n"
      ],
      "metadata": {
        "id": "ixYEYAIYkTKP"
      },
      "execution_count": null,
      "outputs": []
    },
    {
      "cell_type": "markdown",
      "source": [
        "### <font color='blue'> Task - 7 [Marks 2] </font>:\n",
        "\n",
        "Compare the cluster labels of each point obtained with the from scratch with that obtained from sklearn. Report the % of points for which the label assignments match.  "
      ],
      "metadata": {
        "id": "HDATM-SAL1r7"
      }
    },
    {
      "cell_type": "code",
      "source": [
        "# Determine the number of identical labels\n",
        "num_matches = np.sum(scratch_labels_renamed == sklearn_labels_renamed)\n",
        "\n",
        "# Calculate the overall number of observations\n",
        "num_observations = len(scratch_labels_renamed)\n",
        "\n",
        "# Calculate the ratio of matching labels as a percentage\n",
        "percentage_matching = (num_matches / num_observations) * 100\n",
        "\n",
        "# Display the result\n",
        "print(f\"Percentage of identical labels: {percentage_matching:.2f}%\")\n"
      ],
      "metadata": {
        "id": "nb5G7W9vMHA3"
      },
      "execution_count": null,
      "outputs": []
    },
    {
      "cell_type": "markdown",
      "source": [
        "\n",
        "\n",
        "### <font color='blue'> Task - 8 [Marks 2] </font>:\n",
        "\n",
        "Report the consistency of each cluster using the ground truth labels, i.e. for each cluster report the fraction of the samples that belong to the 4 classes.   "
      ],
      "metadata": {
        "id": "mLeYuockL5bI"
      }
    },
    {
      "cell_type": "code",
      "source": [
        "def assess_cluster_consistency(predicted_labels, true_labels):\n",
        "\n",
        "    no_of_clusters = len(np.unique(predicted_labels))\n",
        "    classes_present = np.unique(true_labels)\n",
        "\n",
        "    for idx in range(no_of_clusters):\n",
        "        cluster_contents = true_labels[predicted_labels == idx]\n",
        "        num_samples = len(cluster_contents)\n",
        "\n",
        "        if num_samples > 0:\n",
        "            print(f\"\\nCluster {idx}:\")\n",
        "            for class_label in classes_present:\n",
        "                class_occurrences = np.sum(cluster_contents == class_label)\n",
        "                class_ratio = class_occurrences / num_samples\n",
        "                print(f\"  Class {class_label}: {class_ratio:.2f}\")\n",
        "        else:\n",
        "            print(f\"\\nCluster {idx}: (No samples)\")\n",
        "\n",
        "# Assess consistency for from-scratch HAC\n",
        "assess_cluster_consistency(scratch_labels_renamed, Y_train.values)\n",
        "\n",
        "# Assess consistency for scikit-learn HAC\n",
        "assess_cluster_consistency(sklearn_labels_renamed, Y_train.values)\n"
      ],
      "metadata": {
        "id": "2MHjH8PJMH0u"
      },
      "execution_count": null,
      "outputs": []
    }
  ]
}