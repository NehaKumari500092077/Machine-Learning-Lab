{
  "nbformat": 4,
  "nbformat_minor": 0,
  "metadata": {
    "colab": {
      "provenance": [],
      "authorship_tag": "ABX9TyOM86RX0RnJ7Mv0T0UxUGPa",
      "include_colab_link": true
    },
    "kernelspec": {
      "name": "python3",
      "display_name": "Python 3"
    },
    "language_info": {
      "name": "python"
    }
  },
  "cells": [
    {
      "cell_type": "markdown",
      "metadata": {
        "id": "view-in-github",
        "colab_type": "text"
      },
      "source": [
        "<a href=\"https://colab.research.google.com/github/NehaKumari500092077/Machine-Learning-Lab/blob/main/Session3_Assignments.ipynb\" target=\"_parent\"><img src=\"https://colab.research.google.com/assets/colab-badge.svg\" alt=\"Open In Colab\"/></a>"
      ]
    },
    {
      "cell_type": "markdown",
      "source": [
        "## **Assignment - 2**"
      ],
      "metadata": {
        "id": "h76lN0-6XUGP"
      }
    },
    {
      "cell_type": "markdown",
      "source": [
        "####  **Objective** - Classify emails as spam or not spam using the [Spambase](https://archive.ics.uci.edu/static/public/94/data.csv) dataset, which contains the frequency of occurrence of 57 entities (words and characters) (in %) from 4601 spam and non-spam emails and corresponding class labels.  "
      ],
      "metadata": {
        "id": "WPElE_3xXV8R"
      }
    },
    {
      "cell_type": "markdown",
      "source": [
        "Spam Classification with Logistic Regression\n",
        "\n",
        "\n",
        "\n",
        "\n",
        "\n",
        "\n",
        "\n",
        "\n",
        "\n"
      ],
      "metadata": {
        "id": "seZaOWBfXcMr"
      }
    },
    {
      "cell_type": "code",
      "source": [
        "!pip install ucimlrepo"
      ],
      "metadata": {
        "colab": {
          "base_uri": "https://localhost:8080/"
        },
        "id": "MNR-z11WX8zU",
        "outputId": "2729bd35-e0c7-4dfc-d0e3-6307e09acd2c"
      },
      "execution_count": null,
      "outputs": [
        {
          "output_type": "stream",
          "name": "stdout",
          "text": [
            "Collecting ucimlrepo\n",
            "  Downloading ucimlrepo-0.0.7-py3-none-any.whl.metadata (5.5 kB)\n",
            "Requirement already satisfied: pandas>=1.0.0 in /usr/local/lib/python3.10/dist-packages (from ucimlrepo) (2.1.4)\n",
            "Requirement already satisfied: certifi>=2020.12.5 in /usr/local/lib/python3.10/dist-packages (from ucimlrepo) (2024.7.4)\n",
            "Requirement already satisfied: numpy<2,>=1.22.4 in /usr/local/lib/python3.10/dist-packages (from pandas>=1.0.0->ucimlrepo) (1.26.4)\n",
            "Requirement already satisfied: python-dateutil>=2.8.2 in /usr/local/lib/python3.10/dist-packages (from pandas>=1.0.0->ucimlrepo) (2.8.2)\n",
            "Requirement already satisfied: pytz>=2020.1 in /usr/local/lib/python3.10/dist-packages (from pandas>=1.0.0->ucimlrepo) (2024.1)\n",
            "Requirement already satisfied: tzdata>=2022.1 in /usr/local/lib/python3.10/dist-packages (from pandas>=1.0.0->ucimlrepo) (2024.1)\n",
            "Requirement already satisfied: six>=1.5 in /usr/local/lib/python3.10/dist-packages (from python-dateutil>=2.8.2->pandas>=1.0.0->ucimlrepo) (1.16.0)\n",
            "Downloading ucimlrepo-0.0.7-py3-none-any.whl (8.0 kB)\n",
            "Installing collected packages: ucimlrepo\n",
            "Successfully installed ucimlrepo-0.0.7\n"
          ]
        }
      ]
    },
    {
      "cell_type": "code",
      "source": [
        "!pip install sklearn"
      ],
      "metadata": {
        "id": "zeyPRlk9ZXSm",
        "outputId": "c5c86d81-2b32-414d-ff43-42362b24cb9e",
        "colab": {
          "base_uri": "https://localhost:8080/"
        }
      },
      "execution_count": 54,
      "outputs": [
        {
          "output_type": "stream",
          "name": "stdout",
          "text": [
            "Collecting sklearn\n",
            "  Downloading sklearn-0.0.post12.tar.gz (2.6 kB)\n",
            "  \u001b[1;31merror\u001b[0m: \u001b[1msubprocess-exited-with-error\u001b[0m\n",
            "  \n",
            "  \u001b[31m×\u001b[0m \u001b[32mpython setup.py egg_info\u001b[0m did not run successfully.\n",
            "  \u001b[31m│\u001b[0m exit code: \u001b[1;36m1\u001b[0m\n",
            "  \u001b[31m╰─>\u001b[0m See above for output.\n",
            "  \n",
            "  \u001b[1;35mnote\u001b[0m: This error originates from a subprocess, and is likely not a problem with pip.\n",
            "  Preparing metadata (setup.py) ... \u001b[?25l\u001b[?25herror\n",
            "\u001b[1;31merror\u001b[0m: \u001b[1mmetadata-generation-failed\u001b[0m\n",
            "\n",
            "\u001b[31m×\u001b[0m Encountered error while generating package metadata.\n",
            "\u001b[31m╰─>\u001b[0m See above for output.\n",
            "\n",
            "\u001b[1;35mnote\u001b[0m: This is an issue with the package mentioned above, not pip.\n",
            "\u001b[1;36mhint\u001b[0m: See above for details.\n"
          ]
        }
      ]
    },
    {
      "cell_type": "code",
      "source": [
        "# from ucimlrepo import fetch_ucirepo\n",
        "\n",
        "# # fetch dataset\n",
        "# spambase = fetch_ucirepo(id=94)\n",
        "\n",
        "# # data (as pandas dataframes)\n",
        "# X = spambase.data.features\n",
        "# y = spambase.data.targets\n",
        "\n",
        "# # metadata\n",
        "# print(spambase.metadata)\n",
        "\n",
        "# # variable information\n",
        "# print(spambase.variables)"
      ],
      "metadata": {
        "id": "OTfyr4kWYDZg"
      },
      "execution_count": null,
      "outputs": []
    },
    {
      "cell_type": "markdown",
      "source": [
        "<font color='blue'>Task 1: Load the Spambase Dataset</font> [Marks - 1]\n",
        "\n",
        "- Load the Spambase dataset using Pandas.\n",
        "- Display the first few rows to understand the structure of the data."
      ],
      "metadata": {
        "id": "02oOqjTNZ-kM"
      }
    },
    {
      "cell_type": "code",
      "source": [
        "import pandas as pd\n",
        "from sklearn.preprocessing import StandardScaler\n",
        "from sklearn.model_selection import train_test_split, KFold\n",
        "import numpy as np\n",
        "from sklearn.metrics import confusion_matrix, accuracy_score, precision_score, recall_score, average_precision_score\n",
        "from sklearn.linear_model import LogisticRegression as SKLogisticRegression\n",
        "import matplotlib.pyplot as plt\n",
        "import seaborn as sns\n",
        "\n",
        "df = pd.read_csv(\"https://archive.ics.uci.edu/static/public/94/data.csv\")\n",
        "dataset = pd.DataFrame(df)\n",
        "dataset.head(2)"
      ],
      "metadata": {
        "colab": {
          "base_uri": "https://localhost:8080/",
          "height": 161
        },
        "id": "rsWb6YLiYZMx",
        "outputId": "ccb78ed5-22ff-42ee-a0a4-314ba88e5fe0"
      },
      "execution_count": 95,
      "outputs": [
        {
          "output_type": "execute_result",
          "data": {
            "text/plain": [
              "   word_freq_make  word_freq_address  word_freq_all  word_freq_3d  \\\n",
              "0            0.00               0.64           0.64           0.0   \n",
              "1            0.21               0.28           0.50           0.0   \n",
              "\n",
              "   word_freq_our  word_freq_over  word_freq_remove  word_freq_internet  \\\n",
              "0           0.32            0.00              0.00                0.00   \n",
              "1           0.14            0.28              0.21                0.07   \n",
              "\n",
              "   word_freq_order  word_freq_mail  ...  char_freq_;  char_freq_(  \\\n",
              "0              0.0            0.00  ...          0.0        0.000   \n",
              "1              0.0            0.94  ...          0.0        0.132   \n",
              "\n",
              "   char_freq_[  char_freq_!  char_freq_$  char_freq_#  \\\n",
              "0          0.0        0.778         0.00        0.000   \n",
              "1          0.0        0.372         0.18        0.048   \n",
              "\n",
              "   capital_run_length_average  capital_run_length_longest  \\\n",
              "0                       3.756                          61   \n",
              "1                       5.114                         101   \n",
              "\n",
              "   capital_run_length_total  Class  \n",
              "0                       278      1  \n",
              "1                      1028      1  \n",
              "\n",
              "[2 rows x 58 columns]"
            ],
            "text/html": [
              "\n",
              "  <div id=\"df-17e95ca4-600c-4a17-af50-628291327471\" class=\"colab-df-container\">\n",
              "    <div>\n",
              "<style scoped>\n",
              "    .dataframe tbody tr th:only-of-type {\n",
              "        vertical-align: middle;\n",
              "    }\n",
              "\n",
              "    .dataframe tbody tr th {\n",
              "        vertical-align: top;\n",
              "    }\n",
              "\n",
              "    .dataframe thead th {\n",
              "        text-align: right;\n",
              "    }\n",
              "</style>\n",
              "<table border=\"1\" class=\"dataframe\">\n",
              "  <thead>\n",
              "    <tr style=\"text-align: right;\">\n",
              "      <th></th>\n",
              "      <th>word_freq_make</th>\n",
              "      <th>word_freq_address</th>\n",
              "      <th>word_freq_all</th>\n",
              "      <th>word_freq_3d</th>\n",
              "      <th>word_freq_our</th>\n",
              "      <th>word_freq_over</th>\n",
              "      <th>word_freq_remove</th>\n",
              "      <th>word_freq_internet</th>\n",
              "      <th>word_freq_order</th>\n",
              "      <th>word_freq_mail</th>\n",
              "      <th>...</th>\n",
              "      <th>char_freq_;</th>\n",
              "      <th>char_freq_(</th>\n",
              "      <th>char_freq_[</th>\n",
              "      <th>char_freq_!</th>\n",
              "      <th>char_freq_$</th>\n",
              "      <th>char_freq_#</th>\n",
              "      <th>capital_run_length_average</th>\n",
              "      <th>capital_run_length_longest</th>\n",
              "      <th>capital_run_length_total</th>\n",
              "      <th>Class</th>\n",
              "    </tr>\n",
              "  </thead>\n",
              "  <tbody>\n",
              "    <tr>\n",
              "      <th>0</th>\n",
              "      <td>0.00</td>\n",
              "      <td>0.64</td>\n",
              "      <td>0.64</td>\n",
              "      <td>0.0</td>\n",
              "      <td>0.32</td>\n",
              "      <td>0.00</td>\n",
              "      <td>0.00</td>\n",
              "      <td>0.00</td>\n",
              "      <td>0.0</td>\n",
              "      <td>0.00</td>\n",
              "      <td>...</td>\n",
              "      <td>0.0</td>\n",
              "      <td>0.000</td>\n",
              "      <td>0.0</td>\n",
              "      <td>0.778</td>\n",
              "      <td>0.00</td>\n",
              "      <td>0.000</td>\n",
              "      <td>3.756</td>\n",
              "      <td>61</td>\n",
              "      <td>278</td>\n",
              "      <td>1</td>\n",
              "    </tr>\n",
              "    <tr>\n",
              "      <th>1</th>\n",
              "      <td>0.21</td>\n",
              "      <td>0.28</td>\n",
              "      <td>0.50</td>\n",
              "      <td>0.0</td>\n",
              "      <td>0.14</td>\n",
              "      <td>0.28</td>\n",
              "      <td>0.21</td>\n",
              "      <td>0.07</td>\n",
              "      <td>0.0</td>\n",
              "      <td>0.94</td>\n",
              "      <td>...</td>\n",
              "      <td>0.0</td>\n",
              "      <td>0.132</td>\n",
              "      <td>0.0</td>\n",
              "      <td>0.372</td>\n",
              "      <td>0.18</td>\n",
              "      <td>0.048</td>\n",
              "      <td>5.114</td>\n",
              "      <td>101</td>\n",
              "      <td>1028</td>\n",
              "      <td>1</td>\n",
              "    </tr>\n",
              "  </tbody>\n",
              "</table>\n",
              "<p>2 rows × 58 columns</p>\n",
              "</div>\n",
              "    <div class=\"colab-df-buttons\">\n",
              "\n",
              "  <div class=\"colab-df-container\">\n",
              "    <button class=\"colab-df-convert\" onclick=\"convertToInteractive('df-17e95ca4-600c-4a17-af50-628291327471')\"\n",
              "            title=\"Convert this dataframe to an interactive table.\"\n",
              "            style=\"display:none;\">\n",
              "\n",
              "  <svg xmlns=\"http://www.w3.org/2000/svg\" height=\"24px\" viewBox=\"0 -960 960 960\">\n",
              "    <path d=\"M120-120v-720h720v720H120Zm60-500h600v-160H180v160Zm220 220h160v-160H400v160Zm0 220h160v-160H400v160ZM180-400h160v-160H180v160Zm440 0h160v-160H620v160ZM180-180h160v-160H180v160Zm440 0h160v-160H620v160Z\"/>\n",
              "  </svg>\n",
              "    </button>\n",
              "\n",
              "  <style>\n",
              "    .colab-df-container {\n",
              "      display:flex;\n",
              "      gap: 12px;\n",
              "    }\n",
              "\n",
              "    .colab-df-convert {\n",
              "      background-color: #E8F0FE;\n",
              "      border: none;\n",
              "      border-radius: 50%;\n",
              "      cursor: pointer;\n",
              "      display: none;\n",
              "      fill: #1967D2;\n",
              "      height: 32px;\n",
              "      padding: 0 0 0 0;\n",
              "      width: 32px;\n",
              "    }\n",
              "\n",
              "    .colab-df-convert:hover {\n",
              "      background-color: #E2EBFA;\n",
              "      box-shadow: 0px 1px 2px rgba(60, 64, 67, 0.3), 0px 1px 3px 1px rgba(60, 64, 67, 0.15);\n",
              "      fill: #174EA6;\n",
              "    }\n",
              "\n",
              "    .colab-df-buttons div {\n",
              "      margin-bottom: 4px;\n",
              "    }\n",
              "\n",
              "    [theme=dark] .colab-df-convert {\n",
              "      background-color: #3B4455;\n",
              "      fill: #D2E3FC;\n",
              "    }\n",
              "\n",
              "    [theme=dark] .colab-df-convert:hover {\n",
              "      background-color: #434B5C;\n",
              "      box-shadow: 0px 1px 3px 1px rgba(0, 0, 0, 0.15);\n",
              "      filter: drop-shadow(0px 1px 2px rgba(0, 0, 0, 0.3));\n",
              "      fill: #FFFFFF;\n",
              "    }\n",
              "  </style>\n",
              "\n",
              "    <script>\n",
              "      const buttonEl =\n",
              "        document.querySelector('#df-17e95ca4-600c-4a17-af50-628291327471 button.colab-df-convert');\n",
              "      buttonEl.style.display =\n",
              "        google.colab.kernel.accessAllowed ? 'block' : 'none';\n",
              "\n",
              "      async function convertToInteractive(key) {\n",
              "        const element = document.querySelector('#df-17e95ca4-600c-4a17-af50-628291327471');\n",
              "        const dataTable =\n",
              "          await google.colab.kernel.invokeFunction('convertToInteractive',\n",
              "                                                    [key], {});\n",
              "        if (!dataTable) return;\n",
              "\n",
              "        const docLinkHtml = 'Like what you see? Visit the ' +\n",
              "          '<a target=\"_blank\" href=https://colab.research.google.com/notebooks/data_table.ipynb>data table notebook</a>'\n",
              "          + ' to learn more about interactive tables.';\n",
              "        element.innerHTML = '';\n",
              "        dataTable['output_type'] = 'display_data';\n",
              "        await google.colab.output.renderOutput(dataTable, element);\n",
              "        const docLink = document.createElement('div');\n",
              "        docLink.innerHTML = docLinkHtml;\n",
              "        element.appendChild(docLink);\n",
              "      }\n",
              "    </script>\n",
              "  </div>\n",
              "\n",
              "\n",
              "<div id=\"df-21f6e574-0e29-4efe-ba56-bdcbe2d9a425\">\n",
              "  <button class=\"colab-df-quickchart\" onclick=\"quickchart('df-21f6e574-0e29-4efe-ba56-bdcbe2d9a425')\"\n",
              "            title=\"Suggest charts\"\n",
              "            style=\"display:none;\">\n",
              "\n",
              "<svg xmlns=\"http://www.w3.org/2000/svg\" height=\"24px\"viewBox=\"0 0 24 24\"\n",
              "     width=\"24px\">\n",
              "    <g>\n",
              "        <path d=\"M19 3H5c-1.1 0-2 .9-2 2v14c0 1.1.9 2 2 2h14c1.1 0 2-.9 2-2V5c0-1.1-.9-2-2-2zM9 17H7v-7h2v7zm4 0h-2V7h2v10zm4 0h-2v-4h2v4z\"/>\n",
              "    </g>\n",
              "</svg>\n",
              "  </button>\n",
              "\n",
              "<style>\n",
              "  .colab-df-quickchart {\n",
              "      --bg-color: #E8F0FE;\n",
              "      --fill-color: #1967D2;\n",
              "      --hover-bg-color: #E2EBFA;\n",
              "      --hover-fill-color: #174EA6;\n",
              "      --disabled-fill-color: #AAA;\n",
              "      --disabled-bg-color: #DDD;\n",
              "  }\n",
              "\n",
              "  [theme=dark] .colab-df-quickchart {\n",
              "      --bg-color: #3B4455;\n",
              "      --fill-color: #D2E3FC;\n",
              "      --hover-bg-color: #434B5C;\n",
              "      --hover-fill-color: #FFFFFF;\n",
              "      --disabled-bg-color: #3B4455;\n",
              "      --disabled-fill-color: #666;\n",
              "  }\n",
              "\n",
              "  .colab-df-quickchart {\n",
              "    background-color: var(--bg-color);\n",
              "    border: none;\n",
              "    border-radius: 50%;\n",
              "    cursor: pointer;\n",
              "    display: none;\n",
              "    fill: var(--fill-color);\n",
              "    height: 32px;\n",
              "    padding: 0;\n",
              "    width: 32px;\n",
              "  }\n",
              "\n",
              "  .colab-df-quickchart:hover {\n",
              "    background-color: var(--hover-bg-color);\n",
              "    box-shadow: 0 1px 2px rgba(60, 64, 67, 0.3), 0 1px 3px 1px rgba(60, 64, 67, 0.15);\n",
              "    fill: var(--button-hover-fill-color);\n",
              "  }\n",
              "\n",
              "  .colab-df-quickchart-complete:disabled,\n",
              "  .colab-df-quickchart-complete:disabled:hover {\n",
              "    background-color: var(--disabled-bg-color);\n",
              "    fill: var(--disabled-fill-color);\n",
              "    box-shadow: none;\n",
              "  }\n",
              "\n",
              "  .colab-df-spinner {\n",
              "    border: 2px solid var(--fill-color);\n",
              "    border-color: transparent;\n",
              "    border-bottom-color: var(--fill-color);\n",
              "    animation:\n",
              "      spin 1s steps(1) infinite;\n",
              "  }\n",
              "\n",
              "  @keyframes spin {\n",
              "    0% {\n",
              "      border-color: transparent;\n",
              "      border-bottom-color: var(--fill-color);\n",
              "      border-left-color: var(--fill-color);\n",
              "    }\n",
              "    20% {\n",
              "      border-color: transparent;\n",
              "      border-left-color: var(--fill-color);\n",
              "      border-top-color: var(--fill-color);\n",
              "    }\n",
              "    30% {\n",
              "      border-color: transparent;\n",
              "      border-left-color: var(--fill-color);\n",
              "      border-top-color: var(--fill-color);\n",
              "      border-right-color: var(--fill-color);\n",
              "    }\n",
              "    40% {\n",
              "      border-color: transparent;\n",
              "      border-right-color: var(--fill-color);\n",
              "      border-top-color: var(--fill-color);\n",
              "    }\n",
              "    60% {\n",
              "      border-color: transparent;\n",
              "      border-right-color: var(--fill-color);\n",
              "    }\n",
              "    80% {\n",
              "      border-color: transparent;\n",
              "      border-right-color: var(--fill-color);\n",
              "      border-bottom-color: var(--fill-color);\n",
              "    }\n",
              "    90% {\n",
              "      border-color: transparent;\n",
              "      border-bottom-color: var(--fill-color);\n",
              "    }\n",
              "  }\n",
              "</style>\n",
              "\n",
              "  <script>\n",
              "    async function quickchart(key) {\n",
              "      const quickchartButtonEl =\n",
              "        document.querySelector('#' + key + ' button');\n",
              "      quickchartButtonEl.disabled = true;  // To prevent multiple clicks.\n",
              "      quickchartButtonEl.classList.add('colab-df-spinner');\n",
              "      try {\n",
              "        const charts = await google.colab.kernel.invokeFunction(\n",
              "            'suggestCharts', [key], {});\n",
              "      } catch (error) {\n",
              "        console.error('Error during call to suggestCharts:', error);\n",
              "      }\n",
              "      quickchartButtonEl.classList.remove('colab-df-spinner');\n",
              "      quickchartButtonEl.classList.add('colab-df-quickchart-complete');\n",
              "    }\n",
              "    (() => {\n",
              "      let quickchartButtonEl =\n",
              "        document.querySelector('#df-21f6e574-0e29-4efe-ba56-bdcbe2d9a425 button');\n",
              "      quickchartButtonEl.style.display =\n",
              "        google.colab.kernel.accessAllowed ? 'block' : 'none';\n",
              "    })();\n",
              "  </script>\n",
              "</div>\n",
              "\n",
              "    </div>\n",
              "  </div>\n"
            ],
            "application/vnd.google.colaboratory.intrinsic+json": {
              "type": "dataframe",
              "variable_name": "dataset"
            }
          },
          "metadata": {},
          "execution_count": 95
        }
      ]
    },
    {
      "cell_type": "markdown",
      "source": [
        "<font color='blue'>Task 2: Check for Duplicate Entries and Missing Values</font> [Marks - 1]\n",
        "\n",
        "- Check if there are duplicate entries in the dataset.\n",
        "- Remove any duplicate entries.\n",
        "- Check for missing values in the dataset.\n",
        "- Remove entries with missing feature values."
      ],
      "metadata": {
        "id": "rMUoQrqWaer8"
      }
    },
    {
      "cell_type": "code",
      "source": [
        "#check for duplicate entries\n",
        "duplicateEnteris = dataset.duplicated().sum()\n",
        "print(\"Number of duplicate entries is: \", duplicateEnteris)"
      ],
      "metadata": {
        "colab": {
          "base_uri": "https://localhost:8080/"
        },
        "id": "Ifhc5et7agby",
        "outputId": "4fb29105-2332-42a9-a0d5-f3091b89caa5"
      },
      "execution_count": 72,
      "outputs": [
        {
          "output_type": "stream",
          "name": "stdout",
          "text": [
            "Number of duplicate entries is:  391\n"
          ]
        }
      ]
    },
    {
      "cell_type": "code",
      "source": [
        "#remove all the duplicate entries\n",
        "dataset.drop_duplicates(inplace=True)"
      ],
      "metadata": {
        "id": "ryH8envec0HP"
      },
      "execution_count": 73,
      "outputs": []
    },
    {
      "cell_type": "code",
      "source": [
        "#verify for duplicate entries\n",
        "print(\"Number of duplicate entries is: \", dataset.duplicated().sum())"
      ],
      "metadata": {
        "id": "iPyO1rgH2Yen",
        "outputId": "ce9d17ca-cab1-448c-c226-2627b03e5747",
        "colab": {
          "base_uri": "https://localhost:8080/"
        }
      },
      "execution_count": 74,
      "outputs": [
        {
          "output_type": "stream",
          "name": "stdout",
          "text": [
            "Number of duplicate entries is:  0\n"
          ]
        }
      ]
    },
    {
      "cell_type": "code",
      "source": [
        "# Check for missing values in the Dataset\n",
        "mising_val = dataset.isnull().sum()\n",
        "print(\"No. of missing val. in each column: \", mising_val)\n",
        "\n",
        "\n"
      ],
      "metadata": {
        "colab": {
          "base_uri": "https://localhost:8080/"
        },
        "id": "IKo_j0Z2fr9c",
        "outputId": "105fecbc-54ee-477a-b687-b79fa4b55cb7"
      },
      "execution_count": 75,
      "outputs": [
        {
          "output_type": "stream",
          "name": "stdout",
          "text": [
            "No. of missing val. in each column:  word_freq_make                0\n",
            "word_freq_address             0\n",
            "word_freq_all                 0\n",
            "word_freq_3d                  0\n",
            "word_freq_our                 0\n",
            "word_freq_over                0\n",
            "word_freq_remove              0\n",
            "word_freq_internet            0\n",
            "word_freq_order               0\n",
            "word_freq_mail                0\n",
            "word_freq_receive             0\n",
            "word_freq_will                0\n",
            "word_freq_people              0\n",
            "word_freq_report              0\n",
            "word_freq_addresses           0\n",
            "word_freq_free                0\n",
            "word_freq_business            0\n",
            "word_freq_email               0\n",
            "word_freq_you                 0\n",
            "word_freq_credit              0\n",
            "word_freq_your                0\n",
            "word_freq_font                0\n",
            "word_freq_000                 0\n",
            "word_freq_money               0\n",
            "word_freq_hp                  0\n",
            "word_freq_hpl                 0\n",
            "word_freq_george              0\n",
            "word_freq_650                 0\n",
            "word_freq_lab                 0\n",
            "word_freq_labs                0\n",
            "word_freq_telnet              0\n",
            "word_freq_857                 0\n",
            "word_freq_data                0\n",
            "word_freq_415                 0\n",
            "word_freq_85                  0\n",
            "word_freq_technology          0\n",
            "word_freq_1999                0\n",
            "word_freq_parts               0\n",
            "word_freq_pm                  0\n",
            "word_freq_direct              0\n",
            "word_freq_cs                  0\n",
            "word_freq_meeting             0\n",
            "word_freq_original            0\n",
            "word_freq_project             0\n",
            "word_freq_re                  0\n",
            "word_freq_edu                 0\n",
            "word_freq_table               0\n",
            "word_freq_conference          0\n",
            "char_freq_;                   0\n",
            "char_freq_(                   0\n",
            "char_freq_[                   0\n",
            "char_freq_!                   0\n",
            "char_freq_$                   0\n",
            "char_freq_#                   0\n",
            "capital_run_length_average    0\n",
            "capital_run_length_longest    0\n",
            "capital_run_length_total      0\n",
            "Class                         0\n",
            "dtype: int64\n"
          ]
        }
      ]
    },
    {
      "cell_type": "code",
      "source": [
        "#Remove entries with missing feature values.\n",
        "dataset.dropna(inplace=True)\n"
      ],
      "metadata": {
        "id": "-j7cp4Rdgr5d"
      },
      "execution_count": 76,
      "outputs": []
    },
    {
      "cell_type": "markdown",
      "source": [
        "<font color='blue'>Task 3: Preprocess the Dataset</font> [Marks - 1]\n",
        "\n",
        "- Preprocess the dataset as required:\n",
        "- Perform feature scaling or standardization on the features."
      ],
      "metadata": {
        "id": "E3xwA0U-i8CP"
      }
    },
    {
      "cell_type": "code",
      "source": [
        "#seperate features and target\n",
        "x = dataset.drop(columns=['Class'])\n",
        "y = dataset['Class']\n",
        "\n",
        "#Initialize StandardScalar\n",
        "scaler = StandardScaler()\n",
        "\n",
        "#Fit and Transform the features\n",
        "x_scaled = scaler.fit_transform(x)\n",
        "\n",
        "#convert x_scaled back to DataFrame\n",
        "x_scaled_df = pd.DataFrame(x_scaled, columns = x.columns)"
      ],
      "metadata": {
        "id": "R6FrNbqt6XkR"
      },
      "execution_count": 77,
      "outputs": []
    },
    {
      "cell_type": "markdown",
      "source": [
        "<font color='blue'>Task 4: Check Dataset Balance</font> [Marks - 1]\n",
        "\n",
        "- Determine if the dataset is balanced or imbalanced by analyzing the distribution of the target variable.\n"
      ],
      "metadata": {
        "id": "ZQYguEd85qlR"
      }
    },
    {
      "cell_type": "code",
      "source": [
        "y.value_counts()"
      ],
      "metadata": {
        "id": "2ntw1F9E9o_J",
        "outputId": "469d0896-08e1-4273-caa7-cbb27d141038",
        "colab": {
          "base_uri": "https://localhost:8080/",
          "height": 178
        }
      },
      "execution_count": 78,
      "outputs": [
        {
          "output_type": "execute_result",
          "data": {
            "text/plain": [
              "Class\n",
              "0    2531\n",
              "1    1679\n",
              "Name: count, dtype: int64"
            ],
            "text/html": [
              "<div>\n",
              "<style scoped>\n",
              "    .dataframe tbody tr th:only-of-type {\n",
              "        vertical-align: middle;\n",
              "    }\n",
              "\n",
              "    .dataframe tbody tr th {\n",
              "        vertical-align: top;\n",
              "    }\n",
              "\n",
              "    .dataframe thead th {\n",
              "        text-align: right;\n",
              "    }\n",
              "</style>\n",
              "<table border=\"1\" class=\"dataframe\">\n",
              "  <thead>\n",
              "    <tr style=\"text-align: right;\">\n",
              "      <th></th>\n",
              "      <th>count</th>\n",
              "    </tr>\n",
              "    <tr>\n",
              "      <th>Class</th>\n",
              "      <th></th>\n",
              "    </tr>\n",
              "  </thead>\n",
              "  <tbody>\n",
              "    <tr>\n",
              "      <th>0</th>\n",
              "      <td>2531</td>\n",
              "    </tr>\n",
              "    <tr>\n",
              "      <th>1</th>\n",
              "      <td>1679</td>\n",
              "    </tr>\n",
              "  </tbody>\n",
              "</table>\n",
              "</div><br><label><b>dtype:</b> int64</label>"
            ]
          },
          "metadata": {},
          "execution_count": 78
        }
      ]
    },
    {
      "cell_type": "markdown",
      "source": [
        " Number of data for both class (0 and 1) is not equal in count as number of data for class 0 and class 1 is 2531 and 1679 so the Dataset is imbalanced.\n",
        "\n",
        "---\n",
        "\n"
      ],
      "metadata": {
        "id": "ITiJUKIQ-Y84"
      }
    },
    {
      "cell_type": "markdown",
      "source": [
        "<font color='blue'>Task 5: Split the Data</font> [Marks - 1]\n",
        "\n",
        "- Split the data into training, validation, and test sets with the following proportions:\n",
        "  - Training set: 70%\n",
        "  - Validation set: 15%\n",
        "  - Test set: 15%"
      ],
      "metadata": {
        "id": "2h40v_kK_w14"
      }
    },
    {
      "cell_type": "code",
      "source": [
        "#Split the data into training, validation and test set\n",
        "X_train, X_temp, Y_train, Y_temp = train_test_split(x_scaled_df, y, test_size = 0.3, random_state = 42)\n",
        "X_val, X_test, Y_val, Y_test = train_test_split(X_temp, Y_temp, test_size = 0.5, random_state = 42)\n",
        "\n"
      ],
      "metadata": {
        "id": "HIkeHFez_y2y"
      },
      "execution_count": 79,
      "outputs": []
    },
    {
      "cell_type": "markdown",
      "source": [
        "<font color='blue'>Task 6: Implement Logistic Regression from Scratch</font> [Marks - 8]\n",
        "\n",
        "- Implement a logistic regression model from scratch using:\n",
        "  - Cross-entropy loss as the cost function.\n",
        "  - Gradient descent as the learning algorithm.\n",
        "  - L1 regularization in the cost function.\n",
        "- Train the logistic regression model using gradient descent.\n",
        "- Choose appropriate values for the learning rate and regularization parameter through cross-validation."
      ],
      "metadata": {
        "id": "hbCVXDPU_6kQ"
      }
    },
    {
      "cell_type": "code",
      "source": [
        "class ScratchLogisticRegression:\n",
        "\n",
        "  def __init__(self, learning_rate=0.01, lamda=0.1, iterations=1000):\n",
        "    self.learning_rate = learning_rate\n",
        "    self.lamda = lamda\n",
        "    self.iterations = iterations\n",
        "\n",
        "\n",
        "  def sigmoid_fun(self, z):\n",
        "    return 1 / (1 + np.exp(-z))\n",
        "\n",
        "\n",
        "\n",
        "  def computeCost(self, X, Y, weights):\n",
        "    #no of training sample\n",
        "    m = len(Y)\n",
        "    #predicted probabilities\n",
        "    predictions = self.sigmoid_fun(np.dot(X, weights))\n",
        "    #cross-entropy loss\n",
        "    cost = (-1/m) * (np.dot(Y, np.log(predictions + 1e-8)) + np.dot((1-Y), np.log(1-predictions + 1e-8)))\n",
        "    # L1 regularization\n",
        "    L1_regularization = (self.lamda / (2 *  m)) * np.sum(np.abs(weights))\n",
        "    #total cost\n",
        "    total_cost = cost + L1_regularization\n",
        "    return total_cost\n",
        "\n",
        "\n",
        "  def gradientDescent(self, X, Y, weights):\n",
        "    m = len(Y)\n",
        "    predictions = self.sigmoid_fun(np.dot(X, weights))\n",
        "    #gradient of loss function\n",
        "    lossFunction_gradient = (1 / m) * np.dot(X.T, (predictions - Y))\n",
        "    #gradient of regularization\n",
        "    regularization_gradient = (self.lamda / m) * np.sign(weights)\n",
        "    #totatl gradient is sum of gradient of loss function and gradient of regularization\n",
        "    gradient = lossFunction_gradient + regularization_gradient\n",
        "    return gradient\n",
        "\n",
        "\n",
        "  def fit(self, X, Y):\n",
        "     #initialize weights\n",
        "    self.weights = np.zeros(X.shape[1])\n",
        "    for _ in range(self.iterations):\n",
        "      gradient = self.gradientDescent(X, Y, self.weights)\n",
        "      self.weights = self.weights - (self.learning_rate * gradient)\n",
        "\n",
        "\n",
        "  def predict(self, X):\n",
        "    predictions = self.sigmoid_fun(np.dot(X, self.weights))\n",
        "    return np.round(predictions)\n",
        "\n",
        "\n",
        "\n"
      ],
      "metadata": {
        "id": "TMMFjt7D_79O"
      },
      "execution_count": 80,
      "outputs": []
    },
    {
      "cell_type": "code",
      "source": [
        " #train the model\n",
        "scratch_model = ScratchLogisticRegression(learning_rate=0.01, lamda=0.1, iterations=1000)\n",
        "scratch_model.fit(X_train, Y_train)\n",
        "\n",
        "#predict on validation set\n",
        "y_val_pred = scratch_model.predict(X_val)\n",
        "accuracy = accuracy_score(Y_val, y_val_pred)\n",
        "print(\"Accuracy: \", accuracy)"
      ],
      "metadata": {
        "id": "ubU7KeHikPKv",
        "outputId": "f0bc7095-24d3-4262-ef84-c60a7a1dc9c3",
        "colab": {
          "base_uri": "https://localhost:8080/"
        }
      },
      "execution_count": 82,
      "outputs": [
        {
          "output_type": "stream",
          "name": "stdout",
          "text": [
            "Accuracy:  0.9112519809825673\n"
          ]
        }
      ]
    },
    {
      "cell_type": "code",
      "source": [
        "#Choose appropriate values for the learning rate and regularization parameter through cross-validation.\n",
        "# Hyperparameter tunning\n",
        "\n",
        "\n",
        "learing_rates = [0.0001, 0.001, 0.01, 0.1, 1]\n",
        "lamda_values = [0.0001, 0.001, 0.01, 0.1, 1]\n",
        "best_params = {}\n",
        "best_accuracy = 0\n",
        "\n",
        "for learningRate in learing_rates:\n",
        "  for lamda in lamda_values:\n",
        "    scratch_model = ScratchLogisticRegression(learning_rate=learningRate, lamda=lamda, iterations=1000)\n",
        "    scratch_model.fit(X_train, Y_train)\n",
        "    #prediction on validation set\n",
        "    y_pred = scratch_model.predict(X_val)\n",
        "    accuracy = accuracy_score(Y_val, y_pred)\n",
        "\n",
        "    if accuracy > best_accuracy:\n",
        "      best_accuracy = accuracy\n",
        "      best_params['learning_rate'] = learningRate\n",
        "      best_params['lamda'] = lamda\n",
        "\n",
        "print(\"Best parameters: \", best_params)\n",
        "print(\"Best accuracy: \", best_accuracy)\n",
        "\n"
      ],
      "metadata": {
        "id": "934g-Q-NlsoN",
        "outputId": "94109172-e8d1-47f7-beb4-e1944245505d",
        "colab": {
          "base_uri": "https://localhost:8080/"
        }
      },
      "execution_count": 102,
      "outputs": [
        {
          "output_type": "stream",
          "name": "stdout",
          "text": [
            "Best parameters:  {'learning_rate': 1, 'lamda': 1}\n",
            "Best accuracy:  0.9207606973058637\n"
          ]
        }
      ]
    },
    {
      "cell_type": "markdown",
      "source": [
        "<font color='blue'>Task 7: Evaluate Model Performance</font> [Marks - 2]\n",
        "\n",
        "- Evaluate the performance of your logistic regression model on the test set using:\n",
        "  - Confusion matrix.\n",
        "  - Precision.\n",
        "  - Recall.\n",
        "  - Area under the Precision-Recall Curve (AUC-PR).\n"
      ],
      "metadata": {
        "id": "Bdcn-cgGAAbC"
      }
    },
    {
      "cell_type": "code",
      "source": [
        "#train the model on best value of hyperparameter\n",
        "scratch_model = ScratchLogisticRegression(learning_rate=0.1, lamda=1, iterations=1000)\n",
        "scratch_model.fit(X_train, Y_train)\n",
        "\n",
        "#predict on Test set\n",
        "y_test_pred = scratch_model.predict(X_test)\n",
        "\n",
        "#compute confusion matrix\n",
        "confusionMatrix_scratch = confusion_matrix(Y_test, y_test_pred)\n",
        "\n",
        "#plot confusion matrix\n",
        "plt.figure(figsize=(5, 3))\n",
        "sns.heatmap(confusionMatrix_scratch, annot=True, fmt='d', cmap='viridis',\n",
        "            xticklabels=['Not Spam', 'Spam'], yticklabels=['Not Spam', 'Spam'])\n",
        "plt.xlabel('Predicted Label')\n",
        "plt.ylabel('True Label')\n",
        "plt.title('Confusion Matrix')\n",
        "plt.show()\n",
        "\n",
        "#compute precision\n",
        "precision_scratch = precision_score(Y_test, y_test_pred)\n",
        "print(f\"Precision: {precision_scratch:.4f}\")\n",
        "\n",
        "#compute recall\n",
        "recall_scratch = recall_score(Y_test, y_test_pred)\n",
        "print(f\"Recall: {recall_scratch:.4f}\")\n",
        "\n",
        "#Area under the Precision-Recall Curve (AUC-PR)\n",
        "y_test_probabilities_scratch = scratch_model.sigmoid_fun(np.dot(X_test, scratch_model.weights))\n",
        "\n",
        "auc_pr_scratch = average_precision_score(Y_test, y_test_probabilities_scratch)\n",
        "print(f\"Area under the Precision-Recall Curve (AUC-PR): {auc_pr_scratch:.4f}\")"
      ],
      "metadata": {
        "id": "BX2eZVKbABl5",
        "outputId": "84e83071-37cb-4c13-a249-5a4a8a4cfe21",
        "colab": {
          "base_uri": "https://localhost:8080/",
          "height": 387
        }
      },
      "execution_count": 103,
      "outputs": [
        {
          "output_type": "display_data",
          "data": {
            "text/plain": [
              "<Figure size 500x300 with 2 Axes>"
            ],
            "image/png": "[encoded data removed]"
          },
          "metadata": {}
        },
        {
          "output_type": "stream",
          "name": "stdout",
          "text": [
            "Precision: 0.9221\n",
            "Recall: 0.8523\n",
            "Area under the Precision-Recall Curve (AUC-PR): 0.9463\n"
          ]
        }
      ]
    },
    {
      "cell_type": "markdown",
      "source": [
        "<font color='blue'>Task 8: Compare with Scikit-Learn</font> [Marks - 5]\n",
        "\n",
        "- Fit a logistic regression model using scikit-learn.\n",
        "- Compare the performance of your implementation with the scikit-learn model by evaluating:\n",
        "  - Confusion matrix.\n",
        "  - Precision.\n",
        "  - Recall.\n",
        "  - Area under the Precision-Recall Curve (AUC-PR).\n",
        "- Compare the AUC-PR values between your implementation and scikit-learn's implementation."
      ],
      "metadata": {
        "id": "Q-XtHu_EAH5L"
      }
    },
    {
      "cell_type": "code",
      "source": [
        "#initialize scikit-learn logistic regression with L1 regularization\n",
        "sklearn_model = SKLogisticRegression(penalty='l1', solver='liblinear', C=1, max_iter=1000)\n",
        "\n",
        "#fit the model on training data\n",
        "sklearn_model.fit(X_train, Y_train)\n",
        "\n",
        "y_test_pred = sklearn_model.predict(X_test)\n",
        "\n",
        "#compute confusion matrix\n",
        "confusionMatrix_sklearn = confusion_matrix(Y_test, y_test_pred)\n",
        "\n",
        "#plot confusion matrix\n",
        "plt.figure(figsize=(5, 3))\n",
        "sns.heatmap(confusionMatrix_sklearn, annot=True, fmt='d', cmap='viridis',\n",
        "            xticklabels=['Not Spam', 'Spam'], yticklabels=['Not Spam', 'Spam'])\n",
        "plt.xlabel('Predicted Label')\n",
        "plt.ylabel('True Label')\n",
        "plt.title('Confusion Matrix')\n",
        "plt.show()\n",
        "\n",
        "#compute precision\n",
        "precision_sklearn = precision_score(Y_test, y_test_pred)\n",
        "print(f\"Precision: {precision_sklearn:.4f}\")\n",
        "\n",
        "#compute recall\n",
        "recall_sklearn = recall_score(Y_test, y_test_pred)\n",
        "print(f\"Recall: {recall_sklearn:.4f}\")\n",
        "\n",
        "#Area under the Precision-Recall Curve (AUC-PR)\n",
        "y_test_probabilities_sklearn = sklearn_model.predict_proba(X_test)[:, 1]\n",
        "\n",
        "auc_pr_sklearn = average_precision_score(Y_test, y_test_probabilities_sklearn)\n",
        "print(f\"Area under the Precision-Recall Curve (AUC-PR): {auc_pr_sklearn:.4f}\")"
      ],
      "metadata": {
        "id": "G-tfQ5MAAInG",
        "outputId": "0b52b180-c8c8-4950-9fc6-0a750f9ff5eb",
        "colab": {
          "base_uri": "https://localhost:8080/",
          "height": 387
        }
      },
      "execution_count": 104,
      "outputs": [
        {
          "output_type": "display_data",
          "data": {
            "text/plain": [
              "<Figure size 500x300 with 2 Axes>"
            ],
            "image/png": "[encoded data removed]"
          },
          "metadata": {}
        },
        {
          "output_type": "stream",
          "name": "stdout",
          "text": [
            "Precision: 0.9344\n",
            "Recall: 0.8636\n",
            "Area under the Precision-Recall Curve (AUC-PR): 0.9492\n"
          ]
        }
      ]
    },
    {
      "cell_type": "code",
      "source": [
        "#comparision implementation with scratch and scikit-learn\n",
        "\n",
        "#confusion matrix comparision\n",
        "#plot confusion matrix for scratch implementation\n",
        "plt.figure(figsize=(5, 3))\n",
        "sns.heatmap(confusionMatrix_scratch, annot=True, fmt='d', cmap='viridis',\n",
        "            xticklabels=['Not Spam', 'Spam'], yticklabels=['Not Spam', 'Spam'])\n",
        "plt.xlabel('Predicted Label')\n",
        "plt.ylabel('True Label')\n",
        "plt.title('Confusion Matrix(scratch implementation)')\n",
        "plt.show()\n",
        "\n",
        "#plot confusion matrix for scikit-learn implementation\n",
        "plt.figure(figsize=(5, 3))\n",
        "sns.heatmap(confusionMatrix_sklearn, annot=True, fmt='d', cmap='viridis',\n",
        "            xticklabels=['Not Spam', 'Spam'], yticklabels=['Not Spam', 'Spam'])\n",
        "plt.xlabel('Predicted Label')\n",
        "plt.ylabel('True Label')\n",
        "plt.title('Confusion Matrix(scikit-learn implementation)')\n",
        "plt.show()\n",
        "\n",
        "#precision for scratch implementation\n",
        "print(f\"\\nPrecision for scratch implementation: {precision_scratch:.4f}\")\n",
        "\n",
        "#precision for scikit-learn implementation\n",
        "print(f\"precision for scikit-learn implementation: {precision_sklearn:.4f}\")\n",
        "\n",
        "#recall for scratch implementation\n",
        "print(f\"\\nrecall for scratch implementation: {recall_scratch:.4f}\")\n",
        "\n",
        "#recall for scikit-learn implementation\n",
        "print(f\"Recall for scikit-learn implementation: {recall_sklearn:.4f}\")\n",
        "\n",
        "#Area under the Precision-Recall Curve (AUC-PR) for scratch implementation\n",
        "print(f\"\\nArea under the Precision-Recall Curve (AUC-PR) for scratch implementation: {auc_pr_sklearn:.4f}\")\n",
        "\n",
        "#Area under the Precision-Recall Curve (AUC-PR) for scikit-learn implementation\n",
        "print(f\"Area under the Precision-Recall Curve (AUC-PR) for scikit-learn implementation: {auc_pr_sklearn:.4f}\")\n",
        "\n"
      ],
      "metadata": {
        "id": "bSX5fdV41WuI",
        "outputId": "4d0ee25b-0fd9-44df-eb8f-236e9c3a8a67",
        "colab": {
          "base_uri": "https://localhost:8080/",
          "height": 810
        }
      },
      "execution_count": 106,
      "outputs": [
        {
          "output_type": "display_data",
          "data": {
            "text/plain": [
              "<Figure size 500x300 with 2 Axes>"
            ],
            "image/png": "[encoded data removed]"
          },
          "metadata": {}
        },
        {
          "output_type": "display_data",
          "data": {
            "text/plain": [
              "<Figure size 500x300 with 2 Axes>"
            ],
            "image/png": "[encoded data removed]"
          },
          "metadata": {}
        },
        {
          "output_type": "stream",
          "name": "stdout",
          "text": [
            "\n",
            "Precision for scratch implementation: 0.9221\n",
            "precision for scikit-learn implementation: 0.9344\n",
            "\n",
            "recall for scratch implementation: 0.8523\n",
            "Recall for scikit-learn implementation: 0.8636\n",
            "\n",
            "Area under the Precision-Recall Curve (AUC-PR) for scratch implementation: 0.9492\n",
            "Area under the Precision-Recall Curve (AUC-PR) for scikit-learn implementation: 0.9492\n"
          ]
        }
      ]
    }
  ]
}