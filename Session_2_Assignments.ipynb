{
  "nbformat": 4,
  "nbformat_minor": 0,
  "metadata": {
    "colab": {
      "provenance": [],
      "toc_visible": true,
      "authorship_tag": "ABX9TyN6HymB1XgiHeccqhD7JnUp",
      "include_colab_link": true
    },
    "kernelspec": {
      "name": "python3",
      "display_name": "Python 3"
    },
    "language_info": {
      "name": "python"
    }
  },
  "cells": [
    {
      "cell_type": "markdown",
      "metadata": {
        "id": "view-in-github",
        "colab_type": "text"
      },
      "source": [
        "<a href=\"https://colab.research.google.com/github/NehaKumari500092077/Machine-Learning-Lab/blob/main/Session_2_Assignments.ipynb\" target=\"_parent\"><img src=\"https://colab.research.google.com/assets/colab-badge.svg\" alt=\"Open In Colab\"/></a>"
      ]
    },
    {
      "cell_type": "markdown",
      "source": [
        "#### Task - 1:\n",
        "Dataset creation using make_regression of scikit-learn [Mark - 0]"
      ],
      "metadata": {
        "id": "4omviA66biXk"
      }
    },
    {
      "cell_type": "code",
      "source": [
        "# Creating regression dataset\n",
        "# from sklearn.datasets import make_regression\n",
        "# import pandas as pd\n",
        "\n",
        "# # Creating a toy regression dataset with 5 features\n",
        "# X_gen, y_gen = make_regression(n_samples=1000, n_features=5, noise=0.1, random_state=42)\n",
        "\n",
        "# # Combine the features and target into one DataFrame\n",
        "# df = pd.DataFrame(X_gen, columns=[f'Feature_{i}' for i in range(1, 6)])\n",
        "# df['target'] = y_gen\n",
        "\n",
        "# # Save the DataFrame to a CSV file\n",
        "# df.to_csv('regression_dataset.csv', index=False)"
      ],
      "metadata": {
        "id": "TdW37cPAbqsR"
      },
      "execution_count": null,
      "outputs": []
    },
    {
      "cell_type": "code",
      "source": [
        "import numpy as np\n",
        "import pandas as pd\n",
        "# Importing the dataset\n",
        "dataset = pd.read_csv('https://raw.githubusercontent.com/Rekha215/Machine-Learning-Laboratory/main/regression_dataset.csv')"
      ],
      "metadata": {
        "id": "vc7VbHEBcQSL"
      },
      "execution_count": 1,
      "outputs": []
    },
    {
      "cell_type": "code",
      "source": [
        "# We can get a quick idea of how many instances (rows) and how many attributes (columns) the data contains with the shape property.\n",
        "dataset.shape"
      ],
      "metadata": {
        "colab": {
          "base_uri": "https://localhost:8080/"
        },
        "id": "-74DwkG9dctJ",
        "outputId": "be0c7276-cd9d-43bf-ae3f-b05371ad0d0a"
      },
      "execution_count": 2,
      "outputs": [
        {
          "output_type": "execute_result",
          "data": {
            "text/plain": [
              "(1000, 6)"
            ]
          },
          "metadata": {},
          "execution_count": 2
        }
      ]
    },
    {
      "cell_type": "code",
      "source": [
        "dataset.head(10)"
      ],
      "metadata": {
        "colab": {
          "base_uri": "https://localhost:8080/",
          "height": 363
        },
        "id": "L3V39OC6d-a4",
        "outputId": "dd4d85f7-0c7a-49fe-8223-c6f2e101dc14"
      },
      "execution_count": 3,
      "outputs": [
        {
          "output_type": "execute_result",
          "data": {
            "text/plain": [
              "   Feature_1  Feature_2  Feature_3  Feature_4  Feature_5     target\n",
              "0   2.056544   0.606851   0.482688  -1.130888   0.420094  74.905613\n",
              "1  -0.799192  -0.645964  -0.182896  -0.482744   1.374876 -41.649588\n",
              "2   1.076007  -0.796026  -0.751969   0.021312  -0.319054 -24.182866\n",
              "3  -0.103255  -0.828497   1.489863  -1.643189  -1.600904 -87.094505\n",
              "4  -2.063403   0.503252  -0.645572  -0.317350  -1.661083 -86.122029\n",
              "5  -0.215610  -0.007045  -0.451949  -0.371858  -0.789339 -38.209953\n",
              "6   0.613518   0.120031   0.436324  -1.022793   0.038003   5.926908\n",
              "7   0.234024   0.553040   1.818062  -0.248529   0.775155  71.377873\n",
              "8   1.588627   0.140983   0.145521   0.695402  -0.614123  59.912602\n",
              "9   0.182501  -0.044893  -0.399899  -0.670115   0.269295 -15.096912"
            ],
            "text/html": [
              "\n",
              "  <div id=\"df-01c412dc-79ae-45fe-b135-7e55bcc10ea3\" class=\"colab-df-container\">\n",
              "    <div>\n",
              "<style scoped>\n",
              "    .dataframe tbody tr th:only-of-type {\n",
              "        vertical-align: middle;\n",
              "    }\n",
              "\n",
              "    .dataframe tbody tr th {\n",
              "        vertical-align: top;\n",
              "    }\n",
              "\n",
              "    .dataframe thead th {\n",
              "        text-align: right;\n",
              "    }\n",
              "</style>\n",
              "<table border=\"1\" class=\"dataframe\">\n",
              "  <thead>\n",
              "    <tr style=\"text-align: right;\">\n",
              "      <th></th>\n",
              "      <th>Feature_1</th>\n",
              "      <th>Feature_2</th>\n",
              "      <th>Feature_3</th>\n",
              "      <th>Feature_4</th>\n",
              "      <th>Feature_5</th>\n",
              "      <th>target</th>\n",
              "    </tr>\n",
              "  </thead>\n",
              "  <tbody>\n",
              "    <tr>\n",
              "      <th>0</th>\n",
              "      <td>2.056544</td>\n",
              "      <td>0.606851</td>\n",
              "      <td>0.482688</td>\n",
              "      <td>-1.130888</td>\n",
              "      <td>0.420094</td>\n",
              "      <td>74.905613</td>\n",
              "    </tr>\n",
              "    <tr>\n",
              "      <th>1</th>\n",
              "      <td>-0.799192</td>\n",
              "      <td>-0.645964</td>\n",
              "      <td>-0.182896</td>\n",
              "      <td>-0.482744</td>\n",
              "      <td>1.374876</td>\n",
              "      <td>-41.649588</td>\n",
              "    </tr>\n",
              "    <tr>\n",
              "      <th>2</th>\n",
              "      <td>1.076007</td>\n",
              "      <td>-0.796026</td>\n",
              "      <td>-0.751969</td>\n",
              "      <td>0.021312</td>\n",
              "      <td>-0.319054</td>\n",
              "      <td>-24.182866</td>\n",
              "    </tr>\n",
              "    <tr>\n",
              "      <th>3</th>\n",
              "      <td>-0.103255</td>\n",
              "      <td>-0.828497</td>\n",
              "      <td>1.489863</td>\n",
              "      <td>-1.643189</td>\n",
              "      <td>-1.600904</td>\n",
              "      <td>-87.094505</td>\n",
              "    </tr>\n",
              "    <tr>\n",
              "      <th>4</th>\n",
              "      <td>-2.063403</td>\n",
              "      <td>0.503252</td>\n",
              "      <td>-0.645572</td>\n",
              "      <td>-0.317350</td>\n",
              "      <td>-1.661083</td>\n",
              "      <td>-86.122029</td>\n",
              "    </tr>\n",
              "    <tr>\n",
              "      <th>5</th>\n",
              "      <td>-0.215610</td>\n",
              "      <td>-0.007045</td>\n",
              "      <td>-0.451949</td>\n",
              "      <td>-0.371858</td>\n",
              "      <td>-0.789339</td>\n",
              "      <td>-38.209953</td>\n",
              "    </tr>\n",
              "    <tr>\n",
              "      <th>6</th>\n",
              "      <td>0.613518</td>\n",
              "      <td>0.120031</td>\n",
              "      <td>0.436324</td>\n",
              "      <td>-1.022793</td>\n",
              "      <td>0.038003</td>\n",
              "      <td>5.926908</td>\n",
              "    </tr>\n",
              "    <tr>\n",
              "      <th>7</th>\n",
              "      <td>0.234024</td>\n",
              "      <td>0.553040</td>\n",
              "      <td>1.818062</td>\n",
              "      <td>-0.248529</td>\n",
              "      <td>0.775155</td>\n",
              "      <td>71.377873</td>\n",
              "    </tr>\n",
              "    <tr>\n",
              "      <th>8</th>\n",
              "      <td>1.588627</td>\n",
              "      <td>0.140983</td>\n",
              "      <td>0.145521</td>\n",
              "      <td>0.695402</td>\n",
              "      <td>-0.614123</td>\n",
              "      <td>59.912602</td>\n",
              "    </tr>\n",
              "    <tr>\n",
              "      <th>9</th>\n",
              "      <td>0.182501</td>\n",
              "      <td>-0.044893</td>\n",
              "      <td>-0.399899</td>\n",
              "      <td>-0.670115</td>\n",
              "      <td>0.269295</td>\n",
              "      <td>-15.096912</td>\n",
              "    </tr>\n",
              "  </tbody>\n",
              "</table>\n",
              "</div>\n",
              "    <div class=\"colab-df-buttons\">\n",
              "\n",
              "  <div class=\"colab-df-container\">\n",
              "    <button class=\"colab-df-convert\" onclick=\"convertToInteractive('df-01c412dc-79ae-45fe-b135-7e55bcc10ea3')\"\n",
              "            title=\"Convert this dataframe to an interactive table.\"\n",
              "            style=\"display:none;\">\n",
              "\n",
              "  <svg xmlns=\"http://www.w3.org/2000/svg\" height=\"24px\" viewBox=\"0 -960 960 960\">\n",
              "    <path d=\"M120-120v-720h720v720H120Zm60-500h600v-160H180v160Zm220 220h160v-160H400v160Zm0 220h160v-160H400v160ZM180-400h160v-160H180v160Zm440 0h160v-160H620v160ZM180-180h160v-160H180v160Zm440 0h160v-160H620v160Z\"/>\n",
              "  </svg>\n",
              "    </button>\n",
              "\n",
              "  <style>\n",
              "    .colab-df-container {\n",
              "      display:flex;\n",
              "      gap: 12px;\n",
              "    }\n",
              "\n",
              "    .colab-df-convert {\n",
              "      background-color: #E8F0FE;\n",
              "      border: none;\n",
              "      border-radius: 50%;\n",
              "      cursor: pointer;\n",
              "      display: none;\n",
              "      fill: #1967D2;\n",
              "      height: 32px;\n",
              "      padding: 0 0 0 0;\n",
              "      width: 32px;\n",
              "    }\n",
              "\n",
              "    .colab-df-convert:hover {\n",
              "      background-color: #E2EBFA;\n",
              "      box-shadow: 0px 1px 2px rgba(60, 64, 67, 0.3), 0px 1px 3px 1px rgba(60, 64, 67, 0.15);\n",
              "      fill: #174EA6;\n",
              "    }\n",
              "\n",
              "    .colab-df-buttons div {\n",
              "      margin-bottom: 4px;\n",
              "    }\n",
              "\n",
              "    [theme=dark] .colab-df-convert {\n",
              "      background-color: #3B4455;\n",
              "      fill: #D2E3FC;\n",
              "    }\n",
              "\n",
              "    [theme=dark] .colab-df-convert:hover {\n",
              "      background-color: #434B5C;\n",
              "      box-shadow: 0px 1px 3px 1px rgba(0, 0, 0, 0.15);\n",
              "      filter: drop-shadow(0px 1px 2px rgba(0, 0, 0, 0.3));\n",
              "      fill: #FFFFFF;\n",
              "    }\n",
              "  </style>\n",
              "\n",
              "    <script>\n",
              "      const buttonEl =\n",
              "        document.querySelector('#df-01c412dc-79ae-45fe-b135-7e55bcc10ea3 button.colab-df-convert');\n",
              "      buttonEl.style.display =\n",
              "        google.colab.kernel.accessAllowed ? 'block' : 'none';\n",
              "\n",
              "      async function convertToInteractive(key) {\n",
              "        const element = document.querySelector('#df-01c412dc-79ae-45fe-b135-7e55bcc10ea3');\n",
              "        const dataTable =\n",
              "          await google.colab.kernel.invokeFunction('convertToInteractive',\n",
              "                                                    [key], {});\n",
              "        if (!dataTable) return;\n",
              "\n",
              "        const docLinkHtml = 'Like what you see? Visit the ' +\n",
              "          '<a target=\"_blank\" href=https://colab.research.google.com/notebooks/data_table.ipynb>data table notebook</a>'\n",
              "          + ' to learn more about interactive tables.';\n",
              "        element.innerHTML = '';\n",
              "        dataTable['output_type'] = 'display_data';\n",
              "        await google.colab.output.renderOutput(dataTable, element);\n",
              "        const docLink = document.createElement('div');\n",
              "        docLink.innerHTML = docLinkHtml;\n",
              "        element.appendChild(docLink);\n",
              "      }\n",
              "    </script>\n",
              "  </div>\n",
              "\n",
              "\n",
              "<div id=\"df-b679c46a-9538-47d6-b0b5-d8e0857d31e8\">\n",
              "  <button class=\"colab-df-quickchart\" onclick=\"quickchart('df-b679c46a-9538-47d6-b0b5-d8e0857d31e8')\"\n",
              "            title=\"Suggest charts\"\n",
              "            style=\"display:none;\">\n",
              "\n",
              "<svg xmlns=\"http://www.w3.org/2000/svg\" height=\"24px\"viewBox=\"0 0 24 24\"\n",
              "     width=\"24px\">\n",
              "    <g>\n",
              "        <path d=\"M19 3H5c-1.1 0-2 .9-2 2v14c0 1.1.9 2 2 2h14c1.1 0 2-.9 2-2V5c0-1.1-.9-2-2-2zM9 17H7v-7h2v7zm4 0h-2V7h2v10zm4 0h-2v-4h2v4z\"/>\n",
              "    </g>\n",
              "</svg>\n",
              "  </button>\n",
              "\n",
              "<style>\n",
              "  .colab-df-quickchart {\n",
              "      --bg-color: #E8F0FE;\n",
              "      --fill-color: #1967D2;\n",
              "      --hover-bg-color: #E2EBFA;\n",
              "      --hover-fill-color: #174EA6;\n",
              "      --disabled-fill-color: #AAA;\n",
              "      --disabled-bg-color: #DDD;\n",
              "  }\n",
              "\n",
              "  [theme=dark] .colab-df-quickchart {\n",
              "      --bg-color: #3B4455;\n",
              "      --fill-color: #D2E3FC;\n",
              "      --hover-bg-color: #434B5C;\n",
              "      --hover-fill-color: #FFFFFF;\n",
              "      --disabled-bg-color: #3B4455;\n",
              "      --disabled-fill-color: #666;\n",
              "  }\n",
              "\n",
              "  .colab-df-quickchart {\n",
              "    background-color: var(--bg-color);\n",
              "    border: none;\n",
              "    border-radius: 50%;\n",
              "    cursor: pointer;\n",
              "    display: none;\n",
              "    fill: var(--fill-color);\n",
              "    height: 32px;\n",
              "    padding: 0;\n",
              "    width: 32px;\n",
              "  }\n",
              "\n",
              "  .colab-df-quickchart:hover {\n",
              "    background-color: var(--hover-bg-color);\n",
              "    box-shadow: 0 1px 2px rgba(60, 64, 67, 0.3), 0 1px 3px 1px rgba(60, 64, 67, 0.15);\n",
              "    fill: var(--button-hover-fill-color);\n",
              "  }\n",
              "\n",
              "  .colab-df-quickchart-complete:disabled,\n",
              "  .colab-df-quickchart-complete:disabled:hover {\n",
              "    background-color: var(--disabled-bg-color);\n",
              "    fill: var(--disabled-fill-color);\n",
              "    box-shadow: none;\n",
              "  }\n",
              "\n",
              "  .colab-df-spinner {\n",
              "    border: 2px solid var(--fill-color);\n",
              "    border-color: transparent;\n",
              "    border-bottom-color: var(--fill-color);\n",
              "    animation:\n",
              "      spin 1s steps(1) infinite;\n",
              "  }\n",
              "\n",
              "  @keyframes spin {\n",
              "    0% {\n",
              "      border-color: transparent;\n",
              "      border-bottom-color: var(--fill-color);\n",
              "      border-left-color: var(--fill-color);\n",
              "    }\n",
              "    20% {\n",
              "      border-color: transparent;\n",
              "      border-left-color: var(--fill-color);\n",
              "      border-top-color: var(--fill-color);\n",
              "    }\n",
              "    30% {\n",
              "      border-color: transparent;\n",
              "      border-left-color: var(--fill-color);\n",
              "      border-top-color: var(--fill-color);\n",
              "      border-right-color: var(--fill-color);\n",
              "    }\n",
              "    40% {\n",
              "      border-color: transparent;\n",
              "      border-right-color: var(--fill-color);\n",
              "      border-top-color: var(--fill-color);\n",
              "    }\n",
              "    60% {\n",
              "      border-color: transparent;\n",
              "      border-right-color: var(--fill-color);\n",
              "    }\n",
              "    80% {\n",
              "      border-color: transparent;\n",
              "      border-right-color: var(--fill-color);\n",
              "      border-bottom-color: var(--fill-color);\n",
              "    }\n",
              "    90% {\n",
              "      border-color: transparent;\n",
              "      border-bottom-color: var(--fill-color);\n",
              "    }\n",
              "  }\n",
              "</style>\n",
              "\n",
              "  <script>\n",
              "    async function quickchart(key) {\n",
              "      const quickchartButtonEl =\n",
              "        document.querySelector('#' + key + ' button');\n",
              "      quickchartButtonEl.disabled = true;  // To prevent multiple clicks.\n",
              "      quickchartButtonEl.classList.add('colab-df-spinner');\n",
              "      try {\n",
              "        const charts = await google.colab.kernel.invokeFunction(\n",
              "            'suggestCharts', [key], {});\n",
              "      } catch (error) {\n",
              "        console.error('Error during call to suggestCharts:', error);\n",
              "      }\n",
              "      quickchartButtonEl.classList.remove('colab-df-spinner');\n",
              "      quickchartButtonEl.classList.add('colab-df-quickchart-complete');\n",
              "    }\n",
              "    (() => {\n",
              "      let quickchartButtonEl =\n",
              "        document.querySelector('#df-b679c46a-9538-47d6-b0b5-d8e0857d31e8 button');\n",
              "      quickchartButtonEl.style.display =\n",
              "        google.colab.kernel.accessAllowed ? 'block' : 'none';\n",
              "    })();\n",
              "  </script>\n",
              "</div>\n",
              "\n",
              "    </div>\n",
              "  </div>\n"
            ],
            "application/vnd.google.colaboratory.intrinsic+json": {
              "type": "dataframe",
              "variable_name": "dataset",
              "summary": "{\n  \"name\": \"dataset\",\n  \"rows\": 1000,\n  \"fields\": [\n    {\n      \"column\": \"Feature_1\",\n      \"properties\": {\n        \"dtype\": \"number\",\n        \"std\": 0.9598420017569697,\n        \"min\": -3.007632339693757,\n        \"max\": 3.0788808084552377,\n        \"num_unique_values\": 1000,\n        \"samples\": [\n          -0.543424771133765,\n          -0.3570292008066094,\n          1.8071966436378848\n        ],\n        \"semantic_type\": \"\",\n        \"description\": \"\"\n      }\n    },\n    {\n      \"column\": \"Feature_2\",\n      \"properties\": {\n        \"dtype\": \"number\",\n        \"std\": 1.0053207497928607,\n        \"min\": -3.241267340069073,\n        \"max\": 3.152056734512085,\n        \"num_unique_values\": 1000,\n        \"samples\": [\n          -0.0327532702159983,\n          -1.5178737466808094,\n          1.450927548279212\n        ],\n        \"semantic_type\": \"\",\n        \"description\": \"\"\n      }\n    },\n    {\n      \"column\": \"Feature_3\",\n      \"properties\": {\n        \"dtype\": \"number\",\n        \"std\": 0.9992188872627089,\n        \"min\": -3.170425735878056,\n        \"max\": 3.926237706436327,\n        \"num_unique_values\": 1000,\n        \"samples\": [\n          -0.5736620068802363,\n          -0.2939669476641822,\n          -0.0774434607259936\n        ],\n        \"semantic_type\": \"\",\n        \"description\": \"\"\n      }\n    },\n    {\n      \"column\": \"Feature_4\",\n      \"properties\": {\n        \"dtype\": \"number\",\n        \"std\": 0.988835402272661,\n        \"min\": -3.1767038131960006,\n        \"max\": 3.852731490654721,\n        \"num_unique_values\": 1000,\n        \"samples\": [\n          -0.7128457826771644,\n          0.8903831635197862,\n          -1.6826586941226858\n        ],\n        \"semantic_type\": \"\",\n        \"description\": \"\"\n      }\n    },\n    {\n      \"column\": \"Feature_5\",\n      \"properties\": {\n        \"dtype\": \"number\",\n        \"std\": 1.0292480463637732,\n        \"min\": -2.94038863466428,\n        \"max\": 3.2430929695947333,\n        \"num_unique_values\": 1000,\n        \"samples\": [\n          -0.5468589412403921,\n          -0.0715992518580668,\n          -1.1952937635992449\n        ],\n        \"semantic_type\": \"\",\n        \"description\": \"\"\n      }\n    },\n    {\n      \"column\": \"target\",\n      \"properties\": {\n        \"dtype\": \"number\",\n        \"std\": 64.72227829928767,\n        \"min\": -223.0834366815274,\n        \"max\": 173.1379589811568,\n        \"num_unique_values\": 1000,\n        \"samples\": [\n          -54.692228587132014,\n          -64.36117982306618,\n          52.87950110686434\n        ],\n        \"semantic_type\": \"\",\n        \"description\": \"\"\n      }\n    }\n  ]\n}"
            }
          },
          "metadata": {},
          "execution_count": 3
        }
      ]
    },
    {
      "cell_type": "markdown",
      "source": [
        "#### Task - 2:\n",
        "Two K-NN regressor implementations (from scratch)\n",
        "1. Average of K-nearest neighbors [Marks - 5]\n",
        "2. Weighted average of k nearest neighbors, with weights being inverse of distances from the k neighbors [Marks - 5]"
      ],
      "metadata": {
        "id": "cr4Vm0VOcdlT"
      }
    },
    {
      "cell_type": "code",
      "source": [],
      "metadata": {
        "id": "GKBnX6kKcmuc"
      },
      "execution_count": null,
      "outputs": []
    },
    {
      "cell_type": "markdown",
      "source": [
        "#### Task - 3:\n",
        "Plot regression metric (mean squared error) against different values of k ``` {3, 7, 11}``` and different distance measures ```{p=2, p=1, p=5}```and report the k value and distance measure combination that gave the best performance (lowest MSE) [Marks - 4]"
      ],
      "metadata": {
        "id": "tcvX0GBvcn8F"
      }
    },
    {
      "cell_type": "code",
      "source": [],
      "metadata": {
        "id": "FscokKk7csgk"
      },
      "execution_count": null,
      "outputs": []
    },
    {
      "cell_type": "markdown",
      "source": [
        "#### Task - 4:\n",
        "Implement KNN regression using scikit-learn, with the same values of k and p as above\n",
        "\n",
        "##### Note - one argument of scikit-learn KNN is ```algorithm='auto'``` and acceptable values are ```{'auto', 'ball_tree', 'kd_tree', 'brute'}, default='auto' ```. For this task use ```'brute'``` setting.\n",
        "\n",
        "[Marks - 4]"
      ],
      "metadata": {
        "id": "hRmoJbjidoUl"
      }
    },
    {
      "cell_type": "code",
      "source": [],
      "metadata": {
        "id": "npK8VBe9dpUD"
      },
      "execution_count": null,
      "outputs": []
    },
    {
      "cell_type": "markdown",
      "source": [
        "#### Task - 5:\n",
        "Comparison with scikit-learn's implementation - Does the optimal values of k and distance metric as well as best performance level of the from scratch implementation match with those given by Sklearn?\n",
        "\n",
        " [Marks - 2]"
      ],
      "metadata": {
        "id": "U5Z2p6wAdqXy"
      }
    },
    {
      "cell_type": "code",
      "source": [],
      "metadata": {
        "id": "BprV2brqdwzk"
      },
      "execution_count": null,
      "outputs": []
    }
  ]
}