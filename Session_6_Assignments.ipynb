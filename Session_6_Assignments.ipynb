{
  "nbformat": 4,
  "nbformat_minor": 0,
  "metadata": {
    "colab": {
      "provenance": [],
      "authorship_tag": "ABX9TyNELniQcW5IvxUe6VHO463E",
      "include_colab_link": true
    },
    "kernelspec": {
      "name": "python3",
      "display_name": "Python 3"
    },
    "language_info": {
      "name": "python"
    }
  },
  "cells": [
    {
      "cell_type": "markdown",
      "metadata": {
        "id": "view-in-github",
        "colab_type": "text"
      },
      "source": [
        "<a href=\"https://colab.research.google.com/github/NehaKumari500092077/Machine-Learning-Lab/blob/main/Session_6_Assignments.ipynb\" target=\"_parent\"><img src=\"https://colab.research.google.com/assets/colab-badge.svg\" alt=\"Open In Colab\"/></a>"
      ]
    },
    {
      "cell_type": "markdown",
      "source": [
        "**Assignment 6**: Predicting Bike Sharing Demand with Neural Networks\n",
        "\n",
        "# 1. Load and preprocess the [Bike Sharing dataset](https://archive.ics.uci.edu/dataset/275/bike+sharing+dataset) **[1 Marks]**\n",
        "\n",
        "*   Check for missing and duplicate values\n",
        "*   Remove it (If found)\n",
        "\n"
      ],
      "metadata": {
        "id": "I-PV4VPLKGKl"
      }
    },
    {
      "cell_type": "markdown",
      "source": [
        "# 2. Data Pre-processing **[1 Marks]**\n",
        "\n",
        "*   Perform one-hot encoding of the categorical features when necessary (not necessary if there is a natural ordering between categories)\n",
        "*   Perform feature scaling\n",
        "\n"
      ],
      "metadata": {
        "id": "YIv8q0pwqr8Q"
      }
    },
    {
      "cell_type": "markdown",
      "source": [
        "# 3. Data Splitting **[1  Marks]**\n",
        "\n",
        "*   Divide the data into training, validation and test sets (70%-15%-15%).\n",
        "\n"
      ],
      "metadata": {
        "id": "mwyd3yceqv_R"
      }
    },
    {
      "cell_type": "markdown",
      "source": [
        "# 4. Model Design: Design a neural network having N hidden layers **[7  Marks]**  \n",
        "\n",
        "*   The number of units in each hidden layer as 128, 64, 32, and so on\n",
        "*   Activation function in each hidden layer: ReLU\n",
        "*   What activation function should you choose for the output layer for this prediction problem?\n",
        "\n"
      ],
      "metadata": {
        "id": "KnHMCXRpqzFQ"
      }
    },
    {
      "cell_type": "markdown",
      "source": [
        "# 5. Cost function: Define a cost function suitable for this problem **[3  Marks]**\n",
        "\n",
        "*   Use the SGD optimizer to optimize this cost function using backpropagation.\n",
        "\n"
      ],
      "metadata": {
        "id": "Hy5q4JLLq1iJ"
      }
    },
    {
      "cell_type": "markdown",
      "source": [
        "# 6. Perform cross-validation to find the best value of N using grid search. **[2  Marks]**\n",
        "\n"
      ],
      "metadata": {
        "id": "4F1nShA_q3gL"
      }
    },
    {
      "cell_type": "markdown",
      "source": [
        "# 7. Loss Plots: **[1 Marks]**\n",
        "\n",
        "*  Plot the training and validation losses for each value of N (on the same\n",
        "graph).\n",
        "\n"
      ],
      "metadata": {
        "id": "vfOh7vg7q57b"
      }
    },
    {
      "cell_type": "markdown",
      "source": [
        "# 8. What is the *best value of the number of hidden layers (N)* for this problem? Justify your answer. **[2  Marks]**\n",
        "\n"
      ],
      "metadata": {
        "id": "e5QmF8Seq7xb"
      }
    },
    {
      "cell_type": "markdown",
      "source": [
        "# 9. For the model trained with the best value of N that you reported in the previous question, *report the MSE on the test set*.  **[1  Marks]**\n",
        "\n"
      ],
      "metadata": {
        "id": "ka2wX_8Jq9lK"
      }
    },
    {
      "cell_type": "markdown",
      "source": [
        "\n",
        "# 10. Show a *scatter plot of the predictions against the true values* for the predictions for the best model that you obtained. **[1  Marks]**"
      ],
      "metadata": {
        "id": "uJ97dkTsrABU"
      }
    },
    {
      "cell_type": "markdown",
      "source": [],
      "metadata": {
        "id": "ryblIZCMqmXA"
      }
    }
  ]
}