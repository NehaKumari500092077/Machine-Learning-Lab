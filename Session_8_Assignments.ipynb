{
  "nbformat": 4,
  "nbformat_minor": 0,
  "metadata": {
    "colab": {
      "provenance": [],
      "authorship_tag": "ABX9TyMjcqspSyvadh0pLa6WsE8N",
      "include_colab_link": true
    },
    "kernelspec": {
      "name": "python3",
      "display_name": "Python 3"
    },
    "language_info": {
      "name": "python"
    }
  },
  "cells": [
    {
      "cell_type": "markdown",
      "metadata": {
        "id": "view-in-github",
        "colab_type": "text"
      },
      "source": [
        "<a href=\"https://colab.research.google.com/github/NehaKumari500092077/Machine-Learning-Lab/blob/main/Session_8_Assignments.ipynb\" target=\"_parent\"><img src=\"https://colab.research.google.com/assets/colab-badge.svg\" alt=\"Open In Colab\"/></a>"
      ]
    },
    {
      "cell_type": "markdown",
      "source": [
        "##**Assignment on Support Vector Machines (SVMs) [20 marks]**\n",
        "\n",
        "For this assignment, you shall be using UC Irvine's Real Estate Valuation Dataset from [this link](https://archive.ics.uci.edu/dataset/477/real+estate+valuation+data+set). Comparisons will be made between SVMs using the Polynomial and RBF kernels. You are required to carry out the following steps:\n",
        "\n",
        "\n",
        "\n",
        "\n",
        "\n"
      ],
      "metadata": {
        "id": "sjGcwizz4UNQ"
      }
    },
    {
      "cell_type": "markdown",
      "source": [
        "1.   Load the online news popularity dataset from the link above. You may use the data import code snippet provided there. **[1 mark]**\n"
      ],
      "metadata": {
        "id": "eozugcQi4b-9"
      }
    },
    {
      "cell_type": "code",
      "source": [],
      "metadata": {
        "id": "duoKLYVU5LY5"
      },
      "execution_count": null,
      "outputs": []
    },
    {
      "cell_type": "markdown",
      "source": [
        "2.   Preprocess the dataset to handle duplicates, missing values. Also scale features if necessary. **[2 marks]**\n"
      ],
      "metadata": {
        "id": "-jc5HXTQ4ehU"
      }
    },
    {
      "cell_type": "code",
      "source": [],
      "metadata": {
        "id": "68qcc8nG5WE6"
      },
      "execution_count": null,
      "outputs": []
    },
    {
      "cell_type": "markdown",
      "source": [
        "3.   Split the dataset into training (70%), validation (15%) and test (15%) sets. **[2 mark]**\n"
      ],
      "metadata": {
        "id": "Z8ihhF0z4g1t"
      }
    },
    {
      "cell_type": "code",
      "source": [],
      "metadata": {
        "id": "lxoLdTym5XIw"
      },
      "execution_count": null,
      "outputs": []
    },
    {
      "cell_type": "markdown",
      "source": [
        "4.   Train Support Vector Regressors on the dataset using (i) a *Polynomial kernel* and (ii) an *RBF kernel*. **[4 marks]**  \n"
      ],
      "metadata": {
        "id": "vzQU-9Ew4i0o"
      }
    },
    {
      "cell_type": "code",
      "source": [],
      "metadata": {
        "id": "ncbxyu4S5YKh"
      },
      "execution_count": null,
      "outputs": []
    },
    {
      "cell_type": "markdown",
      "source": [
        "5.   Choose the *degree* of the polynomial for the SVR with Polynomial kernel, and the value of *gamma* for the SVR with RBF kernel by performing cross validation using *GridSearchCV*.  **[5 marks]**\n"
      ],
      "metadata": {
        "id": "MB8y2UaW4lGk"
      }
    },
    {
      "cell_type": "code",
      "source": [],
      "metadata": {
        "id": "EEOXg-Au5ZGh"
      },
      "execution_count": null,
      "outputs": []
    },
    {
      "cell_type": "markdown",
      "source": [
        "6.   Plot the MSE vs. the degree for the Polynomial kernel, and report the best value of the polynomial degree you obtained. **[2 marks]**\n"
      ],
      "metadata": {
        "id": "cWZCHHlB4m08"
      }
    },
    {
      "cell_type": "code",
      "source": [],
      "metadata": {
        "id": "3b7PZrT-5Zsp"
      },
      "execution_count": null,
      "outputs": []
    },
    {
      "cell_type": "markdown",
      "source": [
        "7.   Plot the MSE vs. gamma value for the RBF kernel, and report the best value of gamma. **[2 marks]**\n"
      ],
      "metadata": {
        "id": "gGP-1D764otl"
      }
    },
    {
      "cell_type": "code",
      "source": [],
      "metadata": {
        "id": "Cc3eFgWZ5abQ"
      },
      "execution_count": null,
      "outputs": []
    },
    {
      "cell_type": "markdown",
      "source": [
        "8.  Obtain the predictions for the best SVR model you obtained (out of all the SVRs with Polynomial and RBF kernels), and show the scatter plot of the predictions vs. the ground truth number of shares. **[2 marks]**"
      ],
      "metadata": {
        "id": "wyzpgv_E4wcf"
      }
    },
    {
      "cell_type": "code",
      "source": [],
      "metadata": {
        "id": "dtTaYoYG5bSt"
      },
      "execution_count": null,
      "outputs": []
    }
  ]
}