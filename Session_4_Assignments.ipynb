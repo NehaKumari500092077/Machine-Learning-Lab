{
  "nbformat": 4,
  "nbformat_minor": 0,
  "metadata": {
    "colab": {
      "provenance": [],
      "authorship_tag": "ABX9TyNaP/704Zww4HDov5gW7JYx",
      "include_colab_link": true
    },
    "kernelspec": {
      "name": "python3",
      "display_name": "Python 3"
    },
    "language_info": {
      "name": "python"
    }
  },
  "cells": [
    {
      "cell_type": "markdown",
      "metadata": {
        "id": "view-in-github",
        "colab_type": "text"
      },
      "source": [
        "<a href=\"https://colab.research.google.com/github/NehaKumari500092077/Machine-Learning-Lab/blob/main/Session_4_Assignments.ipynb\" target=\"_parent\"><img src=\"https://colab.research.google.com/assets/colab-badge.svg\" alt=\"Open In Colab\"/></a>"
      ]
    },
    {
      "cell_type": "code",
      "execution_count": null,
      "metadata": {
        "id": "O4YVdSFEbUOj"
      },
      "outputs": [],
      "source": []
    },
    {
      "cell_type": "markdown",
      "source": [
        "## **Lab Assignment 3**"
      ],
      "metadata": {
        "id": "gUjcnzw8bfwD"
      }
    },
    {
      "cell_type": "markdown",
      "source": [
        "### <font color='blue'>Objective: </font>\n",
        "\n",
        "In this assignment, you will learn how to handle and preprocess a real-world dataset, including dealing with duplicates, missing values, and feature scaling. You'll implement the Naive Bayes classifier from scratch, selecting appropriate likelihood distributions for different feature types. You'll also compare your implementation with an existing model (MixedNB) and assess its performance using various metrics. Finally, you'll learn to effectively evaluate and visualize the results to communicate your findings."
      ],
      "metadata": {
        "id": "UbUvzhm4cFLY"
      }
    },
    {
      "cell_type": "markdown",
      "source": [
        "### <font color='blue'> Task - 1 [Marks 0] </font>:\n",
        "Load the [Secondary Mushroom](https://archive.ics.uci.edu/dataset/848/secondary+mushroom+dataset) dataset using Pandas. This dataset has 20 features, and the target variable is binary, which indicates if the mushroom is edible or not\n"
      ],
      "metadata": {
        "id": "p0JDx9HJcJa4"
      }
    },
    {
      "cell_type": "code",
      "source": [
        "pip install ucimlrepo"
      ],
      "metadata": {
        "colab": {
          "base_uri": "https://localhost:8080/"
        },
        "id": "8-NRgDq4egts",
        "outputId": "7ae97179-1f3a-4791-95ae-58720e697eb0"
      },
      "execution_count": null,
      "outputs": [
        {
          "output_type": "stream",
          "name": "stdout",
          "text": [
            "Collecting ucimlrepo\n",
            "  Downloading ucimlrepo-0.0.7-py3-none-any.whl.metadata (5.5 kB)\n",
            "Requirement already satisfied: pandas>=1.0.0 in /usr/local/lib/python3.10/dist-packages (from ucimlrepo) (2.1.4)\n",
            "Requirement already satisfied: certifi>=2020.12.5 in /usr/local/lib/python3.10/dist-packages (from ucimlrepo) (2024.7.4)\n",
            "Requirement already satisfied: numpy<2,>=1.22.4 in /usr/local/lib/python3.10/dist-packages (from pandas>=1.0.0->ucimlrepo) (1.26.4)\n",
            "Requirement already satisfied: python-dateutil>=2.8.2 in /usr/local/lib/python3.10/dist-packages (from pandas>=1.0.0->ucimlrepo) (2.8.2)\n",
            "Requirement already satisfied: pytz>=2020.1 in /usr/local/lib/python3.10/dist-packages (from pandas>=1.0.0->ucimlrepo) (2024.1)\n",
            "Requirement already satisfied: tzdata>=2022.1 in /usr/local/lib/python3.10/dist-packages (from pandas>=1.0.0->ucimlrepo) (2024.1)\n",
            "Requirement already satisfied: six>=1.5 in /usr/local/lib/python3.10/dist-packages (from python-dateutil>=2.8.2->pandas>=1.0.0->ucimlrepo) (1.16.0)\n",
            "Downloading ucimlrepo-0.0.7-py3-none-any.whl (8.0 kB)\n",
            "Installing collected packages: ucimlrepo\n",
            "Successfully installed ucimlrepo-0.0.7\n"
          ]
        }
      ]
    },
    {
      "cell_type": "code",
      "source": [
        "import pandas as pd\n",
        "from sklearn.preprocessing import StandardScaler, LabelEncoder\n",
        "from sklearn.model_selection import train_test_split\n",
        "from sklearn.metrics import accuracy_score, precision_score, recall_score, confusion_matrix, roc_auc_score, auc, precision_recall_curve\n",
        "import matplotlib.pyplot as plt\n",
        "import seaborn as sns"
      ],
      "metadata": {
        "id": "Ri_pvpw8mbGF"
      },
      "execution_count": 1,
      "outputs": []
    },
    {
      "cell_type": "code",
      "source": [
        "dataset = pd.read_csv(\"https://archive.ics.uci.edu/static/public/848/data.csv\")\n",
        "\n",
        "#convert into dataframe\n",
        "dataset = pd.DataFrame(dataset)\n",
        "\n",
        "#display first 5 rows\n",
        "dataset.head()"
      ],
      "metadata": {
        "colab": {
          "base_uri": "https://localhost:8080/",
          "height": 308
        },
        "id": "q5S578ehfugk",
        "outputId": "d2fd400a-b8d9-43fa-c368-57fe09101cfe"
      },
      "execution_count": 2,
      "outputs": [
        {
          "output_type": "execute_result",
          "data": {
            "text/plain": [
              "  class  cap-diameter cap-shape cap-surface cap-color does-bruise-or-bleed  \\\n",
              "0     p         15.26         x           g         o                    f   \n",
              "1     p         16.60         x           g         o                    f   \n",
              "2     p         14.07         x           g         o                    f   \n",
              "3     p         14.17         f           h         e                    f   \n",
              "4     p         14.64         x           h         o                    f   \n",
              "\n",
              "  gill-attachment gill-spacing gill-color  stem-height  ...  stem-root  \\\n",
              "0               e          NaN          w        16.95  ...          s   \n",
              "1               e          NaN          w        17.99  ...          s   \n",
              "2               e          NaN          w        17.80  ...          s   \n",
              "3               e          NaN          w        15.77  ...          s   \n",
              "4               e          NaN          w        16.53  ...          s   \n",
              "\n",
              "  stem-surface stem-color veil-type veil-color has-ring ring-type  \\\n",
              "0            y          w         u          w        t         g   \n",
              "1            y          w         u          w        t         g   \n",
              "2            y          w         u          w        t         g   \n",
              "3            y          w         u          w        t         p   \n",
              "4            y          w         u          w        t         p   \n",
              "\n",
              "  spore-print-color habitat season  \n",
              "0               NaN       d      w  \n",
              "1               NaN       d      u  \n",
              "2               NaN       d      w  \n",
              "3               NaN       d      w  \n",
              "4               NaN       d      w  \n",
              "\n",
              "[5 rows x 21 columns]"
            ],
            "text/html": [
              "\n",
              "  <div id=\"df-3ba21ccc-30a2-4324-b26b-4bb3913ce60a\" class=\"colab-df-container\">\n",
              "    <div>\n",
              "<style scoped>\n",
              "    .dataframe tbody tr th:only-of-type {\n",
              "        vertical-align: middle;\n",
              "    }\n",
              "\n",
              "    .dataframe tbody tr th {\n",
              "        vertical-align: top;\n",
              "    }\n",
              "\n",
              "    .dataframe thead th {\n",
              "        text-align: right;\n",
              "    }\n",
              "</style>\n",
              "<table border=\"1\" class=\"dataframe\">\n",
              "  <thead>\n",
              "    <tr style=\"text-align: right;\">\n",
              "      <th></th>\n",
              "      <th>class</th>\n",
              "      <th>cap-diameter</th>\n",
              "      <th>cap-shape</th>\n",
              "      <th>cap-surface</th>\n",
              "      <th>cap-color</th>\n",
              "      <th>does-bruise-or-bleed</th>\n",
              "      <th>gill-attachment</th>\n",
              "      <th>gill-spacing</th>\n",
              "      <th>gill-color</th>\n",
              "      <th>stem-height</th>\n",
              "      <th>...</th>\n",
              "      <th>stem-root</th>\n",
              "      <th>stem-surface</th>\n",
              "      <th>stem-color</th>\n",
              "      <th>veil-type</th>\n",
              "      <th>veil-color</th>\n",
              "      <th>has-ring</th>\n",
              "      <th>ring-type</th>\n",
              "      <th>spore-print-color</th>\n",
              "      <th>habitat</th>\n",
              "      <th>season</th>\n",
              "    </tr>\n",
              "  </thead>\n",
              "  <tbody>\n",
              "    <tr>\n",
              "      <th>0</th>\n",
              "      <td>p</td>\n",
              "      <td>15.26</td>\n",
              "      <td>x</td>\n",
              "      <td>g</td>\n",
              "      <td>o</td>\n",
              "      <td>f</td>\n",
              "      <td>e</td>\n",
              "      <td>NaN</td>\n",
              "      <td>w</td>\n",
              "      <td>16.95</td>\n",
              "      <td>...</td>\n",
              "      <td>s</td>\n",
              "      <td>y</td>\n",
              "      <td>w</td>\n",
              "      <td>u</td>\n",
              "      <td>w</td>\n",
              "      <td>t</td>\n",
              "      <td>g</td>\n",
              "      <td>NaN</td>\n",
              "      <td>d</td>\n",
              "      <td>w</td>\n",
              "    </tr>\n",
              "    <tr>\n",
              "      <th>1</th>\n",
              "      <td>p</td>\n",
              "      <td>16.60</td>\n",
              "      <td>x</td>\n",
              "      <td>g</td>\n",
              "      <td>o</td>\n",
              "      <td>f</td>\n",
              "      <td>e</td>\n",
              "      <td>NaN</td>\n",
              "      <td>w</td>\n",
              "      <td>17.99</td>\n",
              "      <td>...</td>\n",
              "      <td>s</td>\n",
              "      <td>y</td>\n",
              "      <td>w</td>\n",
              "      <td>u</td>\n",
              "      <td>w</td>\n",
              "      <td>t</td>\n",
              "      <td>g</td>\n",
              "      <td>NaN</td>\n",
              "      <td>d</td>\n",
              "      <td>u</td>\n",
              "    </tr>\n",
              "    <tr>\n",
              "      <th>2</th>\n",
              "      <td>p</td>\n",
              "      <td>14.07</td>\n",
              "      <td>x</td>\n",
              "      <td>g</td>\n",
              "      <td>o</td>\n",
              "      <td>f</td>\n",
              "      <td>e</td>\n",
              "      <td>NaN</td>\n",
              "      <td>w</td>\n",
              "      <td>17.80</td>\n",
              "      <td>...</td>\n",
              "      <td>s</td>\n",
              "      <td>y</td>\n",
              "      <td>w</td>\n",
              "      <td>u</td>\n",
              "      <td>w</td>\n",
              "      <td>t</td>\n",
              "      <td>g</td>\n",
              "      <td>NaN</td>\n",
              "      <td>d</td>\n",
              "      <td>w</td>\n",
              "    </tr>\n",
              "    <tr>\n",
              "      <th>3</th>\n",
              "      <td>p</td>\n",
              "      <td>14.17</td>\n",
              "      <td>f</td>\n",
              "      <td>h</td>\n",
              "      <td>e</td>\n",
              "      <td>f</td>\n",
              "      <td>e</td>\n",
              "      <td>NaN</td>\n",
              "      <td>w</td>\n",
              "      <td>15.77</td>\n",
              "      <td>...</td>\n",
              "      <td>s</td>\n",
              "      <td>y</td>\n",
              "      <td>w</td>\n",
              "      <td>u</td>\n",
              "      <td>w</td>\n",
              "      <td>t</td>\n",
              "      <td>p</td>\n",
              "      <td>NaN</td>\n",
              "      <td>d</td>\n",
              "      <td>w</td>\n",
              "    </tr>\n",
              "    <tr>\n",
              "      <th>4</th>\n",
              "      <td>p</td>\n",
              "      <td>14.64</td>\n",
              "      <td>x</td>\n",
              "      <td>h</td>\n",
              "      <td>o</td>\n",
              "      <td>f</td>\n",
              "      <td>e</td>\n",
              "      <td>NaN</td>\n",
              "      <td>w</td>\n",
              "      <td>16.53</td>\n",
              "      <td>...</td>\n",
              "      <td>s</td>\n",
              "      <td>y</td>\n",
              "      <td>w</td>\n",
              "      <td>u</td>\n",
              "      <td>w</td>\n",
              "      <td>t</td>\n",
              "      <td>p</td>\n",
              "      <td>NaN</td>\n",
              "      <td>d</td>\n",
              "      <td>w</td>\n",
              "    </tr>\n",
              "  </tbody>\n",
              "</table>\n",
              "<p>5 rows × 21 columns</p>\n",
              "</div>\n",
              "    <div class=\"colab-df-buttons\">\n",
              "\n",
              "  <div class=\"colab-df-container\">\n",
              "    <button class=\"colab-df-convert\" onclick=\"convertToInteractive('df-3ba21ccc-30a2-4324-b26b-4bb3913ce60a')\"\n",
              "            title=\"Convert this dataframe to an interactive table.\"\n",
              "            style=\"display:none;\">\n",
              "\n",
              "  <svg xmlns=\"http://www.w3.org/2000/svg\" height=\"24px\" viewBox=\"0 -960 960 960\">\n",
              "    <path d=\"M120-120v-720h720v720H120Zm60-500h600v-160H180v160Zm220 220h160v-160H400v160Zm0 220h160v-160H400v160ZM180-400h160v-160H180v160Zm440 0h160v-160H620v160ZM180-180h160v-160H180v160Zm440 0h160v-160H620v160Z\"/>\n",
              "  </svg>\n",
              "    </button>\n",
              "\n",
              "  <style>\n",
              "    .colab-df-container {\n",
              "      display:flex;\n",
              "      gap: 12px;\n",
              "    }\n",
              "\n",
              "    .colab-df-convert {\n",
              "      background-color: #E8F0FE;\n",
              "      border: none;\n",
              "      border-radius: 50%;\n",
              "      cursor: pointer;\n",
              "      display: none;\n",
              "      fill: #1967D2;\n",
              "      height: 32px;\n",
              "      padding: 0 0 0 0;\n",
              "      width: 32px;\n",
              "    }\n",
              "\n",
              "    .colab-df-convert:hover {\n",
              "      background-color: #E2EBFA;\n",
              "      box-shadow: 0px 1px 2px rgba(60, 64, 67, 0.3), 0px 1px 3px 1px rgba(60, 64, 67, 0.15);\n",
              "      fill: #174EA6;\n",
              "    }\n",
              "\n",
              "    .colab-df-buttons div {\n",
              "      margin-bottom: 4px;\n",
              "    }\n",
              "\n",
              "    [theme=dark] .colab-df-convert {\n",
              "      background-color: #3B4455;\n",
              "      fill: #D2E3FC;\n",
              "    }\n",
              "\n",
              "    [theme=dark] .colab-df-convert:hover {\n",
              "      background-color: #434B5C;\n",
              "      box-shadow: 0px 1px 3px 1px rgba(0, 0, 0, 0.15);\n",
              "      filter: drop-shadow(0px 1px 2px rgba(0, 0, 0, 0.3));\n",
              "      fill: #FFFFFF;\n",
              "    }\n",
              "  </style>\n",
              "\n",
              "    <script>\n",
              "      const buttonEl =\n",
              "        document.querySelector('#df-3ba21ccc-30a2-4324-b26b-4bb3913ce60a button.colab-df-convert');\n",
              "      buttonEl.style.display =\n",
              "        google.colab.kernel.accessAllowed ? 'block' : 'none';\n",
              "\n",
              "      async function convertToInteractive(key) {\n",
              "        const element = document.querySelector('#df-3ba21ccc-30a2-4324-b26b-4bb3913ce60a');\n",
              "        const dataTable =\n",
              "          await google.colab.kernel.invokeFunction('convertToInteractive',\n",
              "                                                    [key], {});\n",
              "        if (!dataTable) return;\n",
              "\n",
              "        const docLinkHtml = 'Like what you see? Visit the ' +\n",
              "          '<a target=\"_blank\" href=https://colab.research.google.com/notebooks/data_table.ipynb>data table notebook</a>'\n",
              "          + ' to learn more about interactive tables.';\n",
              "        element.innerHTML = '';\n",
              "        dataTable['output_type'] = 'display_data';\n",
              "        await google.colab.output.renderOutput(dataTable, element);\n",
              "        const docLink = document.createElement('div');\n",
              "        docLink.innerHTML = docLinkHtml;\n",
              "        element.appendChild(docLink);\n",
              "      }\n",
              "    </script>\n",
              "  </div>\n",
              "\n",
              "\n",
              "<div id=\"df-8d66dff9-3f22-49d7-8ed0-ac1cade9f630\">\n",
              "  <button class=\"colab-df-quickchart\" onclick=\"quickchart('df-8d66dff9-3f22-49d7-8ed0-ac1cade9f630')\"\n",
              "            title=\"Suggest charts\"\n",
              "            style=\"display:none;\">\n",
              "\n",
              "<svg xmlns=\"http://www.w3.org/2000/svg\" height=\"24px\"viewBox=\"0 0 24 24\"\n",
              "     width=\"24px\">\n",
              "    <g>\n",
              "        <path d=\"M19 3H5c-1.1 0-2 .9-2 2v14c0 1.1.9 2 2 2h14c1.1 0 2-.9 2-2V5c0-1.1-.9-2-2-2zM9 17H7v-7h2v7zm4 0h-2V7h2v10zm4 0h-2v-4h2v4z\"/>\n",
              "    </g>\n",
              "</svg>\n",
              "  </button>\n",
              "\n",
              "<style>\n",
              "  .colab-df-quickchart {\n",
              "      --bg-color: #E8F0FE;\n",
              "      --fill-color: #1967D2;\n",
              "      --hover-bg-color: #E2EBFA;\n",
              "      --hover-fill-color: #174EA6;\n",
              "      --disabled-fill-color: #AAA;\n",
              "      --disabled-bg-color: #DDD;\n",
              "  }\n",
              "\n",
              "  [theme=dark] .colab-df-quickchart {\n",
              "      --bg-color: #3B4455;\n",
              "      --fill-color: #D2E3FC;\n",
              "      --hover-bg-color: #434B5C;\n",
              "      --hover-fill-color: #FFFFFF;\n",
              "      --disabled-bg-color: #3B4455;\n",
              "      --disabled-fill-color: #666;\n",
              "  }\n",
              "\n",
              "  .colab-df-quickchart {\n",
              "    background-color: var(--bg-color);\n",
              "    border: none;\n",
              "    border-radius: 50%;\n",
              "    cursor: pointer;\n",
              "    display: none;\n",
              "    fill: var(--fill-color);\n",
              "    height: 32px;\n",
              "    padding: 0;\n",
              "    width: 32px;\n",
              "  }\n",
              "\n",
              "  .colab-df-quickchart:hover {\n",
              "    background-color: var(--hover-bg-color);\n",
              "    box-shadow: 0 1px 2px rgba(60, 64, 67, 0.3), 0 1px 3px 1px rgba(60, 64, 67, 0.15);\n",
              "    fill: var(--button-hover-fill-color);\n",
              "  }\n",
              "\n",
              "  .colab-df-quickchart-complete:disabled,\n",
              "  .colab-df-quickchart-complete:disabled:hover {\n",
              "    background-color: var(--disabled-bg-color);\n",
              "    fill: var(--disabled-fill-color);\n",
              "    box-shadow: none;\n",
              "  }\n",
              "\n",
              "  .colab-df-spinner {\n",
              "    border: 2px solid var(--fill-color);\n",
              "    border-color: transparent;\n",
              "    border-bottom-color: var(--fill-color);\n",
              "    animation:\n",
              "      spin 1s steps(1) infinite;\n",
              "  }\n",
              "\n",
              "  @keyframes spin {\n",
              "    0% {\n",
              "      border-color: transparent;\n",
              "      border-bottom-color: var(--fill-color);\n",
              "      border-left-color: var(--fill-color);\n",
              "    }\n",
              "    20% {\n",
              "      border-color: transparent;\n",
              "      border-left-color: var(--fill-color);\n",
              "      border-top-color: var(--fill-color);\n",
              "    }\n",
              "    30% {\n",
              "      border-color: transparent;\n",
              "      border-left-color: var(--fill-color);\n",
              "      border-top-color: var(--fill-color);\n",
              "      border-right-color: var(--fill-color);\n",
              "    }\n",
              "    40% {\n",
              "      border-color: transparent;\n",
              "      border-right-color: var(--fill-color);\n",
              "      border-top-color: var(--fill-color);\n",
              "    }\n",
              "    60% {\n",
              "      border-color: transparent;\n",
              "      border-right-color: var(--fill-color);\n",
              "    }\n",
              "    80% {\n",
              "      border-color: transparent;\n",
              "      border-right-color: var(--fill-color);\n",
              "      border-bottom-color: var(--fill-color);\n",
              "    }\n",
              "    90% {\n",
              "      border-color: transparent;\n",
              "      border-bottom-color: var(--fill-color);\n",
              "    }\n",
              "  }\n",
              "</style>\n",
              "\n",
              "  <script>\n",
              "    async function quickchart(key) {\n",
              "      const quickchartButtonEl =\n",
              "        document.querySelector('#' + key + ' button');\n",
              "      quickchartButtonEl.disabled = true;  // To prevent multiple clicks.\n",
              "      quickchartButtonEl.classList.add('colab-df-spinner');\n",
              "      try {\n",
              "        const charts = await google.colab.kernel.invokeFunction(\n",
              "            'suggestCharts', [key], {});\n",
              "      } catch (error) {\n",
              "        console.error('Error during call to suggestCharts:', error);\n",
              "      }\n",
              "      quickchartButtonEl.classList.remove('colab-df-spinner');\n",
              "      quickchartButtonEl.classList.add('colab-df-quickchart-complete');\n",
              "    }\n",
              "    (() => {\n",
              "      let quickchartButtonEl =\n",
              "        document.querySelector('#df-8d66dff9-3f22-49d7-8ed0-ac1cade9f630 button');\n",
              "      quickchartButtonEl.style.display =\n",
              "        google.colab.kernel.accessAllowed ? 'block' : 'none';\n",
              "    })();\n",
              "  </script>\n",
              "</div>\n",
              "\n",
              "    </div>\n",
              "  </div>\n"
            ],
            "application/vnd.google.colaboratory.intrinsic+json": {
              "type": "dataframe",
              "variable_name": "dataset"
            }
          },
          "metadata": {},
          "execution_count": 2
        }
      ]
    },
    {
      "cell_type": "markdown",
      "source": [
        "### <font color='blue'> Task - 2 [Marks 1] </font>:\n",
        ":\n",
        "Check if there are duplicate entries in the data and missing values of features. Remove duplicate entries and handle entries having missing feature values using Imputation method(Like Mean, Mediaan, Mode etc).  "
      ],
      "metadata": {
        "id": "c-whf3kjcRl7"
      }
    },
    {
      "cell_type": "code",
      "source": [
        "#check for duplicate value\n",
        "duplicate_entry = dataset.duplicated().sum()\n",
        "print(f\"Number of duplicate entries: {duplicate_entry}\")\n",
        "\n",
        "#remove duplicate value\n",
        "dataset = dataset.drop_duplicates()\n",
        "\n",
        "#verify if there is any duplicate present or not\n",
        "print(f\"\\nNumber of duplicate entries: {dataset.duplicated().sum()}\")\n",
        "\n",
        "#check missing values\n",
        "missing_values = dataset.isnull().sum()\n",
        "print(f\"\\n\\nmissing values:\\n\\n{missing_values}\")"
      ],
      "metadata": {
        "colab": {
          "base_uri": "https://localhost:8080/"
        },
        "id": "Qyj1w31FhaaK",
        "outputId": "46ad07e2-2884-4b7a-f13f-10c215593b5c"
      },
      "execution_count": 3,
      "outputs": [
        {
          "output_type": "stream",
          "name": "stdout",
          "text": [
            "Number of duplicate entries: 146\n",
            "\n",
            "Number of duplicate entries: 0\n",
            "\n",
            "\n",
            "missing values:\n",
            "\n",
            "class                       0\n",
            "cap-diameter                0\n",
            "cap-shape                   0\n",
            "cap-surface             14120\n",
            "cap-color                   0\n",
            "does-bruise-or-bleed        0\n",
            "gill-attachment          9855\n",
            "gill-spacing            25062\n",
            "gill-color                  0\n",
            "stem-height                 0\n",
            "stem-width                  0\n",
            "stem-root               51536\n",
            "stem-surface            38122\n",
            "stem-color                  0\n",
            "veil-type               57746\n",
            "veil-color              53510\n",
            "has-ring                    0\n",
            "ring-type                2471\n",
            "spore-print-color       54597\n",
            "habitat                     0\n",
            "season                      0\n",
            "dtype: int64\n"
          ]
        }
      ]
    },
    {
      "cell_type": "code",
      "source": [
        "#replace missing value with the mean\n",
        "for col in dataset.columns:\n",
        "  if dataset[col].dtype == object:\n",
        "    mode = dataset[col].mode()[0]\n",
        "    dataset[col].fillna(mode, inplace=True)\n",
        "  else:\n",
        "    mean = dataset[col].mean()\n",
        "    dataset[col].fillna(mean, inplace=True)\n",
        "\n",
        "#verify if there is any missing values left\n",
        "print(dataset.isnull().sum())"
      ],
      "metadata": {
        "id": "cUxOZiWfmpK-",
        "outputId": "465ea9fc-f6ec-4bd0-c853-52af725d19f4",
        "colab": {
          "base_uri": "https://localhost:8080/"
        }
      },
      "execution_count": 4,
      "outputs": [
        {
          "output_type": "stream",
          "name": "stdout",
          "text": [
            "class                   0\n",
            "cap-diameter            0\n",
            "cap-shape               0\n",
            "cap-surface             0\n",
            "cap-color               0\n",
            "does-bruise-or-bleed    0\n",
            "gill-attachment         0\n",
            "gill-spacing            0\n",
            "gill-color              0\n",
            "stem-height             0\n",
            "stem-width              0\n",
            "stem-root               0\n",
            "stem-surface            0\n",
            "stem-color              0\n",
            "veil-type               0\n",
            "veil-color              0\n",
            "has-ring                0\n",
            "ring-type               0\n",
            "spore-print-color       0\n",
            "habitat                 0\n",
            "season                  0\n",
            "dtype: int64\n"
          ]
        }
      ]
    },
    {
      "cell_type": "markdown",
      "source": [
        "### <font color='blue'> Task - 3 [Marks 3] </font>:\n",
        "\n",
        "1.Preprocess the dataset as required, i.e. feature scaling or standardization\n",
        "\n",
        "2.Is the dataset balanced or imbalanced?\n",
        "\n",
        "3.Split data into training and test set"
      ],
      "metadata": {
        "id": "e0PQH7YycwJI"
      }
    },
    {
      "cell_type": "code",
      "source": [
        "#check whether dataset provided is balanced or imbalance\n",
        "#count the number of instance present for each class\n",
        "instance_count_of_each_class = dataset['class'].value_counts().sort_index()\n",
        "for class_label, count in instance_count_of_each_class.items():\n",
        "    print(f\"Class {class_label}: {count} instances\")"
      ],
      "metadata": {
        "id": "ak5NlL6snn9h",
        "outputId": "aa360129-35b1-4bb0-da1c-87d9b026b666",
        "colab": {
          "base_uri": "https://localhost:8080/"
        }
      },
      "execution_count": 5,
      "outputs": [
        {
          "output_type": "stream",
          "name": "stdout",
          "text": [
            "Class e: 27181 instances\n",
            "Class p: 33742 instances\n"
          ]
        }
      ]
    },
    {
      "cell_type": "markdown",
      "source": [
        "The number of instances for class e and class p is 27181 and 33742 as number of instances is not equal for class e and class p. So, The provided dataset is imbalnced."
      ],
      "metadata": {
        "id": "hAXx7lXCvxNJ"
      }
    },
    {
      "cell_type": "code",
      "source": [
        "#preprocessing\n",
        "\n",
        "#select numerical features\n",
        "numerical_features = dataset.select_dtypes(include = ['float64', 'int64']).columns.tolist()\n",
        "\n",
        "#select categorical features\n",
        "categorical_features = dataset.select_dtypes(include = ['object']).columns.tolist()\n",
        "\n",
        "#create object for LabelEncoder\n",
        "label_encoder = LabelEncoder()\n",
        "\n",
        "#apply label encoding to each categorical features\n",
        "for col in categorical_features:\n",
        "  dataset[col] = label_encoder.fit_transform(dataset[col])\n",
        "\n",
        "#feature scaling or standardization\n",
        "scaler = StandardScaler()\n",
        "\n",
        "#apply scaling on the numerical features\n",
        "dataset[numerical_features] = scaler.fit_transform(dataset[numerical_features])\n",
        "\n"
      ],
      "metadata": {
        "id": "gC4XkbE2wgIO"
      },
      "execution_count": 6,
      "outputs": []
    },
    {
      "cell_type": "code",
      "source": [
        "#Split data into training and test set\n",
        "X = dataset.drop('class', axis = 1)\n",
        "Y = dataset['class']\n",
        "X_train, X_test, Y_train, Y_test = train_test_split(X, Y, test_size=0.25, random_state=42)\n"
      ],
      "metadata": {
        "id": "tGvpshIkIfgy"
      },
      "execution_count": 8,
      "outputs": []
    },
    {
      "cell_type": "markdown",
      "source": [
        "### <font color='blue'> Task - 4 [Marks 7] </font>:\n",
        "\n",
        "Implement Naive Bayes’ classifier from scratch on this dataset, by appropriately choosing the likelihood distribution for each feature. This dataset has mixed feature types (i.e. continuous and categorical features), and the likelihood distribution of each feature must consider the corresponding feature type. Mention the type of distribution you chose for each feature’s likelihood.  \n"
      ],
      "metadata": {
        "id": "_BE12RxSczgX"
      }
    },
    {
      "cell_type": "code",
      "source": [
        "class NaiveBayesClassifier:\n",
        "    def __init__(self):\n"
      ],
      "metadata": {
        "id": "Cg6HsyeOJyNo"
      },
      "execution_count": null,
      "outputs": []
    },
    {
      "cell_type": "markdown",
      "source": [
        "### <font color='blue'> Task - 5 [Marks 2] </font>:\n",
        "\n",
        "Report the classification performance using the appropriate metrics (accuracy, precision, recall, confusion matrix, AUPRC) using suitable plots."
      ],
      "metadata": {
        "id": "8We5biLjc4AR"
      }
    },
    {
      "cell_type": "code",
      "source": [
        "#instanciate and fit the mixed naive bayes model\n",
        "model_custom = NaiveBayesClassifier(categorical_features = categorical_features, continuous_features = numerical_features)\n",
        "model_custom.fit(X_train, Y_train)\n",
        "\n",
        "#make prediction\n",
        "Y_pred_custom = model_custom.predict(X_test)\n",
        "\n",
        "#compute classification performance\n",
        "accuracy_custom  = accuracy_score(Y_test, Y_pred_custom)\n",
        "precision_custom = precision_score(Y_test, Y_pred_custom)\n",
        "recall_custom = recall_score(Y_test, Y_pred_custom)\n",
        "print(f\"Accuracy for Custom Naive Bayes Classifier is: {accuracy_custom: .4f}\")\n",
        "print(f\"Precision for Custom Naive Bayes Classifier is: {precision_custom: .4f}\")\n",
        "print(f\"Recall for Custom Naive Bayes Classifier is: {recall_custom: .4f}\")\n",
        "\n",
        "#compute confusion matrix\n",
        "confusion_matrix_custom = confusion_matrix(Y_test, Y_pred_custom)\n",
        "\n",
        "#plot confusion matrix\n",
        "plt.figure(figsize = (5, 4))\n",
        "sns.heatmap(confusion_matrix_custom, annot = True, fmt = 'd', cmap = 'Reds')\n",
        "plt.xlabel('Predicted Class')\n",
        "plt.ylabel('True Class')\n",
        "plt.title('Confusion Matrix - Custom Naive Bayes Classifier')\n",
        "plt.show()\n",
        "\n",
        "#compute AUPRC\n",
        "precision_vals_custom, recall_vals_custom, _ = precision_recall_curve(Y_test, Y_pred_custom)\n",
        "auprc_custom = auc(recall_vals_custom, precision_vals_custom)\n",
        "print(f\"AUPRC for Custom Naive Bayes Classifier is: {auprc_custom: .4f}\")\n",
        "\n",
        "#plot precision recall curve\n",
        "plt.figure(figsize = (5, 4))\n",
        "plt.plot(recall_vals_custom, precision_vals_custom, marker = '*', label = f'Custom Naive Bayes Classifier, AUPRC =  {auprc_custom: .4f}')\n",
        "plt.xlabel('Recall')\n",
        "plt.ylabel('Precision')\n",
        "plt.title('Precision-Recall Curve - Custom Naive Bayes Classifier')\n",
        "plt.legend()\n",
        "plt.show()"
      ],
      "metadata": {
        "id": "OsngdIAjXDuh"
      },
      "execution_count": null,
      "outputs": []
    },
    {
      "cell_type": "markdown",
      "source": [
        "### <font color='blue'> Task - 6 [Marks 5] </font>:\n",
        "Fit a Naive Bayes’ model for this dataset using MixedNB (from the package https://pypi.org/project/mixed-naive-bayes/)\n",
        "\n"
      ],
      "metadata": {
        "id": "R945ntSac7s6"
      }
    },
    {
      "cell_type": "code",
      "source": [
        "pip install mixed-naive-bayes"
      ],
      "metadata": {
        "id": "LjYA0-VoK1QM",
        "outputId": "73ff8a18-bedd-415b-e30b-d98b6407e3bf",
        "colab": {
          "base_uri": "https://localhost:8080/"
        }
      },
      "execution_count": 12,
      "outputs": [
        {
          "output_type": "stream",
          "name": "stdout",
          "text": [
            "Requirement already satisfied: mixed-naive-bayes in /usr/local/lib/python3.10/dist-packages (0.0.3)\n",
            "Requirement already satisfied: numpy>=1.22.0 in /usr/local/lib/python3.10/dist-packages (from mixed-naive-bayes) (1.26.4)\n",
            "Requirement already satisfied: scikit-learn>=0.20.2 in /usr/local/lib/python3.10/dist-packages (from mixed-naive-bayes) (1.3.2)\n",
            "Requirement already satisfied: scipy>=1.5.0 in /usr/local/lib/python3.10/dist-packages (from scikit-learn>=0.20.2->mixed-naive-bayes) (1.13.1)\n",
            "Requirement already satisfied: joblib>=1.1.1 in /usr/local/lib/python3.10/dist-packages (from scikit-learn>=0.20.2->mixed-naive-bayes) (1.4.2)\n",
            "Requirement already satisfied: threadpoolctl>=2.0.0 in /usr/local/lib/python3.10/dist-packages (from scikit-learn>=0.20.2->mixed-naive-bayes) (3.5.0)\n"
          ]
        }
      ]
    },
    {
      "cell_type": "code",
      "source": [
        "\n",
        "from mixed_naive_bayes import MixedNB\n",
        "\n",
        "#instanciate and fit the mixed naive bayes model\n",
        "model_mixedNB = MixedNB()\n",
        "model_mixedNB.fit(X_train, Y_train)\n",
        "\n",
        "#make prediction\n",
        "Y_pred_mixedNB = model_mixedNB.predict(X_test)\n",
        "\n",
        "#compute classification performance\n",
        "accuracy_mixedNB  = accuracy_score(Y_test, Y_pred_mixedNB)\n",
        "precision_mixedNB = precision_score(Y_test, Y_pred_mixedNB)\n",
        "recall_mixedNB = recall_score(Y_test, Y_pred_mixedNB)\n",
        "print(f\"Accuracy for Mixed Naive Bayes is: {accuracy_mixedNB: .4f}\")\n",
        "print(f\"Precision for Mixed Naive Bayes is: {precision_mixedNB: .4f}\")\n",
        "print(f\"Recall for Mixed Naive Bayes is: {recall_mixedNB: .4f}\")\n",
        "\n",
        "#compute confusion matrix\n",
        "confusion_matrix_mixedNB = confusion_matrix(Y_test, Y_pred_mixedNB)\n",
        "\n",
        "#plot confusion matrix\n",
        "plt.figure(figsize = (5, 4))\n",
        "sns.heatmap(confusion_matrix_mixedNB, annot = True, fmt = 'd', cmap = 'Reds')\n",
        "plt.xlabel('Predicted Class')\n",
        "plt.ylabel('True Class')\n",
        "plt.title('Confusion Matrix - Mixed Naive Bayes')\n",
        "plt.show()\n",
        "\n",
        "#compute AUPRC\n",
        "precision_vals_mixedNB, recall_vals_mixedNB, _ = precision_recall_curve(Y_test, Y_pred_mixedNB)\n",
        "auprc_mixedNB = auc(recall_vals_mixedNB, precision_vals_mixedNB)\n",
        "print(f\"AUPRC for Mixed Naive Bayes is: {auprc_mixedNB: .4f}\")\n",
        "\n",
        "#plot precision recall curve\n",
        "plt.figure(figsize = (5, 4))\n",
        "plt.plot(recall_vals_mixedNB, precision_vals_mixedNB, marker = '*', label = f'Mixed Naive Bayes, AUPRC =  {auprc_mixedNB: .4f}')\n",
        "plt.xlabel('Recall')\n",
        "plt.ylabel('Precision')\n",
        "plt.title('Precision-Recall Curve - Mixed Naive Bayes')\n",
        "plt.legend()\n",
        "plt.show()"
      ],
      "metadata": {
        "id": "wvY0CgBJWPRu",
        "outputId": "2c1ed4ce-8e7a-472a-e636-60eef231e3ca",
        "colab": {
          "base_uri": "https://localhost:8080/",
          "height": 874
        }
      },
      "execution_count": 21,
      "outputs": [
        {
          "output_type": "stream",
          "name": "stdout",
          "text": [
            "Accuracy for Mixed Naive Bayes is:  0.6079\n",
            "Precision for Mixed Naive Bayes is:  0.7860\n",
            "Recall for Mixed Naive Bayes is:  0.4084\n"
          ]
        },
        {
          "output_type": "display_data",
          "data": {
            "text/plain": [
              "<Figure size 500x400 with 2 Axes>"
            ],
            "image/png": "[encoded data removed]"
          },
          "metadata": {}
        },
        {
          "output_type": "stream",
          "name": "stdout",
          "text": [
            "AUPRC for Mixed Naive Bayes is:  0.7623\n"
          ]
        },
        {
          "output_type": "display_data",
          "data": {
            "text/plain": [
              "<Figure size 500x400 with 1 Axes>"
            ],
            "image/png": "[encoded data removed]"
          },
          "metadata": {}
        }
      ]
    },
    {
      "cell_type": "markdown",
      "source": [
        "### <font color='blue'> Task - 7 [Marks 2] </font>:\n",
        "\n",
        "Compare the performance obtained by your implementation with that obtained using MixedNB"
      ],
      "metadata": {
        "id": "ZfoLTtROdAfI"
      }
    },
    {
      "cell_type": "code",
      "source": [
        "#compare the result of Custom Naive Bayes Classifier and Mixed Naive Bayes (library)\n",
        "\n",
        "#comparision between Accuracy\n",
        "print(f\"Accuracy for Custom Naive Bayes Classifier is: {accuracy_custom: .4f}\")\n",
        "print(f\"Accuracy for Mixed Naive Bayes is: {accuracy_mixedNB: .4f}\")\n",
        "\n",
        "#comparision between Precision\n",
        "print(f\"Precision for Custom Naive Bayes Classifier is: {precision_custom: .4f}\")\n",
        "print(f\"Precision for Mixed Naive Bayes is: {precision_mixedNB: .4f}\")\n",
        "\n",
        "#comparision between Recall\n",
        "print(f\"Recall for Custom Naive Bayes Classifier is: {recall_custom: .4f}\")\n",
        "print(f\"Recall for Mixed Naive Bayes is: {recall_mixedNB: .4f}\")\n",
        "\n",
        "#comparision between Confusion Matrix\n",
        "\n",
        "#plot confusion matrix for Custom Naive Bayes Classsifier\n",
        "plt.figure(figsize = (5, 4))\n",
        "sns.heatmap(confusion_matrix_custom, annot = True, fmt = 'd', cmap = 'Reds')\n",
        "plt.xlabel('Predicted Class')\n",
        "plt.ylabel('True Class')\n",
        "plt.title('Confusion Matrix - Custom Naive Bayes Classifier')\n",
        "plt.show()\n",
        "\n",
        "#plot confusion matrix for Mixed Naive Bayes\n",
        "plt.figure(figsize = (5, 4))\n",
        "sns.heatmap(confusion_matrix_mixedNB, annot = True, fmt = 'd', cmap = 'Reds')\n",
        "plt.xlabel('Predicted Class')\n",
        "plt.ylabel('True Class')\n",
        "plt.title('Confusion Matrix - Mixed Naive Bayes')\n",
        "plt.show()\n",
        "\n",
        "#comparision between AUPRC\n",
        "print(f\"AUPRC for Custom Naive Bayes Classifier is: {auprc_custom: .4f}\")\n",
        "print(f\"AUPRC for Mixed Naive Bayes is: {auprc_mixedNB: .4f}\")\n",
        "\n",
        "#plot precision recall curve for Custom Naive Bayes Classsifier\n",
        "plt.figure(figsize = (5, 4))\n",
        "plt.plot(recall_vals_custom, precision_vals_custom, marker = '*', label = f'Custom Naive Bayes Classifier, AUPRC =  {auprc_custom: .4f}')\n",
        "plt.xlabel('Recall')\n",
        "plt.ylabel('Precision')\n",
        "plt.title('Precision-Recall Curve - Custom Naive Bayes Classifier')\n",
        "plt.legend()\n",
        "plt.show()\n",
        "\n",
        "#plot precision recall curve for Mixed Naive Bayes\n",
        "plt.figure(figsize = (5, 4))\n",
        "plt.plot(recall_vals_custom, precision_vals_custom, marker = '*', label = f'Custom Naive Bayes Classifier, AUPRC =  {auprc_custom: .4f}')\n",
        "plt.xlabel('Recall')\n",
        "plt.ylabel('Precision')\n",
        "plt.title('Precision-Recall Curve - Custom Naive Bayes Classifier')\n",
        "plt.legend()\n",
        "plt.show()\n",
        "\n",
        "\n"
      ],
      "metadata": {
        "id": "q-tCla9XZXLF"
      },
      "execution_count": null,
      "outputs": []
    }
  ]
}