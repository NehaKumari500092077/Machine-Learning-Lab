{
  "nbformat": 4,
  "nbformat_minor": 0,
  "metadata": {
    "colab": {
      "provenance": [],
      "authorship_tag": "ABX9TyOdu7wj2kPmCSHlyKLeeRfP",
      "include_colab_link": true
    },
    "kernelspec": {
      "name": "python3",
      "display_name": "Python 3"
    },
    "language_info": {
      "name": "python"
    }
  },
  "cells": [
    {
      "cell_type": "markdown",
      "metadata": {
        "id": "view-in-github",
        "colab_type": "text"
      },
      "source": [
        "<a href=\"https://colab.research.google.com/github/NehaKumari500092077/Machine-Learning-Lab/blob/main/Session_4_Assignments.ipynb\" target=\"_parent\"><img src=\"https://colab.research.google.com/assets/colab-badge.svg\" alt=\"Open In Colab\"/></a>"
      ]
    },
    {
      "cell_type": "code",
      "execution_count": null,
      "metadata": {
        "id": "O4YVdSFEbUOj"
      },
      "outputs": [],
      "source": []
    },
    {
      "cell_type": "markdown",
      "source": [
        "## **Lab Assignment 3**"
      ],
      "metadata": {
        "id": "gUjcnzw8bfwD"
      }
    },
    {
      "cell_type": "markdown",
      "source": [
        "### <font color='blue'>Objective: </font>\n",
        "\n",
        "In this assignment, you will learn how to handle and preprocess a real-world dataset, including dealing with duplicates, missing values, and feature scaling. You'll implement the Naive Bayes classifier from scratch, selecting appropriate likelihood distributions for different feature types. You'll also compare your implementation with an existing model (MixedNB) and assess its performance using various metrics. Finally, you'll learn to effectively evaluate and visualize the results to communicate your findings."
      ],
      "metadata": {
        "id": "UbUvzhm4cFLY"
      }
    },
    {
      "cell_type": "markdown",
      "source": [
        "### <font color='blue'> Task - 1 [Marks 0] </font>:\n",
        "Load the [Secondary Mushroom](https://archive.ics.uci.edu/dataset/848/secondary+mushroom+dataset) dataset using Pandas. This dataset has 20 features, and the target variable is binary, which indicates if the mushroom is edible or not\n"
      ],
      "metadata": {
        "id": "p0JDx9HJcJa4"
      }
    },
    {
      "cell_type": "markdown",
      "source": [
        "### <font color='blue'> Task - 2 [Marks 1] </font>:\n",
        ":\n",
        "Check if there are duplicate entries in the data and missing values of features. Remove duplicate entries and handle entries having missing feature values using Imputation method(Like Mean, Mediaan, Mode etc).  "
      ],
      "metadata": {
        "id": "c-whf3kjcRl7"
      }
    },
    {
      "cell_type": "markdown",
      "source": [
        "### <font color='blue'> Task - 3 [Marks 3] </font>:\n",
        "\n",
        "1.Preprocess the dataset as required, i.e. feature scaling or standardization\n",
        "\n",
        "2.Is the dataset balanced or imbalanced?\n",
        "\n",
        "3.Split data into training and test set"
      ],
      "metadata": {
        "id": "e0PQH7YycwJI"
      }
    },
    {
      "cell_type": "markdown",
      "source": [
        "### <font color='blue'> Task - 4 [Marks 7] </font>:\n",
        "\n",
        "Implement Naive Bayes’ classifier from scratch on this dataset, by appropriately choosing the likelihood distribution for each feature. This dataset has mixed feature types (i.e. continuous and categorical features), and the likelihood distribution of each feature must consider the corresponding feature type. Mention the type of distribution you chose for each feature’s likelihood.  \n"
      ],
      "metadata": {
        "id": "_BE12RxSczgX"
      }
    },
    {
      "cell_type": "markdown",
      "source": [
        "### <font color='blue'> Task - 5 [Marks 2] </font>:\n",
        "\n",
        "Report the classification performance using the appropriate metrics (accuracy, precision, recall, confusion matrix, AUPRC) using suitable plots."
      ],
      "metadata": {
        "id": "8We5biLjc4AR"
      }
    },
    {
      "cell_type": "markdown",
      "source": [
        "### <font color='blue'> Task - 6 [Marks 5] </font>:\n",
        "Fit a Naive Bayes’ model for this dataset using MixedNB (from the package https://pypi.org/project/mixed-naive-bayes/)\n",
        "\n"
      ],
      "metadata": {
        "id": "R945ntSac7s6"
      }
    },
    {
      "cell_type": "markdown",
      "source": [
        "### <font color='blue'> Task - 7 [Marks 2] </font>:\n",
        "\n",
        "Compare the performance obtained by your implementation with that obtained using MixedNB"
      ],
      "metadata": {
        "id": "ZfoLTtROdAfI"
      }
    }
  ]
}