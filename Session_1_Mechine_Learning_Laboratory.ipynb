{
  "nbformat": 4,
  "nbformat_minor": 0,
  "metadata": {
    "colab": {
      "provenance": []
    },
    "kernelspec": {
      "name": "python3",
      "display_name": "Python 3"
    },
    "language_info": {
      "name": "python"
    }
  },
  "cells": [
    {
      "cell_type": "markdown",
      "source": [
        "# <font color='black'>**Machine Learning Laboratory - 1**</font>"
      ],
      "metadata": {
        "id": "mZLBDsFuUOTO"
      }
    },
    {
      "cell_type": "markdown",
      "source": [
        "## <font color='blue'>**Learning Objectives**</font>\n",
        "\n",
        "0. Set up and manage Python environments, including using Python package manager (pip) and IDEs like PyCharm.\n",
        "1. Apply basic Python programming concepts, such as data types, operators, control flow, and functions.\n",
        "2. Use Numpy for data processing and analysis, including array operations, reshaping, and statistical measures.\n",
        "3. Manipulate and clean data with Pandas, including reading files into DataFrames and handling missing or incorrect data.\n",
        "4. Create and customize visualizations using Matplotlib, including bar graphs, histograms, scatter plots, and more."
      ],
      "metadata": {
        "id": "Wc3PTLDMT138"
      }
    },
    {
      "cell_type": "markdown",
      "source": [
        "# <font color='red'>**0. Python Environment setup**</font>\n"
      ],
      "metadata": {
        "id": "Cu9QR_bzU5Cv"
      }
    },
    {
      "cell_type": "code",
      "source": [
        "# Python installation\n",
        "# https://www.python.org/downloads/\n",
        "\n",
        "# In Google Colab, the ! character is used to execute shell commands."
      ],
      "metadata": {
        "id": "xtXI6gqr6ne2"
      },
      "execution_count": 1,
      "outputs": []
    },
    {
      "cell_type": "code",
      "source": [
        "!python --version"
      ],
      "metadata": {
        "colab": {
          "base_uri": "https://localhost:8080/"
        },
        "id": "9GUGwGLm5_Q4",
        "outputId": "d1ab87ad-a2f4-43cb-dc40-ff6b7e3ff0ab"
      },
      "execution_count": 2,
      "outputs": [
        {
          "output_type": "stream",
          "name": "stdout",
          "text": [
            "Python 3.10.12\n"
          ]
        }
      ]
    },
    {
      "cell_type": "code",
      "source": [
        "!python -V"
      ],
      "metadata": {
        "colab": {
          "base_uri": "https://localhost:8080/"
        },
        "id": "dyDgPwPaMsKp",
        "outputId": "27db2537-631f-4df3-cbeb-e67ab524c337"
      },
      "execution_count": 3,
      "outputs": [
        {
          "output_type": "stream",
          "name": "stdout",
          "text": [
            "Python 3.10.12\n"
          ]
        }
      ]
    },
    {
      "cell_type": "code",
      "source": [
        "import sys\n",
        "print(sys.version)"
      ],
      "metadata": {
        "colab": {
          "base_uri": "https://localhost:8080/"
        },
        "id": "Kb28PtoF5__R",
        "outputId": "06196047-6c9b-494b-c84a-3453739b2596"
      },
      "execution_count": 4,
      "outputs": [
        {
          "output_type": "stream",
          "name": "stdout",
          "text": [
            "3.10.12 (main, Mar 22 2024, 16:50:05) [GCC 11.4.0]\n"
          ]
        }
      ]
    },
    {
      "cell_type": "markdown",
      "source": [
        "* #### <font color='purple'>**Jupyter notebooks/Google Colab:**</font> Interactive web-based environments for writing and executing Python code, supporting live code, visualizations, etc.\n",
        "\n",
        "\n",
        "* #### <font color='purple'>**Installing libraries within notebook environments:**</font> Use commands like ```!pip install library_name``` to install Python libraries directly within Jupyter Notebook or Google Colab cells. Example:\n",
        "```pip install numpy``` or ```!pip install numpy```\n",
        "\n",
        "\n",
        "* #### <font color='purple'>**Importing libraries:**</font> Use the import statement to include and use Python libraries in your code. Example:\n",
        "``` import numpy```\n",
        "* #### <font color='purple'>**Using an IDE (e.g., PyCharm):**</font> Integrated Development Environments (IDEs) offer advanced coding features such as code completion, debugging, and project management for Python development.\n"
      ],
      "metadata": {
        "id": "6QzbMSri7QO0"
      }
    },
    {
      "cell_type": "markdown",
      "source": [
        "# <font color='red'>**1. Python Basics**</font>\n",
        "\n",
        "1. Basic data types – numeric, binary, logical and text\n",
        "\n",
        "2. Operators – arithmetic, logical, Boolean, bitwise, membership, identity etc.  \n",
        "\n",
        "3. Operator precedence rules\n",
        "\n",
        "4. Data structures – lists, dictionaries, sets and tuples\n",
        "\n",
        "5. Control flow – if else, while, for, break and continue statements\n",
        "\n",
        "6. List comprehensions\n",
        "\n",
        "7. Defining and using functions – generators, decorators and lambda functions.  \n",
        "\n",
        "8. Defining and instantiating classes\n",
        "\n",
        "9. File I/O"
      ],
      "metadata": {
        "id": "VoNaU7W1Senr"
      }
    },
    {
      "cell_type": "markdown",
      "source": [
        "## <font color='blue'>**1. Basic data types: numeric, binary, logical and text**</font>"
      ],
      "metadata": {
        "id": "CNDr8fIXGBCZ"
      }
    },
    {
      "cell_type": "code",
      "source": [
        "# Numeric Types: int, float, complex\n",
        "int_example = 42  # An integer number\n",
        "float_example = 3.14159  # A floating-point number\n",
        "complex_example = 1 + 2j  # A complex number with real and imaginary parts\n",
        "\n",
        "print(\"Numeric Type (int):\", int_example)\n",
        "print(\"Numeric Type (float):\", float_example)\n",
        "print(\"Numeric Type (complex):\", complex_example)"
      ],
      "metadata": {
        "colab": {
          "base_uri": "https://localhost:8080/"
        },
        "id": "kAsiPp2dHhhR",
        "outputId": "07ebf3a8-68ad-4937-d384-74f45d533f98"
      },
      "execution_count": 5,
      "outputs": [
        {
          "output_type": "stream",
          "name": "stdout",
          "text": [
            "Numeric Type (int): 42\n",
            "Numeric Type (float): 3.14159\n",
            "Numeric Type (complex): (1+2j)\n"
          ]
        }
      ]
    },
    {
      "cell_type": "code",
      "source": [
        "# Binary Types: bytes, bytearray, memoryview\n",
        "bytes_example = bytes([50, 100, 150])  # Immutable sequence of bytes\n",
        "bytearray_example = bytearray([50, 100, 150])  # Mutable sequence of bytes\n",
        "memoryview_example = memoryview(bytes_example)  # Memory view object - This indicates the memory location where the view is stored, but doesn't give you the values it contains.\n",
        "\n",
        "print(\"Binary Type (bytes):\", bytes_example)\n",
        "print(\"Binary Type (bytearray):\", bytearray_example)\n",
        "print(\"Binary Type (memoryview):\", memoryview_example)"
      ],
      "metadata": {
        "colab": {
          "base_uri": "https://localhost:8080/"
        },
        "id": "ZUFKl19vI5uY",
        "outputId": "c37828cc-7eab-4406-9097-d4cb827677df"
      },
      "execution_count": 6,
      "outputs": [
        {
          "output_type": "stream",
          "name": "stdout",
          "text": [
            "Binary Type (bytes): b'2d\\x96'\n",
            "Binary Type (bytearray): bytearray(b'2d\\x96')\n",
            "Binary Type (memoryview): <memory at 0x799771ba4340>\n"
          ]
        }
      ]
    },
    {
      "cell_type": "code",
      "source": [
        "print(bytes(b\"abc\"))"
      ],
      "metadata": {
        "colab": {
          "base_uri": "https://localhost:8080/"
        },
        "id": "0ZQumiJCNb5F",
        "outputId": "444da4d4-962e-4326-a19f-4300bfd05aeb"
      },
      "execution_count": 7,
      "outputs": [
        {
          "output_type": "stream",
          "name": "stdout",
          "text": [
            "b'abc'\n"
          ]
        }
      ]
    },
    {
      "cell_type": "code",
      "source": [
        "# Boolean Type: bool\n",
        "bool_example = True  # A boolean value (True or False)\n",
        "print(\"Boolean Type (bool):\", bool_example)\n",
        "\n",
        "# None Type: NoneType\n",
        "none_example = None  # A NoneType representing the absence of a value\n",
        "print(\"None Type (NoneType):\", none_example)"
      ],
      "metadata": {
        "colab": {
          "base_uri": "https://localhost:8080/"
        },
        "id": "Twh8021WJGXZ",
        "outputId": "5f201e83-399e-44ac-af4e-dee77d449f3d"
      },
      "execution_count": 8,
      "outputs": [
        {
          "output_type": "stream",
          "name": "stdout",
          "text": [
            "Boolean Type (bool): True\n",
            "None Type (NoneType): None\n"
          ]
        }
      ]
    },
    {
      "cell_type": "code",
      "source": [
        "# Sequence Types: list, tuple, range\n",
        "list_example = [1, 2, 3, 4, 5]  # A list of elements\n",
        "tuple_example = (1, 2, 3, 4, 5)  # An immutable tuple of elements\n",
        "range_example = range(1, 6)  # A range object representing a sequence of numbers\n",
        "\n",
        "print(\"Sequence Type (list):\", list_example)\n",
        "print(\"Sequence Type (tuple):\", tuple_example)\n",
        "print(\"Sequence Type (range):\", list(range_example))"
      ],
      "metadata": {
        "colab": {
          "base_uri": "https://localhost:8080/"
        },
        "id": "tClE8Y8IJRzv",
        "outputId": "7fbf9e85-c48b-4ab2-d8d4-d7b5cefda27a"
      },
      "execution_count": 9,
      "outputs": [
        {
          "output_type": "stream",
          "name": "stdout",
          "text": [
            "Sequence Type (list): [1, 2, 3, 4, 5]\n",
            "Sequence Type (tuple): (1, 2, 3, 4, 5)\n",
            "Sequence Type (range): [1, 2, 3, 4, 5]\n"
          ]
        }
      ]
    },
    {
      "cell_type": "code",
      "source": [
        "# Text Type: str\n",
        "text_example = \"Hello, World!\"  # A string of characters\n",
        "print(\"Text Type (str):\", text_example)"
      ],
      "metadata": {
        "colab": {
          "base_uri": "https://localhost:8080/"
        },
        "id": "OD-1MyrXJUKB",
        "outputId": "5132c9af-1f30-4c5d-e9d6-350c128c5649"
      },
      "execution_count": 10,
      "outputs": [
        {
          "output_type": "stream",
          "name": "stdout",
          "text": [
            "Text Type (str): Hello, World!\n"
          ]
        }
      ]
    },
    {
      "cell_type": "code",
      "source": [
        "# Mapping Type: dict\n",
        "dict_example = {\"key1\": \"value1\", \"key2\": \"value2\"}  # A dictionary with key-value pairs\n",
        "print(\"Mapping Type (dict):\", dict_example)"
      ],
      "metadata": {
        "colab": {
          "base_uri": "https://localhost:8080/"
        },
        "id": "csopDoJVJebm",
        "outputId": "e2eef3e5-bc81-4202-d6b5-5211be86d885"
      },
      "execution_count": 11,
      "outputs": [
        {
          "output_type": "stream",
          "name": "stdout",
          "text": [
            "Mapping Type (dict): {'key1': 'value1', 'key2': 'value2'}\n"
          ]
        }
      ]
    },
    {
      "cell_type": "code",
      "execution_count": 12,
      "metadata": {
        "colab": {
          "base_uri": "https://localhost:8080/"
        },
        "id": "R5o0nLxeC0tT",
        "outputId": "76294a10-c71e-4168-9261-e3079d72b0e4"
      },
      "outputs": [
        {
          "output_type": "stream",
          "name": "stdout",
          "text": [
            "Set Type (set): {1, 2, 3, 4, 5}\n",
            "Set Type (frozenset): frozenset({1, 2, 3, 4, 5})\n"
          ]
        }
      ],
      "source": [
        "# Set Types: set, frozenset\n",
        "set_example = {1, 2, 3, 4, 5}  # An unordered set of unique elements\n",
        "frozenset_example = frozenset([1, 2, 3, 4, 5])  # An immutable frozenset of unique elements\n",
        "\n",
        "print(\"Set Type (set):\", set_example)\n",
        "print(\"Set Type (frozenset):\", frozenset_example)"
      ]
    },
    {
      "cell_type": "code",
      "source": [
        "## NOTE - 1\n",
        "import keyword\n",
        "print(keyword.kwlist)\n",
        "\n",
        "# avoid to use these keywords for variable names."
      ],
      "metadata": {
        "colab": {
          "base_uri": "https://localhost:8080/"
        },
        "id": "HCPdf1NWpGih",
        "outputId": "a45901aa-c493-42de-c8b3-0c323cc28e5f"
      },
      "execution_count": 13,
      "outputs": [
        {
          "output_type": "stream",
          "name": "stdout",
          "text": [
            "['False', 'None', 'True', 'and', 'as', 'assert', 'async', 'await', 'break', 'class', 'continue', 'def', 'del', 'elif', 'else', 'except', 'finally', 'for', 'from', 'global', 'if', 'import', 'in', 'is', 'lambda', 'nonlocal', 'not', 'or', 'pass', 'raise', 'return', 'try', 'while', 'with', 'yield']\n"
          ]
        }
      ]
    },
    {
      "cell_type": "code",
      "source": [
        "# NOTE - 2\n",
        "print(dir(set_example))"
      ],
      "metadata": {
        "colab": {
          "base_uri": "https://localhost:8080/"
        },
        "id": "9r1HD6J9yORs",
        "outputId": "359650eb-44c9-4a97-f01e-b515a7832959"
      },
      "execution_count": 14,
      "outputs": [
        {
          "output_type": "stream",
          "name": "stdout",
          "text": [
            "['__and__', '__class__', '__class_getitem__', '__contains__', '__delattr__', '__dir__', '__doc__', '__eq__', '__format__', '__ge__', '__getattribute__', '__gt__', '__hash__', '__iand__', '__init__', '__init_subclass__', '__ior__', '__isub__', '__iter__', '__ixor__', '__le__', '__len__', '__lt__', '__ne__', '__new__', '__or__', '__rand__', '__reduce__', '__reduce_ex__', '__repr__', '__ror__', '__rsub__', '__rxor__', '__setattr__', '__sizeof__', '__str__', '__sub__', '__subclasshook__', '__xor__', 'add', 'clear', 'copy', 'difference', 'difference_update', 'discard', 'intersection', 'intersection_update', 'isdisjoint', 'issubset', 'issuperset', 'pop', 'remove', 'symmetric_difference', 'symmetric_difference_update', 'union', 'update']\n"
          ]
        }
      ]
    },
    {
      "cell_type": "code",
      "source": [
        "# NOTE - 3\n",
        "import builtins\n",
        "# Get a list of all built-in names\n",
        "builtin_names = dir(builtins)\n",
        "print(builtin_names)"
      ],
      "metadata": {
        "colab": {
          "base_uri": "https://localhost:8080/"
        },
        "id": "fz4jOX9izP2x",
        "outputId": "35956445-4ff7-47c5-8dfb-b3f8a52106b0"
      },
      "execution_count": 15,
      "outputs": [
        {
          "output_type": "stream",
          "name": "stdout",
          "text": [
            "['ArithmeticError', 'AssertionError', 'AttributeError', 'BaseException', 'BlockingIOError', 'BrokenPipeError', 'BufferError', 'BytesWarning', 'ChildProcessError', 'ConnectionAbortedError', 'ConnectionError', 'ConnectionRefusedError', 'ConnectionResetError', 'DeprecationWarning', 'EOFError', 'Ellipsis', 'EncodingWarning', 'EnvironmentError', 'Exception', 'False', 'FileExistsError', 'FileNotFoundError', 'FloatingPointError', 'FutureWarning', 'GeneratorExit', 'IOError', 'ImportError', 'ImportWarning', 'IndentationError', 'IndexError', 'InterruptedError', 'IsADirectoryError', 'KeyError', 'KeyboardInterrupt', 'LookupError', 'MemoryError', 'ModuleNotFoundError', 'NameError', 'None', 'NotADirectoryError', 'NotImplemented', 'NotImplementedError', 'OSError', 'OverflowError', 'PendingDeprecationWarning', 'PermissionError', 'ProcessLookupError', 'RecursionError', 'ReferenceError', 'ResourceWarning', 'RuntimeError', 'RuntimeWarning', 'StopAsyncIteration', 'StopIteration', 'SyntaxError', 'SyntaxWarning', 'SystemError', 'SystemExit', 'TabError', 'TimeoutError', 'True', 'TypeError', 'UnboundLocalError', 'UnicodeDecodeError', 'UnicodeEncodeError', 'UnicodeError', 'UnicodeTranslateError', 'UnicodeWarning', 'UserWarning', 'ValueError', 'Warning', 'ZeroDivisionError', '__IPYTHON__', '__build_class__', '__debug__', '__doc__', '__import__', '__loader__', '__name__', '__package__', '__spec__', 'abs', 'aiter', 'all', 'anext', 'any', 'ascii', 'bin', 'bool', 'breakpoint', 'bytearray', 'bytes', 'callable', 'chr', 'classmethod', 'compile', 'complex', 'copyright', 'credits', 'delattr', 'dict', 'dir', 'display', 'divmod', 'enumerate', 'eval', 'exec', 'execfile', 'filter', 'float', 'format', 'frozenset', 'get_ipython', 'getattr', 'globals', 'hasattr', 'hash', 'help', 'hex', 'id', 'input', 'int', 'isinstance', 'issubclass', 'iter', 'len', 'license', 'list', 'locals', 'map', 'max', 'memoryview', 'min', 'next', 'object', 'oct', 'open', 'ord', 'pow', 'print', 'property', 'range', 'repr', 'reversed', 'round', 'runfile', 'set', 'setattr', 'slice', 'sorted', 'staticmethod', 'str', 'sum', 'super', 'tuple', 'type', 'vars', 'zip']\n"
          ]
        }
      ]
    },
    {
      "cell_type": "markdown",
      "source": [
        "## <font color='blue'>**2. Operators – arithmetic, logical, Boolean, bitwise, membership, identity etc.**</font>"
      ],
      "metadata": {
        "id": "WGImd7QXJqlC"
      }
    },
    {
      "cell_type": "markdown",
      "source": [
        "| #  | Category                   | Operator(s)                                                  |\n",
        "|----|----------------------------|--------------------------------------------------------------|\n",
        "| 1  | **Arithmetic Operators**   | `+`, `-`, `*`, `/`, `//`, `%`, `**`                        |\n",
        "| 2  | **Unary Operators**        | `+x`, `-x`, `~x`                                            |\n",
        "| 3  | **Bitwise Operators**      | `&`, `|`, `^`, `~`, `<<`, `>>`                             |\n",
        "| 4  | **Comparison Operators**   | `==`, `!=`, `>`, `>=`, `<`, `<=`                           |\n",
        "| 5  | **Identity Operators**     | `is`, `is not`                                              |\n",
        "| 6  | **Membership Operators**   | `in`, `not in`                                              |\n",
        "| 7  | **Logical Operators**      | `and`, `or`, `not`                                          |\n",
        "| 8  | **Assignment Operators**   | `=`, `+=`, `-=`, `*=`, `/=`, `//=`, `%=`, `**=`, `&=`, `|=`, `^=`, `<<=`, `>>=` |\n",
        "| 9  | **Conditional Expressions**| `if` (ternary conditional expression)                       |\n"
      ],
      "metadata": {
        "id": "dozAfnxPt_6L"
      }
    },
    {
      "cell_type": "code",
      "source": [
        "# Arithmetic Operators\n",
        "a = 5\n",
        "b = 3\n",
        "print(\"Arithmetic Operators:\")\n",
        "print(\"Addition:\", a + b)  # Output: 8\n",
        "print(\"Subtraction:\", a - b)  # Output: 2\n",
        "print(\"Multiplication:\", a * b)  # Output: 15\n",
        "print(\"Division:\", a / b)  # Output: 1.666...\n",
        "print(\"Modulus:\", a % b)  # Output: 2\n",
        "print(\"Exponentiation:\", a ** b)  # Output: 125\n",
        "print(\"Floor Division:\", a // b)  # Output: 1"
      ],
      "metadata": {
        "colab": {
          "base_uri": "https://localhost:8080/"
        },
        "id": "DSMg1I2CKiXu",
        "outputId": "06fc1ae3-3726-47c6-c946-0a9b6765d1a6"
      },
      "execution_count": 16,
      "outputs": [
        {
          "output_type": "stream",
          "name": "stdout",
          "text": [
            "Arithmetic Operators:\n",
            "Addition: 8\n",
            "Subtraction: 2\n",
            "Multiplication: 15\n",
            "Division: 1.6666666666666667\n",
            "Modulus: 2\n",
            "Exponentiation: 125\n",
            "Floor Division: 1\n"
          ]
        }
      ]
    },
    {
      "cell_type": "code",
      "source": [
        "# Unary Operators\n",
        "p = 5\n",
        "print(\"Unary Operators:\")\n",
        "print(\"Unary + :\", +p)  # Output: 5\n",
        "print(\"Unary - :\", -p) # Output: -5\n",
        "print(\"Unary ~ :\", ~p) # Output: -6"
      ],
      "metadata": {
        "colab": {
          "base_uri": "https://localhost:8080/"
        },
        "id": "iMIAEic-QkcX",
        "outputId": "ce3895a3-6264-43e5-fb66-79512fac5bbf"
      },
      "execution_count": 17,
      "outputs": [
        {
          "output_type": "stream",
          "name": "stdout",
          "text": [
            "Unary Operators:\n",
            "Unary + : 5\n",
            "Unary - : -5\n",
            "Unary ~ : -6\n"
          ]
        }
      ]
    },
    {
      "cell_type": "code",
      "source": [
        "# Assignment Operators\n",
        "x = 5\n",
        "print(\"Assignment Operators:\")\n",
        "print(\"x:\", x)  # Output: 5\n",
        "x += 3\n",
        "print(\"x += 3:\", x)  # Output: 8\n",
        "x -= 2\n",
        "print(\"x -= 2:\", x)  # Output: 6\n",
        "x *= 2\n",
        "print(\"x *= 2:\", x)  # Output: 12\n",
        "x /= 4\n",
        "print(\"x /= 4:\", x)  # Output: 3.0\n",
        "x %= 2\n",
        "print(\"x %= 2:\", x)  # Output: 1.0\n",
        "x **= 3\n",
        "print(\"x **= 3:\", x)  # Output: 1.0\n",
        "x //= 2\n",
        "print(\"x //= 2:\", x)  # Output: 0.0"
      ],
      "metadata": {
        "colab": {
          "base_uri": "https://localhost:8080/"
        },
        "id": "cAbz_uvRKjhr",
        "outputId": "3ccdc163-85f4-4c46-a970-3231c499f9b7"
      },
      "execution_count": 18,
      "outputs": [
        {
          "output_type": "stream",
          "name": "stdout",
          "text": [
            "Assignment Operators:\n",
            "x: 5\n",
            "x += 3: 8\n",
            "x -= 2: 6\n",
            "x *= 2: 12\n",
            "x /= 4: 3.0\n",
            "x %= 2: 1.0\n",
            "x **= 3: 1.0\n",
            "x //= 2: 0.0\n"
          ]
        }
      ]
    },
    {
      "cell_type": "code",
      "source": [
        "# Comparison Operators\n",
        "print(\"Comparison Operators:\")\n",
        "print(\"a == b:\", a == b)  # Output: False\n",
        "print(\"a != b:\", a != b)  # Output: True\n",
        "print(\"a > b:\", a > b)  # Output: True\n",
        "print(\"a < b:\", a < b)  # Output: False\n",
        "print(\"a >= b:\", a >= b)  # Output: True\n",
        "print(\"a <= b:\", a <= b)  # Output: False"
      ],
      "metadata": {
        "colab": {
          "base_uri": "https://localhost:8080/"
        },
        "id": "-UkFXLWVKpa7",
        "outputId": "68ec3291-0e1e-42cd-fde1-eb4eca95214b"
      },
      "execution_count": 19,
      "outputs": [
        {
          "output_type": "stream",
          "name": "stdout",
          "text": [
            "Comparison Operators:\n",
            "a == b: False\n",
            "a != b: True\n",
            "a > b: True\n",
            "a < b: False\n",
            "a >= b: True\n",
            "a <= b: False\n"
          ]
        }
      ]
    },
    {
      "cell_type": "code",
      "source": [
        "# Logical Operators\n",
        "a = True\n",
        "b = False\n",
        "print(\"Logical Operators:\")\n",
        "print(\"a and b:\", a and b)  # Output: False\n",
        "print(\"a or b:\", a or b)  # Output: True\n",
        "print(\"not a:\", not a)  # Output: False"
      ],
      "metadata": {
        "colab": {
          "base_uri": "https://localhost:8080/"
        },
        "id": "e95bXUR3LtKe",
        "outputId": "99e0ca11-006f-4036-b4cb-7466fb85ca4d"
      },
      "execution_count": 20,
      "outputs": [
        {
          "output_type": "stream",
          "name": "stdout",
          "text": [
            "Logical Operators:\n",
            "a and b: False\n",
            "a or b: True\n",
            "not a: False\n"
          ]
        }
      ]
    },
    {
      "cell_type": "code",
      "source": [
        "# Identity Operators\n",
        "a = [1, 2, 3]\n",
        "b = [1, 2, 3]\n",
        "c = a\n",
        "print(\"Identity Operators:\")\n",
        "print(\"a is b:\", a is b)  # Output: False (different objects)\n",
        "print(\"a is c:\", a is c)  # Output: True (same object)\n",
        "print(\"a is not b:\", a is not b)  # Output: True"
      ],
      "metadata": {
        "colab": {
          "base_uri": "https://localhost:8080/"
        },
        "id": "rmCoTWb2MFo1",
        "outputId": "bc661f3b-a2cd-4a60-8ed3-305b848d9748"
      },
      "execution_count": 21,
      "outputs": [
        {
          "output_type": "stream",
          "name": "stdout",
          "text": [
            "Identity Operators:\n",
            "a is b: False\n",
            "a is c: True\n",
            "a is not b: True\n"
          ]
        }
      ]
    },
    {
      "cell_type": "code",
      "source": [
        "# Membership Operators\n",
        "a = [1, 2, 3, 4, 5]\n",
        "print(\"Membership Operators:\")\n",
        "print(\"2 in a:\", 2 in a)  # Output: True\n",
        "print(\"6 in a:\", 6 in a)  # Output: False\n",
        "print(\"6 not in a:\", 6 not in a)  # Output: True"
      ],
      "metadata": {
        "colab": {
          "base_uri": "https://localhost:8080/"
        },
        "id": "7zdyeuyfMOOY",
        "outputId": "cc60f3ed-f80c-4234-dc15-f16a28aae270"
      },
      "execution_count": 22,
      "outputs": [
        {
          "output_type": "stream",
          "name": "stdout",
          "text": [
            "Membership Operators:\n",
            "2 in a: True\n",
            "6 in a: False\n",
            "6 not in a: True\n"
          ]
        }
      ]
    },
    {
      "cell_type": "code",
      "source": [
        "# Bitwise Operators\n",
        "a = 5  # In binary: 0101\n",
        "b = 3  # In binary: 0011\n",
        "print(\"Bitwise Operators:\")\n",
        "print(\"a & b (AND):\", a & b)  # Output: 1 (0001)\n",
        "print(\"a | b (OR):\", a | b)  # Output: 7 (0111)\n",
        "print(\"a ^ b (XOR):\", a ^ b)  # Output: 6 (0110)\n",
        "print(\"~a (NOT):\", ~a)  # Output: -6 (Inverts all the bits)\n",
        "print(\"a << 1 (Left Shift):\", a << 1)  # Output: 10 (1010)\n",
        "print(\"a >> 1 (Right Shift):\", a >> 1)  # Output: 2 (0010)"
      ],
      "metadata": {
        "colab": {
          "base_uri": "https://localhost:8080/"
        },
        "id": "zqIfHxLaJxba",
        "outputId": "db3c7584-9e11-44a6-efe4-ca7382a07540"
      },
      "execution_count": 23,
      "outputs": [
        {
          "output_type": "stream",
          "name": "stdout",
          "text": [
            "Bitwise Operators:\n",
            "a & b (AND): 1\n",
            "a | b (OR): 7\n",
            "a ^ b (XOR): 6\n",
            "~a (NOT): -6\n",
            "a << 1 (Left Shift): 10\n",
            "a >> 1 (Right Shift): 2\n"
          ]
        }
      ]
    },
    {
      "cell_type": "markdown",
      "source": [
        "## <font color='blue'>**3. Operator precedence rules**</font>"
      ],
      "metadata": {
        "id": "JOC8BI3rMpgy"
      }
    },
    {
      "cell_type": "markdown",
      "source": [
        "| #  | Operator                                                       |\n",
        "|----|----------------------------------------------------------------|\n",
        "| 1  | Parentheses `()`                                               |\n",
        "| 2  | Exponentiation `**`                                            |\n",
        "| 3  | Unary Plus, Unary Minus, Bitwise NOT `+x`, `-x`, `~x`         |\n",
        "| 4  | Multiplication, Division, Floor Division, Modulus `*`, `/`, `//`, `%` |\n",
        "| 5  | Addition and Subtraction `+`, `-`                              |\n",
        "| 6  | Bitwise Left and Right Shifts `<<`, `>>`                       |\n",
        "| 7  | Bitwise AND `&`                                                |\n",
        "| 8  | Bitwise XOR `^`                                                |\n",
        "| 9  | Bitwise OR `|`                                                 |\n",
        "| 10 | Comparisons, Identity, and Membership Operators `==`, `!=`, `>`, `>=`, `<`, `<=`, `is`, `is not`, `in`, `not in` |\n",
        "| 11 | Logical NOT `not`                                              |\n",
        "| 12 | Logical AND `and`                                              |\n",
        "| 13 | Logical OR `or`                                                |\n"
      ],
      "metadata": {
        "id": "jX8p_dOAtEGk"
      }
    },
    {
      "cell_type": "code",
      "source": [
        "# 1. Parentheses ()\n",
        "# Description: Used to group expressions and override default precedence.\n",
        "result = (3 + 4) * 5  # Parentheses change the order of operations\n",
        "print(\"Parentheses:\", result)  # Output: 35\n",
        "\n",
        "# 2. Exponentiation **\n",
        "# Description: Performs exponentiation (power).\n",
        "result = 2 ** 3  # 2 raised to the power of 3\n",
        "print(\"Exponentiation:\", result)  # Output: 8\n",
        "\n",
        "# 3. Unary Plus, Unary Minus, and Bitwise NOT +x, -x, ~x\n",
        "# Description: Unary plus and minus; bitwise NOT (inverts bits).\n",
        "result = -5  # Unary minus\n",
        "print(\"Unary Minus:\", result)  # Output: -5\n",
        "\n",
        "result = ~5  # Bitwise NOT\n",
        "print(\"Bitwise NOT:\", result)  # Output: -6 (Inverts all bits)\n",
        "\n",
        "# 4. Multiplication, Division, Floor Division, and Modulus *, /, //, %\n",
        "# Description: Arithmetic operations: multiplication, division, integer division, modulus.\n",
        "result = 10 * 2  # Multiplication\n",
        "print(\"Multiplication:\", result)  # Output: 20\n",
        "\n",
        "result = 10 / 3  # Division\n",
        "print(\"Division:\", result)  # Output: 3.333...\n",
        "\n",
        "result = 10 // 3  # Floor Division\n",
        "print(\"Floor Division:\", result)  # Output: 3\n",
        "\n",
        "result = 10 % 3  # Modulus\n",
        "print(\"Modulus:\", result)  # Output: 1\n",
        "\n",
        "# 5. Addition and Subtraction +, -\n",
        "# Description: Arithmetic operations: addition and subtraction.\n",
        "result = 5 + 3  # Addition\n",
        "print(\"Addition:\", result)  # Output: 8\n",
        "\n",
        "result = 5 - 3  # Subtraction\n",
        "print(\"Subtraction:\", result)  # Output: 2\n",
        "\n",
        "# 6. Bitwise Left and Right Shifts <<, >>\n",
        "# Description: Bitwise operations that shift bits left or right.\n",
        "result = 1 << 2  # Left shift\n",
        "print(\"Left Shift:\", result)  # Output: 4 (1 shifted left by 2 bits)\n",
        "\n",
        "result = 4 >> 1  # Right shift\n",
        "print(\"Right Shift:\", result)  # Output: 2 (4 shifted right by 1 bit)\n",
        "\n",
        "# 7. Bitwise AND &\n",
        "# Description: Performs bitwise AND operation.\n",
        "result = 5 & 3  # Bitwise AND\n",
        "print(\"Bitwise AND:\", result)  # Output: 1 (0101 & 0011)\n",
        "\n",
        "# 8. Bitwise XOR ^\n",
        "# Description: Performs bitwise XOR operation.\n",
        "result = 5 ^ 3  # Bitwise XOR\n",
        "print(\"Bitwise XOR:\", result)  # Output: 6 (0101 ^ 0011)\n",
        "\n",
        "# 9. Bitwise OR |\n",
        "# Description: Performs bitwise OR operation.\n",
        "result = 5 | 3  # Bitwise OR\n",
        "print(\"Bitwise OR:\", result)  # Output: 7 (0101 | 0011)\n",
        "\n",
        "# 10. Comparisons, Identity, and Membership Operators ==, !=, >, >=, <, <=, is, is not, in, not in\n",
        "# Description: Comparison, identity, and membership operations.\n",
        "result = (5 == 3)  # Equality\n",
        "print(\"Equality:\", result)  # Output: False\n",
        "\n",
        "result = (5 != 3)  # Inequality\n",
        "print(\"Inequality:\", result)  # Output: True\n",
        "\n",
        "result = (5 > 3)  # Greater than\n",
        "print(\"Greater than:\", result)  # Output: True\n",
        "\n",
        "result = (5 is 5)  # Identity\n",
        "print(\"Identity:\", result)  # Output: True\n",
        "\n",
        "result = (5 in [1, 2, 3, 5])  # Membership\n",
        "print(\"Membership:\", result)  # Output: True\n",
        "\n",
        "# 11. Logical NOT not\n",
        "# Description: Logical negation.\n",
        "result = not True  # Logical NOT\n",
        "print(\"Logical NOT:\", result)  # Output: False\n",
        "\n",
        "# 12. Logical AND and\n",
        "# Description: Logical conjunction.\n",
        "result = True and False  # Logical AND\n",
        "print(\"Logical AND:\", result)  # Output: False\n",
        "\n",
        "# 13. Logical OR or\n",
        "# Description: Logical disjunction.\n",
        "result = True or False  # Logical OR\n",
        "print(\"Logical OR:\", result)  # Output: True"
      ],
      "metadata": {
        "colab": {
          "base_uri": "https://localhost:8080/"
        },
        "id": "0T8GV3ktMw_r",
        "outputId": "9ff3e4ca-a134-4d21-b677-0952f9b1117f"
      },
      "execution_count": 24,
      "outputs": [
        {
          "output_type": "stream",
          "name": "stdout",
          "text": [
            "Parentheses: 35\n",
            "Exponentiation: 8\n",
            "Unary Minus: -5\n",
            "Bitwise NOT: -6\n",
            "Multiplication: 20\n",
            "Division: 3.3333333333333335\n",
            "Floor Division: 3\n",
            "Modulus: 1\n",
            "Addition: 8\n",
            "Subtraction: 2\n",
            "Left Shift: 4\n",
            "Right Shift: 2\n",
            "Bitwise AND: 1\n",
            "Bitwise XOR: 6\n",
            "Bitwise OR: 7\n",
            "Equality: False\n",
            "Inequality: True\n",
            "Greater than: True\n",
            "Identity: True\n",
            "Membership: True\n",
            "Logical NOT: False\n",
            "Logical AND: False\n",
            "Logical OR: True\n"
          ]
        },
        {
          "output_type": "stream",
          "name": "stderr",
          "text": [
            "<>:75: SyntaxWarning: \"is\" with a literal. Did you mean \"==\"?\n",
            "<>:75: SyntaxWarning: \"is\" with a literal. Did you mean \"==\"?\n",
            "<ipython-input-24-3b3b306e98b4>:75: SyntaxWarning: \"is\" with a literal. Did you mean \"==\"?\n",
            "  result = (5 is 5)  # Identity\n"
          ]
        }
      ]
    },
    {
      "cell_type": "markdown",
      "source": [
        "## <font color='blue'>**4. Data structures – lists, dictionaries, sets and tuples**</font>"
      ],
      "metadata": {
        "id": "LMbtY4DSOInZ"
      }
    },
    {
      "cell_type": "markdown",
      "source": [
        "| Data Structure | Operation/Function                     | Description                                            | Example                             |\n",
        "|----------------|---------------------------------------|--------------------------------------------------------|-------------------------------------|\n",
        "| **Lists**      | `append(x)`                           | Add item `x` to the end of the list                    | `lst.append(4)`                     |\n",
        "|                | `extend(iterable)`                    | Extend list by appending elements from `iterable`      | `lst.extend([5, 6])`                |\n",
        "|                | `insert(i, x)`                        | Insert item `x` at position `i`                        | `lst.insert(1, 'a')`                |\n",
        "|                | `remove(x)`                           | Remove the first occurrence of item `x`                | `lst.remove('a')`                   |\n",
        "|                | `pop([i])`                            | Remove and return item at position `i` (last item if no index is specified) | `lst.pop()`                         |\n",
        "|                | `index(x[, start[, end]])`            | Return the index of the first occurrence of item `x`   | `lst.index(4)`                      |\n",
        "|                | `count(x)`                            | Return the number of occurrences of item `x`           | `lst.count(4)`                      |\n",
        "|                | `sort(key=None, reverse=False)`       | Sort the list in ascending order by default or with `key` and `reverse` options | `lst.sort()`                        |\n",
        "|                | `reverse()`                           | Reverse the elements of the list                       | `lst.reverse()`                     |\n",
        "|                | `copy()`                              | Return a shallow copy of the list                       | `lst_copy = lst.copy()`             |\n",
        "| **Dictionaries**| `get(key[, default])`                 | Return the value for `key` if `key` is in the dictionary; otherwise return `default` | `d.get('a', 0)`                     |\n",
        "|                | `keys()`                              | Return a view object that displays a list of all the keys | `d.keys()`                          |\n",
        "|                | `values()`                            | Return a view object that displays a list of all the values | `d.values()`                        |\n",
        "|                | `items()`                             | Return a view object that displays a list of dictionary's key-value tuple pairs | `d.items()`                         |\n",
        "|                | `pop(key[, default])`                 | Remove the specified key and return the corresponding value | `d.pop('key')`                     |\n",
        "|                | `popitem()`                           | Remove and return a (key, value) pair as a 2-tuple     | `d.popitem()`                       |\n",
        "|                | `update([other])`                     | Update dictionary with elements from another dictionary or from an iterable of key-value pairs | `d.update({'b': 2})`               |\n",
        "|                | `clear()`                             | Remove all items from the dictionary                    | `d.clear()`                         |\n",
        "| **Sets**       | `add(elem)`                           | Add element `elem` to the set                           | `s.add(1)`                          |\n",
        "|                | `remove(elem)`                        | Remove element `elem` from the set, raises a KeyError if not present | `s.remove(1)`                       |\n",
        "|                | `discard(elem)`                       | Remove element `elem` from the set if present           | `s.discard(1)`                      |\n",
        "|                | `pop()`                               | Remove and return an arbitrary element from the set     | `s.pop()`                           |\n",
        "|                | `clear()`                             | Remove all elements from the set                        | `s.clear()`                         |\n",
        "|                | `copy()`                              | Return a shallow copy of the set                        | `s_copy = s.copy()`                 |\n",
        "|                | `union(*sets)`                        | Return a new set with elements from the set and all others | `s.union({2, 3})`                  |\n",
        "|                | `intersection(*sets)`                 | Return a new set with elements common to the set and all others | `s.intersection({2, 3})`           |\n",
        "|                | `difference(*sets)`                   | Return a new set with elements in the set that are not in the others | `s.difference({2, 3})`             |\n",
        "|                | `symmetric_difference(set)`           | Return a new set with elements in either the set or `set` but not both | `s.symmetric_difference({2, 3})`   |\n",
        "| **Tuples**      | `count(x)`                            | Return the number of occurrences of item `x`           | `t.count(1)`                        |\n",
        "|                | `index(x[, start[, end]])`            | Return the index of the first occurrence of item `x`   | `t.index(1)`                        |\n",
        "|                | `len()`                               | Return the number of items in the tuple                 | `len(t)`                            |\n",
        "|                | `tuple(iterable)`                     | Create a tuple from an iterable                         | `tuple([1, 2, 3])`                  |\n"
      ],
      "metadata": {
        "id": "71_TsC0UurYB"
      }
    },
    {
      "cell_type": "code",
      "source": [
        "# 1. List\n",
        "my_list = [1, 2, 3, 4, 5]\n",
        "\n",
        "# Adding items\n",
        "my_list.append(6)  # Add an item to the end\n",
        "print(\"Append:\", my_list)  # Output: [1, 2, 3, 4, 5, 6]\n",
        "\n",
        "# Inserting an item\n",
        "my_list.insert(2, 10)  # Insert item at a specific position\n",
        "print(\"Insert:\", my_list)  # Output: [1, 2, 10, 3, 4, 5, 6]\n",
        "\n",
        "# Removing items\n",
        "my_list.remove(10)  # Remove the first occurrence of an item\n",
        "print(\"Remove:\", my_list)  # Output: [1, 2, 3, 4, 5, 6]\n",
        "\n",
        "# Popping items\n",
        "item = my_list.pop()  # Remove and return the last item\n",
        "print(\"Pop:\", item)  # Output: 6\n",
        "print(\"After Pop:\", my_list)  # Output: [1, 2, 3, 4, 5]\n",
        "\n",
        "# List operations\n",
        "print(\"Length:\", len(my_list))  # Output: 5\n",
        "print(\"Count of 3:\", my_list.count(3))  # Output: 1\n",
        "print(\"Index of 4:\", my_list.index(4))  # Output: 3"
      ],
      "metadata": {
        "colab": {
          "base_uri": "https://localhost:8080/"
        },
        "id": "qC57qRwQO82P",
        "outputId": "3f36ee7d-dbe9-42e7-f543-ebdf82307c77"
      },
      "execution_count": 25,
      "outputs": [
        {
          "output_type": "stream",
          "name": "stdout",
          "text": [
            "Append: [1, 2, 3, 4, 5, 6]\n",
            "Insert: [1, 2, 10, 3, 4, 5, 6]\n",
            "Remove: [1, 2, 3, 4, 5, 6]\n",
            "Pop: 6\n",
            "After Pop: [1, 2, 3, 4, 5]\n",
            "Length: 5\n",
            "Count of 3: 1\n",
            "Index of 4: 3\n"
          ]
        }
      ]
    },
    {
      "cell_type": "code",
      "source": [
        "# 2. Tuple\n",
        "my_tuple = (1, 2, 3, 4, 5)\n",
        "\n",
        "# Accessing items\n",
        "print(\"First item:\", my_tuple[0])  # Output: 1\n",
        "\n",
        "# Tuple operations\n",
        "print(\"Length:\", len(my_tuple))  # Output: 5\n",
        "print(\"Index of 4:\", my_tuple.index(4))  # Output: 3\n",
        "print(\"Count of 2:\", my_tuple.count(2))  # Output: 1"
      ],
      "metadata": {
        "colab": {
          "base_uri": "https://localhost:8080/"
        },
        "id": "PjsoHOkXPLGe",
        "outputId": "fc390514-f11b-49e3-8e38-b0eaf956137e"
      },
      "execution_count": 26,
      "outputs": [
        {
          "output_type": "stream",
          "name": "stdout",
          "text": [
            "First item: 1\n",
            "Length: 5\n",
            "Index of 4: 3\n",
            "Count of 2: 1\n"
          ]
        }
      ]
    },
    {
      "cell_type": "code",
      "source": [
        "# 3. Set\n",
        "my_set = {1, 2, 3, 4, 5}\n",
        "\n",
        "# Adding items\n",
        "my_set.add(6)\n",
        "print(\"Add:\", my_set)  # Output: {1, 2, 3, 4, 5, 6}\n",
        "\n",
        "# Removing items\n",
        "my_set.remove(3)  # Remove an item\n",
        "print(\"Remove:\", my_set)  # Output: {1, 2, 4, 5, 6}\n",
        "\n",
        "# Set operations\n",
        "print(\"Length:\", len(my_set))  # Output: 5\n",
        "print(\"Discard 10:\", my_set.discard(10))  # No error if item not found\n",
        "print(\"After Discard:\", my_set)  # Output: {1, 2, 4, 5, 6}"
      ],
      "metadata": {
        "colab": {
          "base_uri": "https://localhost:8080/"
        },
        "id": "W7buIcxwPSYO",
        "outputId": "3ccea33c-ca92-4187-a790-4329e4d4e9b9"
      },
      "execution_count": 27,
      "outputs": [
        {
          "output_type": "stream",
          "name": "stdout",
          "text": [
            "Add: {1, 2, 3, 4, 5, 6}\n",
            "Remove: {1, 2, 4, 5, 6}\n",
            "Length: 5\n",
            "Discard 10: None\n",
            "After Discard: {1, 2, 4, 5, 6}\n"
          ]
        }
      ]
    },
    {
      "cell_type": "code",
      "source": [
        "# 4. Dictionary\n",
        "my_dict = {'name': 'Alice', 'age': 25, 'city': 'New York'}\n",
        "\n",
        "# Adding or updating items\n",
        "my_dict['email'] = 'alice@example.com'\n",
        "print(\"Update:\", my_dict)  # Output: {'name': 'Alice', 'age': 25, 'city': 'New York', 'email': 'alice@example.com'}\n",
        "\n",
        "# Removing items\n",
        "del my_dict['city']  # Remove an item by key\n",
        "print(\"Delete:\", my_dict)  # Output: {'name': 'Alice', 'age': 25, 'email': 'alice@example.com'}\n",
        "\n",
        "# Dictionary operations\n",
        "print(\"Keys:\", my_dict.keys())  # Output: dict_keys(['name', 'age', 'email'])\n",
        "print(\"Values:\", my_dict.values())  # Output: dict_values(['Alice', 25, 'alice@example.com'])\n",
        "print(\"Items:\", my_dict.items())  # Output: dict_items([('name', 'Alice'), ('age', 25), ('email', 'alice@example.com')])"
      ],
      "metadata": {
        "colab": {
          "base_uri": "https://localhost:8080/"
        },
        "id": "k5spWrV9Of70",
        "outputId": "28772070-3801-4765-c429-6d8d42a4712c"
      },
      "execution_count": 28,
      "outputs": [
        {
          "output_type": "stream",
          "name": "stdout",
          "text": [
            "Update: {'name': 'Alice', 'age': 25, 'city': 'New York', 'email': 'alice@example.com'}\n",
            "Delete: {'name': 'Alice', 'age': 25, 'email': 'alice@example.com'}\n",
            "Keys: dict_keys(['name', 'age', 'email'])\n",
            "Values: dict_values(['Alice', 25, 'alice@example.com'])\n",
            "Items: dict_items([('name', 'Alice'), ('age', 25), ('email', 'alice@example.com')])\n"
          ]
        }
      ]
    },
    {
      "cell_type": "markdown",
      "source": [
        "## <font color='blue'>**5. Control flow – if else, while, for, break and continue statements**</font>"
      ],
      "metadata": {
        "id": "_bMeYmuzPpTp"
      }
    },
    {
      "cell_type": "code",
      "source": [
        "# 1. if and else\n",
        "# Description: Used for conditional execution of code blocks.\n",
        "\n",
        "# Example: Check if a number is positive, negative, or zero\n",
        "number = 5\n",
        "if number > 0:\n",
        "    print(\"The number is positive.\")\n",
        "elif number < 0:\n",
        "    print(\"The number is negative.\")\n",
        "else:\n",
        "    print(\"The number is zero.\")"
      ],
      "metadata": {
        "colab": {
          "base_uri": "https://localhost:8080/"
        },
        "id": "9fD_LOdVWLvd",
        "outputId": "995612e6-123c-4585-bcce-1b5bd7fad398"
      },
      "execution_count": 29,
      "outputs": [
        {
          "output_type": "stream",
          "name": "stdout",
          "text": [
            "The number is positive.\n"
          ]
        }
      ]
    },
    {
      "cell_type": "code",
      "source": [
        "# 2. while loop\n",
        "# Description: Repeats a block of code as long as a condition is true.\n",
        "\n",
        "# Example: Print numbers from 1 to 5 using a while loop\n",
        "count = 1\n",
        "while count <= 5:\n",
        "    print(\"Count:\", count)\n",
        "    count += 1"
      ],
      "metadata": {
        "colab": {
          "base_uri": "https://localhost:8080/"
        },
        "id": "UcQxCn6GWMm0",
        "outputId": "a0b14cee-27d4-4387-f8b6-faafdaf7be39"
      },
      "execution_count": 30,
      "outputs": [
        {
          "output_type": "stream",
          "name": "stdout",
          "text": [
            "Count: 1\n",
            "Count: 2\n",
            "Count: 3\n",
            "Count: 4\n",
            "Count: 5\n"
          ]
        }
      ]
    },
    {
      "cell_type": "code",
      "source": [
        "# 3. for loop\n",
        "# Description: Iterates over a sequence (like a list, tuple, or range).\n",
        "\n",
        "# Example: Print numbers from 1 to 5 using a for loop\n",
        "for i in range(1, 6):\n",
        "    print(\"For loop count:\", i)"
      ],
      "metadata": {
        "colab": {
          "base_uri": "https://localhost:8080/"
        },
        "id": "G2TCgjsPWTod",
        "outputId": "42bd4ce1-75ca-4130-9c43-01ae00c36a75"
      },
      "execution_count": 31,
      "outputs": [
        {
          "output_type": "stream",
          "name": "stdout",
          "text": [
            "For loop count: 1\n",
            "For loop count: 2\n",
            "For loop count: 3\n",
            "For loop count: 4\n",
            "For loop count: 5\n"
          ]
        }
      ]
    },
    {
      "cell_type": "code",
      "source": [
        "# 4. break statement\n",
        "# Description: Exits the current loop prematurely.\n",
        "\n",
        "# Example: Use break to exit the loop when the number is 3\n",
        "for i in range(1, 6):\n",
        "    if i == 3:\n",
        "        print(\"Breaking at\", i)\n",
        "        break\n",
        "    print(\"Current number:\", i)"
      ],
      "metadata": {
        "colab": {
          "base_uri": "https://localhost:8080/"
        },
        "id": "SofICK78WfF1",
        "outputId": "6658398a-39aa-4982-bbe3-88ea769f2f57"
      },
      "execution_count": 32,
      "outputs": [
        {
          "output_type": "stream",
          "name": "stdout",
          "text": [
            "Current number: 1\n",
            "Current number: 2\n",
            "Breaking at 3\n"
          ]
        }
      ]
    },
    {
      "cell_type": "code",
      "source": [
        "# 5. continue statement\n",
        "# Description: Skips the rest of the code inside the loop for the current iteration and continues with the next iteration.\n",
        "\n",
        "# Example: Use continue to skip printing the number 3\n",
        "for i in range(1, 6):\n",
        "    if i == 3:\n",
        "        continue\n",
        "    print(\"Current number (skipping 3):\", i)"
      ],
      "metadata": {
        "colab": {
          "base_uri": "https://localhost:8080/"
        },
        "id": "zhxj9lK-PvWy",
        "outputId": "ae37a312-ac07-4c57-e30a-2f47fb5d7749"
      },
      "execution_count": 33,
      "outputs": [
        {
          "output_type": "stream",
          "name": "stdout",
          "text": [
            "Current number (skipping 3): 1\n",
            "Current number (skipping 3): 2\n",
            "Current number (skipping 3): 4\n",
            "Current number (skipping 3): 5\n"
          ]
        }
      ]
    },
    {
      "cell_type": "markdown",
      "source": [
        "## <font color='blue'>**6. List comprehensions**</font>\n",
        "\n",
        "List comprehension is a concise way to create lists in Python. It allows you to generate a new list by applying an expression to each item in an existing iterable (like a list, tuple, or string) and optionally filter items with a condition."
      ],
      "metadata": {
        "id": "3K0qzIxPQLT6"
      }
    },
    {
      "cell_type": "code",
      "source": [
        "# 1. Basic List Comprehension\n",
        "# Description: Create a list of squares of numbers from 0 to 9.\n",
        "squares = [x**2 for x in range(10)]\n",
        "print(\"Squares:\", squares)  # Output: [0, 1, 4, 9, 16, 25, 36, 49, 64, 81]\n",
        "\n",
        "# 2. List Comprehension with Condition\n",
        "# Description: Create a list of even numbers from 0 to 9.\n",
        "evens = [x for x in range(10) if x % 2 == 0]\n",
        "print(\"Evens:\", evens)  # Output: [0, 2, 4, 6, 8]\n",
        "\n",
        "# 3. List Comprehension with Multiple Iterables\n",
        "# Description: Create a list of tuples from two lists.\n",
        "numbers = [1, 2, 3]\n",
        "letters = ['a', 'b', 'c']\n",
        "paired = [(num, letter) for num in numbers for letter in letters]\n",
        "print(\"Paired:\", paired)  # Output: [(1, 'a'), (1, 'b'), (1, 'c'), (2, 'a'), (2, 'b'), (2, 'c'), (3, 'a'), (3, 'b'), (3, 'c')]\n",
        "\n",
        "# 4. Nested List Comprehensions\n",
        "# Description: Flatten a 2D list into a 1D list.\n",
        "matrix = [[1, 2, 3], [4, 5, 6], [7, 8, 9]]\n",
        "flattened = [element for row in matrix for element in row]\n",
        "print(\"Flattened:\", flattened)  # Output: [1, 2, 3, 4, 5, 6, 7, 8, 9]\n",
        "\n",
        "# 5. List Comprehension with Function Application\n",
        "# Description: Apply a function to each element in a list.\n",
        "def square(x):\n",
        "    return x ** 2\n",
        "\n",
        "nums = [1, 2, 3, 4, 5]\n",
        "squared_nums = [square(x) for x in nums]\n",
        "print(\"Squared Numbers:\", squared_nums)  # Output: [1, 4, 9, 16, 25]\n",
        "\n",
        "# 6. Using List Comprehension with Strings\n",
        "# Description: Convert a string to a list of its uppercase characters.\n",
        "text = \"hello\"\n",
        "uppercase_chars = [char.upper() for char in text]\n",
        "print(\"Uppercase Chars:\", uppercase_chars)  # Output: ['H', 'E', 'L', 'L', 'O']"
      ],
      "metadata": {
        "colab": {
          "base_uri": "https://localhost:8080/"
        },
        "id": "LP6apao1QSHI",
        "outputId": "17196e67-40cf-4239-d9ec-c6064802afb8"
      },
      "execution_count": 34,
      "outputs": [
        {
          "output_type": "stream",
          "name": "stdout",
          "text": [
            "Squares: [0, 1, 4, 9, 16, 25, 36, 49, 64, 81]\n",
            "Evens: [0, 2, 4, 6, 8]\n",
            "Paired: [(1, 'a'), (1, 'b'), (1, 'c'), (2, 'a'), (2, 'b'), (2, 'c'), (3, 'a'), (3, 'b'), (3, 'c')]\n",
            "Flattened: [1, 2, 3, 4, 5, 6, 7, 8, 9]\n",
            "Squared Numbers: [1, 4, 9, 16, 25]\n",
            "Uppercase Chars: ['H', 'E', 'L', 'L', 'O']\n"
          ]
        }
      ]
    },
    {
      "cell_type": "markdown",
      "source": [
        "## <font color='blue'>**7. Defining and using functions – generators, decorators and lambda functions.**</font>"
      ],
      "metadata": {
        "id": "WGTexmFzQqmO"
      }
    },
    {
      "cell_type": "code",
      "source": [
        "# 1. Defining Functions\n",
        "# Description: Create a simple function to add two numbers.\n",
        "def add(a, b):\n",
        "    return a + b\n",
        "\n",
        "print(\"Add:\", add(3, 4))  # Output: 7"
      ],
      "metadata": {
        "colab": {
          "base_uri": "https://localhost:8080/"
        },
        "id": "nKL6Bq2GZA4l",
        "outputId": "6de11b08-3aa8-4202-cddf-f09d5aa4a49a"
      },
      "execution_count": 35,
      "outputs": [
        {
          "output_type": "stream",
          "name": "stdout",
          "text": [
            "Add: 7\n"
          ]
        }
      ]
    },
    {
      "cell_type": "code",
      "source": [
        "# 2. Generators\n",
        "# Description: Generators are functions that yield values one at a time using the 'yield' keyword.\n",
        "# They are useful for handling large datasets efficiently.\n",
        "\n",
        "# Example: Generator that yields squares of numbers from 0 to n\n",
        "def square_generator(n):\n",
        "    for i in range(n):\n",
        "        yield i ** 2\n",
        "\n",
        "# Using the generator\n",
        "squares = square_generator(5)\n",
        "print(\"Squares from generator:\", squares)\n",
        "for square in squares:\n",
        "    print(square)  # Output: 0 1 4 9 16"
      ],
      "metadata": {
        "colab": {
          "base_uri": "https://localhost:8080/"
        },
        "id": "0ieXArQQZBeZ",
        "outputId": "4c4680eb-755e-47d9-eb23-5b1068c281d0"
      },
      "execution_count": 36,
      "outputs": [
        {
          "output_type": "stream",
          "name": "stdout",
          "text": [
            "Squares from generator: <generator object square_generator at 0x799771b91930>\n",
            "0\n",
            "1\n",
            "4\n",
            "9\n",
            "16\n"
          ]
        }
      ]
    },
    {
      "cell_type": "code",
      "source": [
        "# 3. Decorators\n",
        "# Description: Decorators are functions that modify the behavior of other functions.\n",
        "# They are often used for logging, access control, or performance measurement.\n",
        "\n",
        "# Example: Decorator to print function call details\n",
        "def log_function_call(func):\n",
        "    def wrapper(*args, **kwargs):\n",
        "        print(f\"Calling {func.__name__} with arguments {args} and {kwargs}\")\n",
        "        result = func(*args, **kwargs)\n",
        "        print(f\"{func.__name__} returned {result}\")\n",
        "        return result\n",
        "    return wrapper\n",
        "\n",
        "@log_function_call\n",
        "def multiply(x, y):\n",
        "    return x * y\n",
        "\n",
        "print(\"Multiply:\")\n",
        "multiply(5, 6)  # Output includes logging information"
      ],
      "metadata": {
        "colab": {
          "base_uri": "https://localhost:8080/"
        },
        "id": "5wy9-TIUeWzK",
        "outputId": "cbbe213b-0116-45d9-9a25-7564cf23622b"
      },
      "execution_count": 37,
      "outputs": [
        {
          "output_type": "stream",
          "name": "stdout",
          "text": [
            "Multiply:\n",
            "Calling multiply with arguments (5, 6) and {}\n",
            "multiply returned 30\n"
          ]
        },
        {
          "output_type": "execute_result",
          "data": {
            "text/plain": [
              "30"
            ]
          },
          "metadata": {},
          "execution_count": 37
        }
      ]
    },
    {
      "cell_type": "code",
      "source": [
        "# 4. Lambda Functions\n",
        "# Description: Lambda functions are small anonymous functions defined with the 'lambda' keyword.\n",
        "# They are often used for short, throwaway functions.\n",
        "\n",
        "# Example: Lambda function to compute the square of a number\n",
        "square = lambda x: x ** 2\n",
        "print(\"Square of 7:\", square(7))  # Output: 49\n",
        "\n",
        "# Example: Using lambda with the 'map' function to square elements of a list\n",
        "numbers = [1, 2, 3, 4, 5]\n",
        "squared_numbers = list(map(lambda x: x ** 2, numbers))\n",
        "print(\"Squared Numbers:\", squared_numbers)  # Output: [1, 4, 9, 16, 25]\n",
        "\n",
        "# Example: Using lambda with the 'filter' function to filter even numbers from a list\n",
        "even_numbers = list(filter(lambda x: x % 2 == 0, numbers))\n",
        "print(\"Even Numbers:\", even_numbers)  # Output: [2, 4]\n",
        "\n",
        "# Example: Using lambda with 'sorted' to sort tuples by the second element\n",
        "pairs = [(1, 'one'), (2, 'two'), (3, 'three')]\n",
        "sorted_pairs = sorted(pairs, key=lambda x: x[1])\n",
        "print(\"Sorted Pairs by Second Element:\", sorted_pairs)  # Output: [(1, 'one'), (2, 'two'), (3, 'three')]"
      ],
      "metadata": {
        "colab": {
          "base_uri": "https://localhost:8080/"
        },
        "id": "j8X41xq4REB6",
        "outputId": "eda82de4-7089-4115-eb1f-b1f619907b91"
      },
      "execution_count": 38,
      "outputs": [
        {
          "output_type": "stream",
          "name": "stdout",
          "text": [
            "Square of 7: 49\n",
            "Squared Numbers: [1, 4, 9, 16, 25]\n",
            "Even Numbers: [2, 4]\n",
            "Sorted Pairs by Second Element: [(1, 'one'), (3, 'three'), (2, 'two')]\n"
          ]
        }
      ]
    },
    {
      "cell_type": "markdown",
      "source": [
        "## <font color='blue'>**8. Defining and instantiating classes**</font>"
      ],
      "metadata": {
        "id": "v99T83VARPvb"
      }
    },
    {
      "cell_type": "code",
      "source": [
        "# 1. Basic Class Definition\n",
        "# Description: Define a simple class with attributes and methods.\n",
        "\n",
        "class Person:\n",
        "    def __init__(self, name, age):\n",
        "        self.name = name  # Instance attribute\n",
        "        self.age = age    # Instance attribute\n",
        "\n",
        "    def greet(self):\n",
        "        return f\"Hello, my name is {self.name} and I am {self.age} years old.\"\n",
        "\n",
        "# Creating an instance of the Person class\n",
        "person1 = Person(\"Alice\", 30)\n",
        "print(person1.greet())  # Output: Hello, my name is Alice and I am 30 years old."
      ],
      "metadata": {
        "colab": {
          "base_uri": "https://localhost:8080/"
        },
        "id": "lLBUAOl4HLVs",
        "outputId": "ce7bebba-dfd4-488e-e5fd-b0f346b1024e"
      },
      "execution_count": 39,
      "outputs": [
        {
          "output_type": "stream",
          "name": "stdout",
          "text": [
            "Hello, my name is Alice and I am 30 years old.\n"
          ]
        }
      ]
    },
    {
      "cell_type": "code",
      "source": [
        "# 2. Class Inheritance\n",
        "# Description: Create a subclass that inherits from a base class.\n",
        "\n",
        "class Student(Person):\n",
        "    def __init__(self, name, age, student_id):\n",
        "        super().__init__(name, age)  # Call the constructor of the base class\n",
        "        self.student_id = student_id  # New attribute for the subclass\n",
        "\n",
        "    def introduce(self):\n",
        "        return f\"{self.greet()} My student ID is {self.student_id}.\"\n",
        "\n",
        "# Creating an instance of the Student class\n",
        "student1 = Student(\"Bob\", 22, \"S12345\")\n",
        "print(student1.introduce())  # Output: Hello, my name is Bob and I am 22 years old. My student ID is S12345."
      ],
      "metadata": {
        "colab": {
          "base_uri": "https://localhost:8080/"
        },
        "id": "1_6b7-VeHnIa",
        "outputId": "4f2f5eca-d377-46db-e2fa-2a32dc1122ef"
      },
      "execution_count": 40,
      "outputs": [
        {
          "output_type": "stream",
          "name": "stdout",
          "text": [
            "Hello, my name is Bob and I am 22 years old. My student ID is S12345.\n"
          ]
        }
      ]
    },
    {
      "cell_type": "code",
      "source": [
        "# 3. Class Methods and Static Methods\n",
        "# Description: Define methods that operate on class-level data or do not require an instance.\n",
        "\n",
        "class MathOperations:\n",
        "    @classmethod\n",
        "    def multiply(cls, x, y):\n",
        "        return x * y\n",
        "\n",
        "    @staticmethod\n",
        "    def add(x, y):\n",
        "        return x + y\n",
        "\n",
        "# Using class methods and static methods\n",
        "print(\"Multiply using class method:\", MathOperations.multiply(3, 4))  # Output: 12\n",
        "print(\"Add using static method:\", MathOperations.add(5, 6))         # Output: 11"
      ],
      "metadata": {
        "colab": {
          "base_uri": "https://localhost:8080/"
        },
        "id": "ZmECBwtPHwva",
        "outputId": "3cdd076e-5091-4046-8713-74a7605c4956"
      },
      "execution_count": 41,
      "outputs": [
        {
          "output_type": "stream",
          "name": "stdout",
          "text": [
            "Multiply using class method: 12\n",
            "Add using static method: 11\n"
          ]
        }
      ]
    },
    {
      "cell_type": "code",
      "source": [
        "# 4. Properties\n",
        "# Description: Use properties to define getter and setter methods for attributes.\n",
        "\n",
        "class Circle:\n",
        "    def __init__(self, radius):\n",
        "        self._radius = radius\n",
        "\n",
        "    @property\n",
        "    def radius(self):\n",
        "        return self._radius\n",
        "\n",
        "    @radius.setter\n",
        "    def radius(self, value):\n",
        "        if value >= 0:\n",
        "            self._radius = value\n",
        "        else:\n",
        "            raise ValueError(\"Radius must be non-negative.\")\n",
        "\n",
        "    @property\n",
        "    def area(self):\n",
        "        import math\n",
        "        return math.pi * (self._radius ** 2)\n",
        "\n",
        "# Creating an instance of Circle and using properties\n",
        "circle = Circle(5)\n",
        "print(\"Radius:\", circle.radius)  # Output: 5\n",
        "print(\"Area:\", circle.area)      # Output: 78.53981633974483"
      ],
      "metadata": {
        "id": "ng5M3Ai5RaiW",
        "colab": {
          "base_uri": "https://localhost:8080/"
        },
        "outputId": "b4fe8604-9244-41b7-e26a-40f6d545c9f2"
      },
      "execution_count": 42,
      "outputs": [
        {
          "output_type": "stream",
          "name": "stdout",
          "text": [
            "Radius: 5\n",
            "Area: 78.53981633974483\n"
          ]
        }
      ]
    },
    {
      "cell_type": "markdown",
      "source": [
        "## <font color='blue'>**9. File I/O**</font>"
      ],
      "metadata": {
        "id": "TTJdbnbzR9gE"
      }
    },
    {
      "cell_type": "code",
      "source": [
        "# 1. Writing to a File\n",
        "# Description: Open a file in write mode and write text to it.\n",
        "\n",
        "# Open a file in write mode ('w'). If the file does not exist, it will be created.\n",
        "with open('example.txt', 'w') as file:\n",
        "    file.write(\"Hello, world!\\n\")\n",
        "    file.write(\"This is a second line of text.\")\n",
        "\n",
        "print(\"File written successfully.\")"
      ],
      "metadata": {
        "colab": {
          "base_uri": "https://localhost:8080/"
        },
        "id": "OT0yp-EMIOdQ",
        "outputId": "f6f1988b-0eb0-493e-a480-32212685d612"
      },
      "execution_count": 43,
      "outputs": [
        {
          "output_type": "stream",
          "name": "stdout",
          "text": [
            "File written successfully.\n"
          ]
        }
      ]
    },
    {
      "cell_type": "code",
      "source": [
        "# 2. Reading from a File\n",
        "# Description: Open a file in read mode and read its contents.\n",
        "\n",
        "# Open a file in read mode ('r') and read its contents.\n",
        "with open('example.txt', 'r') as file:\n",
        "    content = file.read()\n",
        "\n",
        "print(\"File content:\")\n",
        "print(content)"
      ],
      "metadata": {
        "colab": {
          "base_uri": "https://localhost:8080/"
        },
        "id": "D2Qnwq1SIboI",
        "outputId": "ae94aa42-b380-45b9-a508-9a67e70b305e"
      },
      "execution_count": 44,
      "outputs": [
        {
          "output_type": "stream",
          "name": "stdout",
          "text": [
            "File content:\n",
            "Hello, world!\n",
            "This is a second line of text.\n"
          ]
        }
      ]
    },
    {
      "cell_type": "code",
      "source": [
        "# 3. Appending to a File\n",
        "# Description: Open a file in append mode and add more text to it.\n",
        "\n",
        "# Open a file in append mode ('a') to add text without overwriting existing content.\n",
        "with open('example.txt', 'a') as file:\n",
        "    file.write(\"\\nThis line is appended to the file.\")\n",
        "\n",
        "print(\"Content appended successfully.\")"
      ],
      "metadata": {
        "colab": {
          "base_uri": "https://localhost:8080/"
        },
        "id": "CyM1f7POIkir",
        "outputId": "1696513b-ae71-43a3-f232-21d245c8259e"
      },
      "execution_count": 45,
      "outputs": [
        {
          "output_type": "stream",
          "name": "stdout",
          "text": [
            "Content appended successfully.\n"
          ]
        }
      ]
    },
    {
      "cell_type": "code",
      "source": [
        "# 4. Reading Lines from a File\n",
        "# Description: Read a file line by line.\n",
        "\n",
        "# Open a file and read lines individually.\n",
        "with open('example.txt', 'r') as file:\n",
        "    lines = file.readlines()\n",
        "\n",
        "print(\"File lines:\")\n",
        "for line in lines:\n",
        "    print(line.strip())  # strip() removes leading/trailing whitespace including newline characters"
      ],
      "metadata": {
        "colab": {
          "base_uri": "https://localhost:8080/"
        },
        "id": "4OtD3qBOIrvG",
        "outputId": "2f33cb4a-b2d4-45b2-95fa-afc080a6b67d"
      },
      "execution_count": 46,
      "outputs": [
        {
          "output_type": "stream",
          "name": "stdout",
          "text": [
            "File lines:\n",
            "Hello, world!\n",
            "This is a second line of text.\n",
            "This line is appended to the file.\n"
          ]
        }
      ]
    },
    {
      "cell_type": "code",
      "source": [
        "# 5. File Handling with Context Managers\n",
        "# Description: Use 'with' to ensure files are properly closed after operations.\n",
        "\n",
        "# The 'with' statement automatically closes the file after the block of code is executed.\n",
        "with open('example.txt', 'r') as file:\n",
        "    content = file.read()\n",
        "\n",
        "print(\"File content read with context manager:\")\n",
        "print(content)"
      ],
      "metadata": {
        "colab": {
          "base_uri": "https://localhost:8080/"
        },
        "id": "ObmzOaMMIzxp",
        "outputId": "cf6ad1d0-191a-4b9e-eaa7-00be1709ae31"
      },
      "execution_count": 47,
      "outputs": [
        {
          "output_type": "stream",
          "name": "stdout",
          "text": [
            "File content read with context manager:\n",
            "Hello, world!\n",
            "This is a second line of text.\n",
            "This line is appended to the file.\n"
          ]
        }
      ]
    },
    {
      "cell_type": "code",
      "source": [
        "# 6. Handling File Exceptions\n",
        "# Description: Handle exceptions that may occur during file operations.\n",
        "\n",
        "try:\n",
        "    # Attempt to open a file that does not exist to demonstrate exception handling.\n",
        "    with open('nonexistent_file.txt', 'r') as file:\n",
        "        content = file.read()\n",
        "except FileNotFoundError:\n",
        "    print(\"Error: The file does not exist.\")\n",
        "except IOError as e:\n",
        "    print(f\"Error: An IOError occurred. Details: {e}\")"
      ],
      "metadata": {
        "colab": {
          "base_uri": "https://localhost:8080/"
        },
        "id": "heJk_GT-I5et",
        "outputId": "1ae5db45-9bf0-418a-8610-4f9086d16d71"
      },
      "execution_count": 48,
      "outputs": [
        {
          "output_type": "stream",
          "name": "stdout",
          "text": [
            "Error: The file does not exist.\n"
          ]
        }
      ]
    },
    {
      "cell_type": "code",
      "source": [
        "# 7. Writing Binary Data\n",
        "# Description: Write and read binary data to/from a file.\n",
        "\n",
        "# Writing binary data\n",
        "with open('example.bin', 'wb') as file:\n",
        "    file.write(b'\\x00\\x01\\x02\\x03\\x04')  # Writing bytes\n",
        "\n",
        "# Reading binary data\n",
        "with open('example.bin', 'rb') as file:\n",
        "    binary_content = file.read()\n",
        "\n",
        "print(\"Binary file content:\", binary_content)  # Output: b'\\x00\\x01\\x02\\x03\\x04'"
      ],
      "metadata": {
        "id": "3LzMWM0vRzMY",
        "colab": {
          "base_uri": "https://localhost:8080/"
        },
        "outputId": "43cb7e1e-29f1-4a1a-e6f5-60d58834a6c9"
      },
      "execution_count": 49,
      "outputs": [
        {
          "output_type": "stream",
          "name": "stdout",
          "text": [
            "Binary file content: b'\\x00\\x01\\x02\\x03\\x04'\n"
          ]
        }
      ]
    },
    {
      "cell_type": "markdown",
      "source": [
        "# <font color='red'>**2. Numpy Package Basics**</font>"
      ],
      "metadata": {
        "id": "L0BrkeZTSI7B"
      }
    },
    {
      "cell_type": "markdown",
      "source": [
        "1. Defining and indexing arrays (zeros, ones, randn, empty etc.)\n",
        "\n",
        "2. Reshaping arrays (transpose, reshape and ravel)\n",
        "\n",
        "3. Performing arithmetic on arrays (elementwise operations, multiplications, dot products, norms,  \n",
        "\n",
        "4. Computing statistical measures on arrays - max, min, argmax, argmin, mean, variance\n",
        "\n",
        "5. Slicing arrays and concatenating several arrays\n",
        "\n",
        "6. Array broadcasting\n",
        "\n",
        "7. Saving and loading numpy arrays"
      ],
      "metadata": {
        "id": "3X85J-dYq0jc"
      }
    },
    {
      "cell_type": "code",
      "source": [
        "# !pip install -q numpy\n",
        "import numpy as np\n",
        "# 1. Defining and Indexing Arrays\n",
        "# Description: Create arrays using various functions.\n",
        "\n",
        "# Create a 1D array of zeros\n",
        "zeros_array = np.zeros(5)\n",
        "print(\"Zeros Array:\", zeros_array)  # Output: [0. 0. 0. 0. 0.]\n",
        "\n",
        "# Create a 1D array of ones\n",
        "ones_array = np.ones((5,2))\n",
        "print(\"Ones Array:\", ones_array)\n",
        "\n",
        "# Create a 1D array with random values from a normal distribution\n",
        "random_array = np.random.randn(5)\n",
        "print(\"Random Array:\", random_array)\n",
        "\n",
        "# Create an empty array (values are not initialized)\n",
        "empty_array = np.empty((2, 3))\n",
        "print(\"Empty Array:\\n\", empty_array)"
      ],
      "metadata": {
        "colab": {
          "base_uri": "https://localhost:8080/"
        },
        "id": "WW2UBzx-JJtW",
        "outputId": "e3cddccb-3d65-437e-db5e-2e1812b18432"
      },
      "execution_count": 50,
      "outputs": [
        {
          "output_type": "stream",
          "name": "stdout",
          "text": [
            "Zeros Array: [0. 0. 0. 0. 0.]\n",
            "Ones Array: [[1. 1.]\n",
            " [1. 1.]\n",
            " [1. 1.]\n",
            " [1. 1.]\n",
            " [1. 1.]]\n",
            "Random Array: [ 0.08475122 -0.07901338  0.46143631  0.03025096  0.03478224]\n",
            "Empty Array:\n",
            " [[4.73409792e-310 0.00000000e+000 9.76118064e-313]\n",
            " [1.78247646e-312 9.54898106e-313 2.76676762e-322]]\n"
          ]
        }
      ]
    },
    {
      "cell_type": "code",
      "source": [
        "# 2. Reshaping Arrays\n",
        "# Description: Change the shape of an array without changing its data.\n",
        "\n",
        "# Reshape a 1D array into a 2D array\n",
        "reshaped_array = np.arange(12).reshape(3, 4)\n",
        "print(\"Reshaped Array:\\n\", reshaped_array)\n",
        "\n",
        "# Transpose of an array\n",
        "transposed_array = reshaped_array.T\n",
        "print(\"Transposed Array:\\n\", transposed_array)\n",
        "\n",
        "# Flatten a 2D array into a 1D array\n",
        "flattened_array = reshaped_array.ravel()\n",
        "print(\"Flattened Array:\", flattened_array)"
      ],
      "metadata": {
        "colab": {
          "base_uri": "https://localhost:8080/"
        },
        "id": "32QiWLAQJpui",
        "outputId": "60ce993d-1945-4f62-f87f-859a733f0d54"
      },
      "execution_count": 51,
      "outputs": [
        {
          "output_type": "stream",
          "name": "stdout",
          "text": [
            "Reshaped Array:\n",
            " [[ 0  1  2  3]\n",
            " [ 4  5  6  7]\n",
            " [ 8  9 10 11]]\n",
            "Transposed Array:\n",
            " [[ 0  4  8]\n",
            " [ 1  5  9]\n",
            " [ 2  6 10]\n",
            " [ 3  7 11]]\n",
            "Flattened Array: [ 0  1  2  3  4  5  6  7  8  9 10 11]\n"
          ]
        }
      ]
    },
    {
      "cell_type": "code",
      "source": [
        "# 3. Performing Arithmetic on Arrays\n",
        "# Description: Perform elementwise operations and other mathematical operations.\n",
        "\n",
        "# Elementwise addition\n",
        "array1 = np.array([1, 2, 3])\n",
        "array2 = np.array([4, 5, 6])\n",
        "elementwise_sum = array1 + array2\n",
        "print(\"Elementwise Sum:\", elementwise_sum)  # Output: [5 7 9]\n",
        "\n",
        "# Elementwise multiplication\n",
        "elementwise_product = array1 * array2\n",
        "print(\"Elementwise Product:\", elementwise_product)  # Output: [ 4 10 18]\n",
        "\n",
        "# Dot product\n",
        "dot_product = np.dot(array1, array2)\n",
        "print(\"Dot Product:\", dot_product)  # Output: 32\n",
        "\n",
        "# Norm (Euclidean norm)\n",
        "norm = np.linalg.norm(array1)\n",
        "print(\"Norm of Array1:\", norm)  # Output: 3.7416573867739413"
      ],
      "metadata": {
        "colab": {
          "base_uri": "https://localhost:8080/"
        },
        "id": "nWb4dKKmJ3ru",
        "outputId": "eae715bb-4bd2-4e7b-f4a5-7828cb004ce4"
      },
      "execution_count": 52,
      "outputs": [
        {
          "output_type": "stream",
          "name": "stdout",
          "text": [
            "Elementwise Sum: [5 7 9]\n",
            "Elementwise Product: [ 4 10 18]\n",
            "Dot Product: 32\n",
            "Norm of Array1: 3.7416573867739413\n"
          ]
        }
      ]
    },
    {
      "cell_type": "code",
      "source": [
        "# 4. Computing Statistical Measures on Arrays\n",
        "# Description: Compute various statistical measures.\n",
        "\n",
        "# Create an array for statistical measures\n",
        "stats_array = np.array([1, 2, 3, 4, 5, 6, 7, 8, 9])\n",
        "\n",
        "# Maximum value\n",
        "max_value = np.max(stats_array)\n",
        "print(\"Max Value:\", max_value)  # Output: 9\n",
        "\n",
        "# Minimum value\n",
        "min_value = np.min(stats_array)\n",
        "print(\"Min Value:\", min_value)  # Output: 1\n",
        "\n",
        "# Index of maximum value\n",
        "argmax_index = np.argmax(stats_array)\n",
        "print(\"Index of Max Value:\", argmax_index)  # Output: 8\n",
        "\n",
        "# Index of minimum value\n",
        "argmin_index = np.argmin(stats_array)\n",
        "print(\"Index of Min Value:\", argmin_index)  # Output: 0\n",
        "\n",
        "# Mean value\n",
        "mean_value = np.mean(stats_array)\n",
        "print(\"Mean Value:\", mean_value)  # Output: 5.0\n",
        "\n",
        "# Variance\n",
        "variance = np.var(stats_array)\n",
        "print(\"Variance:\", variance)  # Output: 6.666666666666667"
      ],
      "metadata": {
        "colab": {
          "base_uri": "https://localhost:8080/"
        },
        "id": "tuQnJLgdKE8O",
        "outputId": "ba4c327c-b713-476e-ea30-b17843717162"
      },
      "execution_count": 53,
      "outputs": [
        {
          "output_type": "stream",
          "name": "stdout",
          "text": [
            "Max Value: 9\n",
            "Min Value: 1\n",
            "Index of Max Value: 8\n",
            "Index of Min Value: 0\n",
            "Mean Value: 5.0\n",
            "Variance: 6.666666666666667\n"
          ]
        }
      ]
    },
    {
      "cell_type": "code",
      "source": [
        "# 5. Slicing and Concatenating Arrays\n",
        "# Description: Extract parts of arrays and concatenate multiple arrays.\n",
        "\n",
        "# Create arrays for slicing and concatenation\n",
        "array_a = np.array([1, 2, 3, 4, 5])\n",
        "array_b = np.array([6, 7, 8, 9, 10])\n",
        "\n",
        "# Slice an array\n",
        "slice_a = array_a[1:4]\n",
        "print(\"Slice of Array A:\", slice_a)  # Output: [2 3 4]\n",
        "\n",
        "# Concatenate arrays\n",
        "concatenated_array = np.concatenate((array_a, array_b))\n",
        "print(\"Concatenated Array:\", concatenated_array)  # Output: [ 1  2  3  4  5  6  7  8  9 10]"
      ],
      "metadata": {
        "colab": {
          "base_uri": "https://localhost:8080/"
        },
        "id": "w1MOFe1jKQR3",
        "outputId": "e484d425-b9d5-462e-d61d-ac3ee9a682cb"
      },
      "execution_count": 54,
      "outputs": [
        {
          "output_type": "stream",
          "name": "stdout",
          "text": [
            "Slice of Array A: [2 3 4]\n",
            "Concatenated Array: [ 1  2  3  4  5  6  7  8  9 10]\n"
          ]
        }
      ]
    },
    {
      "cell_type": "code",
      "source": [
        "# 6. Array Broadcasting\n",
        "# Description: Perform operations on arrays of different shapes through broadcasting.\n",
        "\n",
        "# Create arrays for broadcasting\n",
        "array_x = np.array([[1], [2], [3]])\n",
        "array_y = np.array([4, 5, 6])\n",
        "\n",
        "# Add arrays with broadcasting\n",
        "broadcasted_sum = array_x + array_y\n",
        "print(\"Broadcasted Sum:\\n\", broadcasted_sum)\n",
        "# Output:\n",
        "# [[ 5  6  7]\n",
        "#  [ 6  7  8]\n",
        "#  [ 7  8  9]]"
      ],
      "metadata": {
        "colab": {
          "base_uri": "https://localhost:8080/"
        },
        "id": "LhaxgMB9KmCt",
        "outputId": "7c3da0c1-9765-4ac5-8bb0-763f67ac3b23"
      },
      "execution_count": 55,
      "outputs": [
        {
          "output_type": "stream",
          "name": "stdout",
          "text": [
            "Broadcasted Sum:\n",
            " [[5 6 7]\n",
            " [6 7 8]\n",
            " [7 8 9]]\n"
          ]
        }
      ]
    },
    {
      "cell_type": "code",
      "source": [
        "# 7. Saving and Loading NumPy Arrays\n",
        "# Description: Save and load arrays to/from files.\n",
        "\n",
        "# Save array to a .npy file\n",
        "np.save('saved_array.npy', array_x)\n",
        "\n",
        "# Load array from a .npy file\n",
        "loaded_array = np.load('saved_array.npy')\n",
        "print(\"Loaded Array:\\n\", loaded_array)"
      ],
      "metadata": {
        "id": "MQ5XbJDySaoa",
        "colab": {
          "base_uri": "https://localhost:8080/"
        },
        "outputId": "78ee5897-a76a-4541-8487-5407c66feb80"
      },
      "execution_count": 56,
      "outputs": [
        {
          "output_type": "stream",
          "name": "stdout",
          "text": [
            "Loaded Array:\n",
            " [[1]\n",
            " [2]\n",
            " [3]]\n"
          ]
        }
      ]
    },
    {
      "cell_type": "markdown",
      "source": [
        "# <font color='red'>**3. Pandas Package Basics**</font>"
      ],
      "metadata": {
        "id": "WZtR0WxpSzuP"
      }
    },
    {
      "cell_type": "markdown",
      "source": [
        "1. Series and dataframes\n",
        "\n",
        "2. Reading CSV, JSON files into dataframes\n",
        "\n",
        "3. Getting data info\n",
        "\n",
        "4. Data cleaning - Handling missing or incorrect data, removing duplicates"
      ],
      "metadata": {
        "id": "ne4DRspIrGMJ"
      }
    },
    {
      "cell_type": "code",
      "source": [
        "import pandas as pd\n",
        "import numpy as np\n",
        "\n",
        "# 1. Introduction to Pandas: Series and DataFrames\n",
        "# Series: A one-dimensional labeled array capable of holding any data type.\n",
        "# DataFrame: A two-dimensional labeled data structure with columns of potentially different types.\n",
        "\n",
        "# Creating a Series\n",
        "data = pd.Series([10, 20, 30, 40, 50], index=['a', 'b', 'c', 'd', 'e'])\n",
        "print(\"Series:\")\n",
        "print(data)\n",
        "\n",
        "# Creating a DataFrame\n",
        "data_dict = {\n",
        "    'Name': ['Alice', 'Bob', 'Charlie'],\n",
        "    'Age': [25, 30, 35],\n",
        "    'City': ['New York', 'Los Angeles', 'Chicago']\n",
        "}\n",
        "df = pd.DataFrame(data_dict)\n",
        "print(\"\\nDataFrame:\")\n",
        "print(df)"
      ],
      "metadata": {
        "colab": {
          "base_uri": "https://localhost:8080/"
        },
        "id": "hXtQF6QWLzhp",
        "outputId": "da5ef0d6-5956-401f-cef4-34247b38ccbe"
      },
      "execution_count": 57,
      "outputs": [
        {
          "output_type": "stream",
          "name": "stdout",
          "text": [
            "Series:\n",
            "a    10\n",
            "b    20\n",
            "c    30\n",
            "d    40\n",
            "e    50\n",
            "dtype: int64\n",
            "\n",
            "DataFrame:\n",
            "      Name  Age         City\n",
            "0    Alice   25     New York\n",
            "1      Bob   30  Los Angeles\n",
            "2  Charlie   35      Chicago\n"
          ]
        }
      ]
    },
    {
      "cell_type": "code",
      "source": [
        "# 2. Reading CSV and JSON Files into DataFrames\n",
        "# Reading a JSON file\n",
        "# Assume 'data.json' is a JSON file with appropriate data\n",
        "df_json = pd.read_json('/content/sample_json.json')\n",
        "print(df_json)"
      ],
      "metadata": {
        "colab": {
          "base_uri": "https://localhost:8080/"
        },
        "id": "8DCOrvPRMOfI",
        "outputId": "5c5d9f91-b157-4480-d5ee-cb13c3ea3df4"
      },
      "execution_count": 58,
      "outputs": [
        {
          "output_type": "stream",
          "name": "stdout",
          "text": [
            "                                              people\n",
            "0  {'firstName': 'Joe', 'lastName': 'Jackson', 'g...\n",
            "1  {'firstName': 'James', 'lastName': 'Smith', 'g...\n",
            "2  {'firstName': 'Emily', 'lastName': 'Jones', 'g...\n"
          ]
        }
      ]
    },
    {
      "cell_type": "code",
      "source": [
        "# Reading a CSV file\n",
        "# Assume 'data.csv' is a CSV file with appropriate data\n",
        "df = pd.read_csv('/content/Student_performance_data _.csv')"
      ],
      "metadata": {
        "id": "Rpft0J0VNQKd"
      },
      "execution_count": 59,
      "outputs": []
    },
    {
      "cell_type": "code",
      "source": [
        "# 3. Getting Data Info\n",
        "# Description: Get a quick overview of the DataFrame.\n",
        "\n",
        "# DataFrame info\n",
        "print(\"\\nDataFrame Info:\")\n",
        "print(df.info())\n",
        "\n",
        "# Summary statistics\n",
        "print(\"\\nSummary Statistics:\")\n",
        "print(df.describe())"
      ],
      "metadata": {
        "colab": {
          "base_uri": "https://localhost:8080/"
        },
        "id": "Xjw3ZivdOe5L",
        "outputId": "06df7ee2-d703-476f-e296-431d0b4045fb"
      },
      "execution_count": 60,
      "outputs": [
        {
          "output_type": "stream",
          "name": "stdout",
          "text": [
            "\n",
            "DataFrame Info:\n",
            "<class 'pandas.core.frame.DataFrame'>\n",
            "RangeIndex: 2392 entries, 0 to 2391\n",
            "Data columns (total 15 columns):\n",
            " #   Column             Non-Null Count  Dtype  \n",
            "---  ------             --------------  -----  \n",
            " 0   StudentID          2392 non-null   int64  \n",
            " 1   Age                2392 non-null   int64  \n",
            " 2   Gender             2392 non-null   int64  \n",
            " 3   Ethnicity          2392 non-null   int64  \n",
            " 4   ParentalEducation  2392 non-null   int64  \n",
            " 5   StudyTimeWeekly    2392 non-null   float64\n",
            " 6   Absences           2392 non-null   int64  \n",
            " 7   Tutoring           2392 non-null   int64  \n",
            " 8   ParentalSupport    2392 non-null   int64  \n",
            " 9   Extracurricular    2392 non-null   int64  \n",
            " 10  Sports             2392 non-null   int64  \n",
            " 11  Music              2392 non-null   int64  \n",
            " 12  Volunteering       2392 non-null   int64  \n",
            " 13  GPA                2392 non-null   float64\n",
            " 14  GradeClass         2392 non-null   float64\n",
            "dtypes: float64(3), int64(12)\n",
            "memory usage: 280.4 KB\n",
            "None\n",
            "\n",
            "Summary Statistics:\n",
            "         StudentID          Age       Gender    Ethnicity  ParentalEducation  \\\n",
            "count  2392.000000  2392.000000  2392.000000  2392.000000        2392.000000   \n",
            "mean   2196.500000    16.468645     0.510870     0.877508           1.746237   \n",
            "std     690.655244     1.123798     0.499986     1.028476           1.000411   \n",
            "min    1001.000000    15.000000     0.000000     0.000000           0.000000   \n",
            "25%    1598.750000    15.000000     0.000000     0.000000           1.000000   \n",
            "50%    2196.500000    16.000000     1.000000     0.000000           2.000000   \n",
            "75%    2794.250000    17.000000     1.000000     2.000000           2.000000   \n",
            "max    3392.000000    18.000000     1.000000     3.000000           4.000000   \n",
            "\n",
            "       StudyTimeWeekly     Absences     Tutoring  ParentalSupport  \\\n",
            "count      2392.000000  2392.000000  2392.000000      2392.000000   \n",
            "mean          9.771992    14.541388     0.301421         2.122074   \n",
            "std           5.652774     8.467417     0.458971         1.122813   \n",
            "min           0.001057     0.000000     0.000000         0.000000   \n",
            "25%           5.043079     7.000000     0.000000         1.000000   \n",
            "50%           9.705363    15.000000     0.000000         2.000000   \n",
            "75%          14.408410    22.000000     1.000000         3.000000   \n",
            "max          19.978094    29.000000     1.000000         4.000000   \n",
            "\n",
            "       Extracurricular       Sports        Music  Volunteering          GPA  \\\n",
            "count      2392.000000  2392.000000  2392.000000   2392.000000  2392.000000   \n",
            "mean          0.383361     0.303512     0.196906      0.157191     1.906186   \n",
            "std           0.486307     0.459870     0.397744      0.364057     0.915156   \n",
            "min           0.000000     0.000000     0.000000      0.000000     0.000000   \n",
            "25%           0.000000     0.000000     0.000000      0.000000     1.174803   \n",
            "50%           0.000000     0.000000     0.000000      0.000000     1.893393   \n",
            "75%           1.000000     1.000000     0.000000      0.000000     2.622216   \n",
            "max           1.000000     1.000000     1.000000      1.000000     4.000000   \n",
            "\n",
            "        GradeClass  \n",
            "count  2392.000000  \n",
            "mean      2.983696  \n",
            "std       1.233908  \n",
            "min       0.000000  \n",
            "25%       2.000000  \n",
            "50%       4.000000  \n",
            "75%       4.000000  \n",
            "max       4.000000  \n"
          ]
        }
      ]
    },
    {
      "cell_type": "code",
      "source": [
        "# 4. Data Cleaning\n",
        "# Description: Handle missing or incorrect data and remove duplicates.\n",
        "\n",
        "# Creating a DataFrame with missing values\n",
        "df_cleaning = pd.DataFrame({\n",
        "    'Name': ['John', 'Mary', 'John', 'Anna', np.nan],\n",
        "    'Age': [28, 22, 28, np.nan, 30],\n",
        "    'City': ['Austin', 'Seattle', 'Austin', 'New York', 'Boston']\n",
        "})\n",
        "\n",
        "print(\"\\nDataFrame with Missing Values:\")\n",
        "print(df_cleaning)\n",
        "\n",
        "# Handling missing values\n",
        "# Fill missing values with a default value\n",
        "df_filled = df_cleaning.fillna({'Name': 'Unknown', 'Age': df_cleaning['Age'].mean()})\n",
        "print(\"\\nDataFrame after Filling Missing Values:\")\n",
        "print(df_filled)\n",
        "\n",
        "# Drop rows with missing values\n",
        "df_dropped = df_cleaning.dropna()\n",
        "print(\"\\nDataFrame after Dropping Missing Values:\")\n",
        "print(df_dropped)"
      ],
      "metadata": {
        "id": "IYzjXiKfS6sp",
        "colab": {
          "base_uri": "https://localhost:8080/"
        },
        "outputId": "04d55b01-4d40-47f6-f7f0-72fad6498f57"
      },
      "execution_count": 61,
      "outputs": [
        {
          "output_type": "stream",
          "name": "stdout",
          "text": [
            "\n",
            "DataFrame with Missing Values:\n",
            "   Name   Age      City\n",
            "0  John  28.0    Austin\n",
            "1  Mary  22.0   Seattle\n",
            "2  John  28.0    Austin\n",
            "3  Anna   NaN  New York\n",
            "4   NaN  30.0    Boston\n",
            "\n",
            "DataFrame after Filling Missing Values:\n",
            "      Name   Age      City\n",
            "0     John  28.0    Austin\n",
            "1     Mary  22.0   Seattle\n",
            "2     John  28.0    Austin\n",
            "3     Anna  27.0  New York\n",
            "4  Unknown  30.0    Boston\n",
            "\n",
            "DataFrame after Dropping Missing Values:\n",
            "   Name   Age     City\n",
            "0  John  28.0   Austin\n",
            "1  Mary  22.0  Seattle\n",
            "2  John  28.0   Austin\n"
          ]
        }
      ]
    },
    {
      "cell_type": "code",
      "source": [
        "# Removing duplicates\n",
        "# Adding duplicate rows for demonstration\n",
        "df_duplicates = pd.concat([df_cleaning, df_cleaning])\n",
        "print(\"\\nDataFrame with Duplicates:\")\n",
        "print(df_duplicates)"
      ],
      "metadata": {
        "colab": {
          "base_uri": "https://localhost:8080/"
        },
        "id": "gLRiuRRxPVvx",
        "outputId": "23203f0e-a05b-41bb-9344-be34973e269d"
      },
      "execution_count": 62,
      "outputs": [
        {
          "output_type": "stream",
          "name": "stdout",
          "text": [
            "\n",
            "DataFrame with Duplicates:\n",
            "   Name   Age      City\n",
            "0  John  28.0    Austin\n",
            "1  Mary  22.0   Seattle\n",
            "2  John  28.0    Austin\n",
            "3  Anna   NaN  New York\n",
            "4   NaN  30.0    Boston\n",
            "0  John  28.0    Austin\n",
            "1  Mary  22.0   Seattle\n",
            "2  John  28.0    Austin\n",
            "3  Anna   NaN  New York\n",
            "4   NaN  30.0    Boston\n"
          ]
        }
      ]
    },
    {
      "cell_type": "code",
      "source": [
        "# Drop duplicate rows\n",
        "df_unique = df_duplicates.drop_duplicates()\n",
        "print(\"\\nDataFrame after Removing Duplicates:\")\n",
        "print(df_unique)"
      ],
      "metadata": {
        "colab": {
          "base_uri": "https://localhost:8080/"
        },
        "id": "zmm39BOLO9LI",
        "outputId": "dda13db0-ece0-43b1-afe7-b70cd1853678"
      },
      "execution_count": 63,
      "outputs": [
        {
          "output_type": "stream",
          "name": "stdout",
          "text": [
            "\n",
            "DataFrame after Removing Duplicates:\n",
            "   Name   Age      City\n",
            "0  John  28.0    Austin\n",
            "1  Mary  22.0   Seattle\n",
            "3  Anna   NaN  New York\n",
            "4   NaN  30.0    Boston\n"
          ]
        }
      ]
    },
    {
      "cell_type": "markdown",
      "source": [
        "# <font color='red'>**4. Matplotlib Package Basics**</font>"
      ],
      "metadata": {
        "id": "Ed5z-ifOTG6g"
      }
    },
    {
      "cell_type": "markdown",
      "source": [
        "1. Plots and subplots\n",
        "\n",
        "2. Different types of data visualizations - Bar graphs, Histograms, Scatter plot, Box plot, Pie-chart\n",
        "\n",
        "3. 3-D plots  \n",
        "\n",
        "4. Image visualizations and colormaps  "
      ],
      "metadata": {
        "id": "qHIQH4HhrWdA"
      }
    },
    {
      "cell_type": "code",
      "source": [
        "# 1. Introduction to Matplotlib\n",
        "# Matplotlib is a plotting library for Python and provides a variety of plotting functions.\n",
        "import matplotlib.pyplot as plt\n",
        "import numpy as np"
      ],
      "metadata": {
        "id": "uCYVm9R9c1sG"
      },
      "execution_count": 64,
      "outputs": []
    },
    {
      "cell_type": "code",
      "source": [
        "# 2. Creating Basic Plots and Subplots\n",
        "# Description: Create simple plots and arrange multiple plots in a grid.\n",
        "\n",
        "# Single Plot\n",
        "plt.figure(figsize=(6, 4))\n",
        "plt.plot([1, 2, 3, 4], [10, 20, 25, 30], marker='o')\n",
        "plt.title('Simple Line Plot')\n",
        "plt.xlabel('X-axis')\n",
        "plt.ylabel('Y-axis')\n",
        "plt.grid(True)\n",
        "plt.show()"
      ],
      "metadata": {
        "colab": {
          "base_uri": "https://localhost:8080/",
          "height": 410
        },
        "id": "FO5XR2rFc2Yr",
        "outputId": "d63fe909-4bcd-432c-96c6-1f7a44acd28c"
      },
      "execution_count": 65,
      "outputs": [
        {
          "output_type": "display_data",
          "data": {
            "text/plain": [
              "<Figure size 600x400 with 1 Axes>"
            ],
            "image/png": "[encoded data removed]"
          },
          "metadata": {}
        }
      ]
    },
    {
      "cell_type": "code",
      "source": [
        "# Subplots\n",
        "fig, axs = plt.subplots(2, 2, figsize=(6, 4))\n",
        "\n",
        "axs[0, 0].plot([1, 2, 3], [4, 5, 6], 'r-')\n",
        "axs[0, 0].set_title('Plot 1')\n",
        "\n",
        "axs[0, 1].bar(['A', 'B', 'C'], [3, 5, 2], color='b')\n",
        "axs[0, 1].set_title('Bar Graph')\n",
        "\n",
        "axs[1, 0].hist(np.random.randn(100), bins=20, color='g', edgecolor='black')\n",
        "axs[1, 0].set_title('Histogram')\n",
        "\n",
        "axs[1, 1].scatter([1, 2, 3], [4, 5, 6], c='purple', marker='x')\n",
        "axs[1, 1].set_title('Scatter Plot')\n",
        "\n",
        "plt.tight_layout()\n",
        "plt.show()"
      ],
      "metadata": {
        "colab": {
          "base_uri": "https://localhost:8080/",
          "height": 407
        },
        "id": "Ri2h1jhYc8J0",
        "outputId": "64316016-0b2b-46c2-904b-bd9de464f201"
      },
      "execution_count": 66,
      "outputs": [
        {
          "output_type": "display_data",
          "data": {
            "text/plain": [
              "<Figure size 600x400 with 4 Axes>"
            ],
            "image/png": "[encoded data removed]"
          },
          "metadata": {}
        }
      ]
    },
    {
      "cell_type": "code",
      "source": [
        "# 3. Different Types of Data Visualizations\n",
        "\n",
        "# Bar Graph\n",
        "plt.figure(figsize=(4, 2))\n",
        "plt.bar(['Apple', 'Banana', 'Cherry'], [10, 15, 7], color=['red', 'yellow', 'pink'])\n",
        "plt.title('Bar Graph')\n",
        "plt.xlabel('Fruits')\n",
        "plt.ylabel('Quantity')\n",
        "plt.show()"
      ],
      "metadata": {
        "colab": {
          "base_uri": "https://localhost:8080/",
          "height": 256
        },
        "id": "Nw2zF4Dadg3C",
        "outputId": "11f06c21-8187-4f57-af70-047872b40aff"
      },
      "execution_count": 67,
      "outputs": [
        {
          "output_type": "display_data",
          "data": {
            "text/plain": [
              "<Figure size 400x200 with 1 Axes>"
            ],
            "image/png": "[encoded data removed]"
          },
          "metadata": {}
        }
      ]
    },
    {
      "cell_type": "code",
      "source": [
        "# Histogram\n",
        "plt.figure(figsize=(4, 2))\n",
        "plt.hist(np.random.randn(1000), bins=30, color='skyblue', edgecolor='black')\n",
        "plt.title('Histogram')\n",
        "plt.xlabel('Value')\n",
        "plt.ylabel('Frequency')\n",
        "plt.show()"
      ],
      "metadata": {
        "colab": {
          "base_uri": "https://localhost:8080/",
          "height": 256
        },
        "id": "tHFTTeFkds4A",
        "outputId": "69b0a7e6-ef39-40f6-a345-f4977173333e"
      },
      "execution_count": 68,
      "outputs": [
        {
          "output_type": "display_data",
          "data": {
            "text/plain": [
              "<Figure size 400x200 with 1 Axes>"
            ],
            "image/png": "[encoded data removed]"
          },
          "metadata": {}
        }
      ]
    },
    {
      "cell_type": "code",
      "source": [
        "# Scatter Plot\n",
        "plt.figure(figsize=(4, 2))\n",
        "plt.scatter(np.random.rand(50), np.random.rand(50), c='blue', marker='o')\n",
        "plt.title('Scatter Plot')\n",
        "plt.xlabel('X-axis')\n",
        "plt.ylabel('Y-axis')\n",
        "plt.show()"
      ],
      "metadata": {
        "colab": {
          "base_uri": "https://localhost:8080/",
          "height": 256
        },
        "id": "AbF-6kafdtz0",
        "outputId": "d983bc3a-4789-4183-cbb2-b7321ee0cd79"
      },
      "execution_count": 69,
      "outputs": [
        {
          "output_type": "display_data",
          "data": {
            "text/plain": [
              "<Figure size 400x200 with 1 Axes>"
            ],
            "image/png": "[encoded data removed]"
          },
          "metadata": {}
        }
      ]
    },
    {
      "cell_type": "code",
      "source": [
        "# Box Plot\n",
        "\n",
        "plt.figure(figsize=(4, 2))\n",
        "data = [np.random.normal(0, std, 100) for std in range(1, 4)] # np.random.normal(loc, scale, size)\n",
        "plt.boxplot(data, labels=['A', 'B', 'C'])\n",
        "plt.title('Box Plot')\n",
        "plt.ylabel('Values')\n",
        "plt.show()"
      ],
      "metadata": {
        "colab": {
          "base_uri": "https://localhost:8080/",
          "height": 237
        },
        "id": "S5bii5bEdxOF",
        "outputId": "0ac013d6-91d1-44b4-93cd-757256692400"
      },
      "execution_count": 70,
      "outputs": [
        {
          "output_type": "display_data",
          "data": {
            "text/plain": [
              "<Figure size 400x200 with 1 Axes>"
            ],
            "image/png": "[encoded data removed]"
          },
          "metadata": {}
        }
      ]
    },
    {
      "cell_type": "code",
      "source": [
        "# Pie Chart\n",
        "plt.figure(figsize=(4, 2))\n",
        "sizes = [20, 30, 25, 25]\n",
        "labels = ['A', 'B', 'C', 'D']\n",
        "plt.pie(sizes, labels=labels, autopct='%1.1f%%', colors=['lightblue', 'lightgreen', 'lightcoral', 'lightskyblue'])\n",
        "plt.title('Pie Chart')\n",
        "plt.show()"
      ],
      "metadata": {
        "colab": {
          "base_uri": "https://localhost:8080/",
          "height": 213
        },
        "id": "jsYdcmT2d0fY",
        "outputId": "70cc2748-094a-4023-a6d8-f8bb5645661b"
      },
      "execution_count": 71,
      "outputs": [
        {
          "output_type": "display_data",
          "data": {
            "text/plain": [
              "<Figure size 400x200 with 1 Axes>"
            ],
            "image/png": "[encoded data removed]"
          },
          "metadata": {}
        }
      ]
    },
    {
      "cell_type": "code",
      "source": [
        "# 4. 3D Plots\n",
        "# Description: Create 3D plots using Matplotlib.\n",
        "\n",
        "fig = plt.figure(figsize=(10, 7))\n",
        "ax = fig.add_subplot(111, projection='3d')\n",
        "\n",
        "x = np.linspace(-5, 5, 100)\n",
        "y = np.linspace(-5, 5, 100)\n",
        "x, y = np.meshgrid(x, y)\n",
        "z = np.sin(np.sqrt(x**2 + y**2))\n",
        "\n",
        "ax.plot_surface(x, y, z, cmap='viridis')\n",
        "ax.set_title('3D Surface Plot')\n",
        "plt.show()"
      ],
      "metadata": {
        "colab": {
          "base_uri": "https://localhost:8080/",
          "height": 598
        },
        "id": "0pNqW5qJeCug",
        "outputId": "d39bbaa1-3482-4eb0-80b5-59dc030e153f"
      },
      "execution_count": 72,
      "outputs": [
        {
          "output_type": "display_data",
          "data": {
            "text/plain": [
              "<Figure size 1000x700 with 1 Axes>"
            ],
            "image/png": "[encoded data removed]"
          },
          "metadata": {}
        }
      ]
    },
    {
      "cell_type": "code",
      "source": [
        "# 5. Image Visualizations\n",
        "# Description: Display images and apply colormaps to visualize data.\n",
        "\n",
        "# Create a random image\n",
        "image = np.random.rand(10, 10)\n",
        "\n",
        "plt.figure(figsize=(8, 6))\n",
        "plt.imshow(image, cmap='hot', interpolation='nearest')\n",
        "plt.colorbar()\n",
        "plt.title('Image Visualization with Colormap')\n",
        "plt.show()"
      ],
      "metadata": {
        "id": "PURL7CDqTOhi",
        "colab": {
          "base_uri": "https://localhost:8080/",
          "height": 545
        },
        "outputId": "5fccd92b-fc89-4cfb-f3f9-035aac300bf2"
      },
      "execution_count": 73,
      "outputs": [
        {
          "output_type": "display_data",
          "data": {
            "text/plain": [
              "<Figure size 800x600 with 2 Axes>"
            ],
            "image/png": "[encoded data removed]"
          },
          "metadata": {}
        }
      ]
    },
    {
      "cell_type": "code",
      "source": [
        "import matplotlib.pyplot as plt\n",
        "import numpy as np\n",
        "from PIL import Image\n",
        "\n",
        "# Load the image\n",
        "image_path = '/content/flower.png'\n",
        "image = Image.open(image_path)\n",
        "\n",
        "# Convert image to numpy array\n",
        "image_array = np.array(image)\n",
        "\n",
        "# Display the image with a colormap\n",
        "plt.figure(figsize=(5, 3))\n",
        "plt.imshow(image_array)\n",
        "plt.title('Image Visualization with Colormap')\n",
        "plt.show()"
      ],
      "metadata": {
        "colab": {
          "base_uri": "https://localhost:8080/",
          "height": 314
        },
        "id": "GY31MxnLee_Q",
        "outputId": "1219bea3-02fc-4012-d736-f11c04c58699"
      },
      "execution_count": 74,
      "outputs": [
        {
          "output_type": "display_data",
          "data": {
            "text/plain": [
              "<Figure size 500x300 with 1 Axes>"
            ],
            "image/png": "[encoded data removed]"
          },
          "metadata": {}
        }
      ]
    }
  ]
}