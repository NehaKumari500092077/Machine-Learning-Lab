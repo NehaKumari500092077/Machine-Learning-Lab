{
  "nbformat": 4,
  "nbformat_minor": 0,
  "metadata": {
    "colab": {
      "provenance": [],
      "include_colab_link": true
    },
    "kernelspec": {
      "name": "python3",
      "display_name": "Python 3"
    },
    "language_info": {
      "name": "python"
    }
  },
  "cells": [
    {
      "cell_type": "markdown",
      "metadata": {
        "id": "view-in-github",
        "colab_type": "text"
      },
      "source": [
        "<a href=\"https://colab.research.google.com/github/NehaKumari500092077/Machine-Learning-Lab/blob/main/Session_3_Assignments_Solution.ipynb\" target=\"_parent\"><img src=\"https://colab.research.google.com/assets/colab-badge.svg\" alt=\"Open In Colab\"/></a>"
      ]
    },
    {
      "cell_type": "code",
      "source": [
        "import pandas as pd\n",
        "import numpy as np\n",
        "from sklearn.preprocessing import StandardScaler\n",
        "from sklearn.model_selection import train_test_split\n",
        "from sklearn.linear_model import LogisticRegression as SklearnLogisticRegression\n",
        "from sklearn.metrics import confusion_matrix, precision_score, recall_score, average_precision_score, precision_recall_curve\n",
        "import matplotlib.pyplot as plt"
      ],
      "metadata": {
        "id": "RVIaOQm7nNIf"
      },
      "execution_count": null,
      "outputs": []
    },
    {
      "cell_type": "code",
      "source": [
        "# Load the dataset\n",
        "data = pd.read_csv(\"https://archive.ics.uci.edu/static/public/94/data.csv\")"
      ],
      "metadata": {
        "id": "hr3FpnT-nNsT"
      },
      "execution_count": null,
      "outputs": []
    },
    {
      "cell_type": "code",
      "source": [
        "# Check for duplicates and missing values\n",
        "print(\"Number of duplicate entries:\", data.duplicated().sum())\n",
        "print(\"Missing values per feature:\\n\", data.isnull().sum())"
      ],
      "metadata": {
        "colab": {
          "base_uri": "https://localhost:8080/"
        },
        "id": "6QBiyyDDnQlt",
        "outputId": "d56aee0b-ac07-4a67-a929-212fc2f34668"
      },
      "execution_count": null,
      "outputs": [
        {
          "output_type": "stream",
          "name": "stdout",
          "text": [
            "Number of duplicate entries: 391\n",
            "Missing values per feature:\n",
            " word_freq_make                0\n",
            "word_freq_address             0\n",
            "word_freq_all                 0\n",
            "word_freq_3d                  0\n",
            "word_freq_our                 0\n",
            "word_freq_over                0\n",
            "word_freq_remove              0\n",
            "word_freq_internet            0\n",
            "word_freq_order               0\n",
            "word_freq_mail                0\n",
            "word_freq_receive             0\n",
            "word_freq_will                0\n",
            "word_freq_people              0\n",
            "word_freq_report              0\n",
            "word_freq_addresses           0\n",
            "word_freq_free                0\n",
            "word_freq_business            0\n",
            "word_freq_email               0\n",
            "word_freq_you                 0\n",
            "word_freq_credit              0\n",
            "word_freq_your                0\n",
            "word_freq_font                0\n",
            "word_freq_000                 0\n",
            "word_freq_money               0\n",
            "word_freq_hp                  0\n",
            "word_freq_hpl                 0\n",
            "word_freq_george              0\n",
            "word_freq_650                 0\n",
            "word_freq_lab                 0\n",
            "word_freq_labs                0\n",
            "word_freq_telnet              0\n",
            "word_freq_857                 0\n",
            "word_freq_data                0\n",
            "word_freq_415                 0\n",
            "word_freq_85                  0\n",
            "word_freq_technology          0\n",
            "word_freq_1999                0\n",
            "word_freq_parts               0\n",
            "word_freq_pm                  0\n",
            "word_freq_direct              0\n",
            "word_freq_cs                  0\n",
            "word_freq_meeting             0\n",
            "word_freq_original            0\n",
            "word_freq_project             0\n",
            "word_freq_re                  0\n",
            "word_freq_edu                 0\n",
            "word_freq_table               0\n",
            "word_freq_conference          0\n",
            "char_freq_;                   0\n",
            "char_freq_(                   0\n",
            "char_freq_[                   0\n",
            "char_freq_!                   0\n",
            "char_freq_$                   0\n",
            "char_freq_#                   0\n",
            "capital_run_length_average    0\n",
            "capital_run_length_longest    0\n",
            "capital_run_length_total      0\n",
            "Class                         0\n",
            "dtype: int64\n"
          ]
        }
      ]
    },
    {
      "cell_type": "code",
      "source": [
        "# Check for duplicates and missing values\n",
        "data = data.drop_duplicates().dropna()"
      ],
      "metadata": {
        "id": "34w1yjjwnWNp"
      },
      "execution_count": null,
      "outputs": []
    },
    {
      "cell_type": "code",
      "source": [
        "# Separate features and target variable\n",
        "X = data.iloc[:, :-1]\n",
        "y = data.iloc[:, -1]\n",
        "\n",
        "# Feature scaling\n",
        "scaler = StandardScaler()\n",
        "X_scaled = scaler.fit_transform(X)\n",
        "\n",
        "# Convert scaled features back to a DataFrame\n",
        "X_scaled_df = pd.DataFrame(X_scaled, columns=X.columns)\n",
        "\n",
        "# Split the data into training (70%), validation (15%), and test (15%) sets\n",
        "X_train, X_temp, y_train, y_temp = train_test_split(X_scaled_df, y, test_size=0.3, random_state=42)\n",
        "X_val, X_test, y_val, y_test = train_test_split(X_temp, y_temp, test_size=0.5, random_state=42)"
      ],
      "metadata": {
        "id": "t6_WqUMYnd8j"
      },
      "execution_count": null,
      "outputs": []
    },
    {
      "cell_type": "code",
      "execution_count": null,
      "metadata": {
        "id": "KyLbSuIHlKQq"
      },
      "outputs": [],
      "source": [
        "# Custom Logistic Regression Implementation\n",
        "class LogisticRegression:\n",
        "    def __init__(self, learning_rate=0.01, regularization_param=0.01, num_iterations=1000):\n",
        "        self.learning_rate = learning_rate\n",
        "        self.regularization_param = regularization_param\n",
        "        self.num_iterations = num_iterations\n",
        "\n",
        "    def sigmoid(self, z):\n",
        "        return 1 / (1 + np.exp(-z))\n",
        "\n",
        "    def fit(self, X, y):\n",
        "        self.m, self.n = X.shape\n",
        "        self.theta = np.zeros(self.n)\n",
        "        self.bias = 0\n",
        "\n",
        "        for i in range(self.num_iterations):\n",
        "            linear_model = np.dot(X, self.theta) + self.bias\n",
        "            y_pred = self.sigmoid(linear_model)\n",
        "\n",
        "            # Compute gradients\n",
        "            dw = (1 / self.m) * np.dot(X.T, (y_pred - y)) + (self.regularization_param / self.m) * np.sign(self.theta)\n",
        "            db = (1 / self.m) * np.sum(y_pred - y)\n",
        "\n",
        "            # Update parameters\n",
        "            self.theta -= self.learning_rate * dw\n",
        "            self.bias -= self.learning_rate * db\n",
        "\n",
        "    def predict_proba(self, X):\n",
        "        linear_model = np.dot(X, self.theta) + self.bias\n",
        "        y_pred = self.sigmoid(linear_model)\n",
        "        return y_pred\n",
        "\n",
        "    def predict(self, X):\n",
        "        return self.predict_proba(X) >= 0.5"
      ]
    },
    {
      "cell_type": "code",
      "source": [
        "# Train custom model\n",
        "custom_model = LogisticRegression(learning_rate=0.001, regularization_param=0.01, num_iterations=5000)\n",
        "custom_model.fit(X_train, y_train)\n",
        "\n",
        "# Predict and evaluate custom model\n",
        "y_custom_proba = custom_model.predict_proba(X_test)\n",
        "y_custom_pred = custom_model.predict(X_test)\n",
        "conf_matrix_custom = confusion_matrix(y_test, y_custom_pred)\n",
        "precision_custom = precision_score(y_test, y_custom_pred)\n",
        "recall_custom = recall_score(y_test, y_custom_pred)\n",
        "average_precision_custom = average_precision_score(y_test, y_custom_proba)\n",
        "\n",
        "print(\"Custom Model Performance:\")\n",
        "print(\"Confusion Matrix:\\n\", conf_matrix_custom)\n",
        "print(\"Precision:\", precision_custom)\n",
        "print(\"Recall:\", recall_custom)\n",
        "print(\"Area under Precision-Recall Curve:\", average_precision_custom)"
      ],
      "metadata": {
        "colab": {
          "base_uri": "https://localhost:8080/"
        },
        "id": "iC2-4WNOnpGy",
        "outputId": "5d32050f-d84d-4fdd-b4b3-2536c8fee48e"
      },
      "execution_count": null,
      "outputs": [
        {
          "output_type": "stream",
          "name": "stdout",
          "text": [
            "Custom Model Performance:\n",
            "Confusion Matrix:\n",
            " [[345  23]\n",
            " [ 46 218]]\n",
            "Precision: 0.9045643153526971\n",
            "Recall: 0.8257575757575758\n",
            "Area under Precision-Recall Curve: 0.9279480563019082\n"
          ]
        }
      ]
    },
    {
      "cell_type": "code",
      "source": [
        "# Train scikit-learn model\n",
        "sklearn_model = SklearnLogisticRegression(penalty='l1', solver='saga', max_iter=5000, random_state=42)\n",
        "sklearn_model.fit(X_train, y_train)\n",
        "\n",
        "# Predict probabilities\n",
        "y_sklearn_proba = sklearn_model.predict_proba(X_test)[:, 1]\n",
        "\n",
        "# Evaluate scikit-learn model\n",
        "precision_sklearn, recall_sklearn, _ = precision_recall_curve(y_test, y_sklearn_proba)\n",
        "average_precision_sklearn = average_precision_score(y_test, y_sklearn_proba)\n",
        "\n",
        "print(\"Scikit-learn Model Performance:\")\n",
        "print(\"Area under Precision-Recall Curve:\", average_precision_sklearn)"
      ],
      "metadata": {
        "colab": {
          "base_uri": "https://localhost:8080/"
        },
        "id": "TqdwMTYUnuc0",
        "outputId": "292610d7-144e-4306-a929-f6b366def11d"
      },
      "execution_count": null,
      "outputs": [
        {
          "output_type": "stream",
          "name": "stdout",
          "text": [
            "Scikit-learn Model Performance:\n",
            "Area under Precision-Recall Curve: 0.9491847420270513\n"
          ]
        }
      ]
    },
    {
      "cell_type": "code",
      "source": [
        "# Plot Precision-Recall curve comparison\n",
        "plt.figure(figsize=(4, 3))\n",
        "\n",
        "# Custom model precision-recall\n",
        "precision_custom, recall_custom, _ = precision_recall_curve(y_test, y_custom_proba)\n",
        "plt.plot(recall_custom, precision_custom, label='Custom Model', color='blue')\n",
        "\n",
        "# Scikit-learn precision-recall\n",
        "plt.plot(recall_sklearn, precision_sklearn, label='Scikit-learn Model', linestyle='--', color='red')\n",
        "\n",
        "plt.xlabel('Recall')\n",
        "plt.ylabel('Precision')\n",
        "plt.title('Precision-Recall Curve Comparison')\n",
        "plt.legend()\n",
        "plt.show()"
      ],
      "metadata": {
        "colab": {
          "base_uri": "https://localhost:8080/",
          "height": 333
        },
        "id": "7XU0_HMfn3wk",
        "outputId": "8777cca2-9d71-4929-d9ec-fe82ecf904be"
      },
      "execution_count": null,
      "outputs": [
        {
          "output_type": "display_data",
          "data": {
            "text/plain": [
              "<Figure size 400x300 with 1 Axes>"
            ],
            "image/png": "[encoded data removed]"
          },
          "metadata": {}
        }
      ]
    },
    {
      "cell_type": "code",
      "source": [],
      "metadata": {
        "id": "CjZVuU1nmsl0"
      },
      "execution_count": null,
      "outputs": []
    }
  ]
}